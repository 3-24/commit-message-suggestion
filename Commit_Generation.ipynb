{
  "nbformat": 4,
  "nbformat_minor": 0,
  "metadata": {
    "colab": {
      "name": "Commit Generation.ipynb",
      "provenance": []
    },
    "kernelspec": {
      "name": "python3",
      "display_name": "Python 3"
    },
    "language_info": {
      "name": "python"
    },
    "accelerator": "GPU",
    "widgets": {
      "application/vnd.jupyter.widget-state+json": {
        "d32b0f0d4bf74fc19e6cff799311e0ed": {
          "model_module": "@jupyter-widgets/controls",
          "model_name": "HBoxModel",
          "model_module_version": "1.5.0",
          "state": {
            "_view_name": "HBoxView",
            "_dom_classes": [],
            "_model_name": "HBoxModel",
            "_view_module": "@jupyter-widgets/controls",
            "_model_module_version": "1.5.0",
            "_view_count": null,
            "_view_module_version": "1.5.0",
            "box_style": "",
            "layout": "IPY_MODEL_a607eff1474b4b0cbea22ac8e05184d3",
            "_model_module": "@jupyter-widgets/controls",
            "children": [
              "IPY_MODEL_43a0c14ece5b4c83bd14460f4fa4c5ef",
              "IPY_MODEL_f4b34f3bd2e54d568b55ea1646ca1666",
              "IPY_MODEL_c1955c0659d34caaa3eb4651eb0fe780"
            ]
          }
        },
        "a607eff1474b4b0cbea22ac8e05184d3": {
          "model_module": "@jupyter-widgets/base",
          "model_name": "LayoutModel",
          "model_module_version": "1.2.0",
          "state": {
            "_view_name": "LayoutView",
            "grid_template_rows": null,
            "right": null,
            "justify_content": null,
            "_view_module": "@jupyter-widgets/base",
            "overflow": null,
            "_model_module_version": "1.2.0",
            "_view_count": null,
            "flex_flow": "row wrap",
            "width": "100%",
            "min_width": null,
            "border": null,
            "align_items": null,
            "bottom": null,
            "_model_module": "@jupyter-widgets/base",
            "top": null,
            "grid_column": null,
            "overflow_y": null,
            "overflow_x": null,
            "grid_auto_flow": null,
            "grid_area": null,
            "grid_template_columns": null,
            "flex": null,
            "_model_name": "LayoutModel",
            "justify_items": null,
            "grid_row": null,
            "max_height": null,
            "align_content": null,
            "visibility": null,
            "align_self": null,
            "height": null,
            "min_height": null,
            "padding": null,
            "grid_auto_rows": null,
            "grid_gap": null,
            "max_width": null,
            "order": null,
            "_view_module_version": "1.2.0",
            "grid_template_areas": null,
            "object_position": null,
            "object_fit": null,
            "grid_auto_columns": null,
            "margin": null,
            "display": "inline-flex",
            "left": null
          }
        },
        "43a0c14ece5b4c83bd14460f4fa4c5ef": {
          "model_module": "@jupyter-widgets/controls",
          "model_name": "HTMLModel",
          "model_module_version": "1.5.0",
          "state": {
            "_view_name": "HTMLView",
            "style": "IPY_MODEL_7fead9032d194ee58a943d756e68d563",
            "_dom_classes": [],
            "description": "",
            "_model_name": "HTMLModel",
            "placeholder": "​",
            "_view_module": "@jupyter-widgets/controls",
            "_model_module_version": "1.5.0",
            "value": "Validation sanity check:   0%",
            "_view_count": null,
            "_view_module_version": "1.5.0",
            "description_tooltip": null,
            "_model_module": "@jupyter-widgets/controls",
            "layout": "IPY_MODEL_04c819663d014755958cb7095fe6f669"
          }
        },
        "f4b34f3bd2e54d568b55ea1646ca1666": {
          "model_module": "@jupyter-widgets/controls",
          "model_name": "FloatProgressModel",
          "model_module_version": "1.5.0",
          "state": {
            "_view_name": "ProgressView",
            "style": "IPY_MODEL_d3470b4fd6dc42939f2845b46f77098f",
            "_dom_classes": [],
            "description": "",
            "_model_name": "FloatProgressModel",
            "bar_style": "danger",
            "max": 2,
            "_view_module": "@jupyter-widgets/controls",
            "_model_module_version": "1.5.0",
            "value": 0,
            "_view_count": null,
            "_view_module_version": "1.5.0",
            "orientation": "horizontal",
            "min": 0,
            "description_tooltip": null,
            "_model_module": "@jupyter-widgets/controls",
            "layout": "IPY_MODEL_33c766c1fdf2455cbe3fdeb926fbc1fb"
          }
        },
        "c1955c0659d34caaa3eb4651eb0fe780": {
          "model_module": "@jupyter-widgets/controls",
          "model_name": "HTMLModel",
          "model_module_version": "1.5.0",
          "state": {
            "_view_name": "HTMLView",
            "style": "IPY_MODEL_07f70de970564abe85248a9caa8aebd7",
            "_dom_classes": [],
            "description": "",
            "_model_name": "HTMLModel",
            "placeholder": "​",
            "_view_module": "@jupyter-widgets/controls",
            "_model_module_version": "1.5.0",
            "value": " 0/2 [00:00&lt;?, ?it/s]",
            "_view_count": null,
            "_view_module_version": "1.5.0",
            "description_tooltip": null,
            "_model_module": "@jupyter-widgets/controls",
            "layout": "IPY_MODEL_ad4805115d464d37bf1007a3ee15127b"
          }
        },
        "7fead9032d194ee58a943d756e68d563": {
          "model_module": "@jupyter-widgets/controls",
          "model_name": "DescriptionStyleModel",
          "model_module_version": "1.5.0",
          "state": {
            "_view_name": "StyleView",
            "_model_name": "DescriptionStyleModel",
            "description_width": "",
            "_view_module": "@jupyter-widgets/base",
            "_model_module_version": "1.5.0",
            "_view_count": null,
            "_view_module_version": "1.2.0",
            "_model_module": "@jupyter-widgets/controls"
          }
        },
        "04c819663d014755958cb7095fe6f669": {
          "model_module": "@jupyter-widgets/base",
          "model_name": "LayoutModel",
          "model_module_version": "1.2.0",
          "state": {
            "_view_name": "LayoutView",
            "grid_template_rows": null,
            "right": null,
            "justify_content": null,
            "_view_module": "@jupyter-widgets/base",
            "overflow": null,
            "_model_module_version": "1.2.0",
            "_view_count": null,
            "flex_flow": null,
            "width": null,
            "min_width": null,
            "border": null,
            "align_items": null,
            "bottom": null,
            "_model_module": "@jupyter-widgets/base",
            "top": null,
            "grid_column": null,
            "overflow_y": null,
            "overflow_x": null,
            "grid_auto_flow": null,
            "grid_area": null,
            "grid_template_columns": null,
            "flex": null,
            "_model_name": "LayoutModel",
            "justify_items": null,
            "grid_row": null,
            "max_height": null,
            "align_content": null,
            "visibility": null,
            "align_self": null,
            "height": null,
            "min_height": null,
            "padding": null,
            "grid_auto_rows": null,
            "grid_gap": null,
            "max_width": null,
            "order": null,
            "_view_module_version": "1.2.0",
            "grid_template_areas": null,
            "object_position": null,
            "object_fit": null,
            "grid_auto_columns": null,
            "margin": null,
            "display": null,
            "left": null
          }
        },
        "d3470b4fd6dc42939f2845b46f77098f": {
          "model_module": "@jupyter-widgets/controls",
          "model_name": "ProgressStyleModel",
          "model_module_version": "1.5.0",
          "state": {
            "_view_name": "StyleView",
            "_model_name": "ProgressStyleModel",
            "description_width": "",
            "_view_module": "@jupyter-widgets/base",
            "_model_module_version": "1.5.0",
            "_view_count": null,
            "_view_module_version": "1.2.0",
            "bar_color": null,
            "_model_module": "@jupyter-widgets/controls"
          }
        },
        "33c766c1fdf2455cbe3fdeb926fbc1fb": {
          "model_module": "@jupyter-widgets/base",
          "model_name": "LayoutModel",
          "model_module_version": "1.2.0",
          "state": {
            "_view_name": "LayoutView",
            "grid_template_rows": null,
            "right": null,
            "justify_content": null,
            "_view_module": "@jupyter-widgets/base",
            "overflow": null,
            "_model_module_version": "1.2.0",
            "_view_count": null,
            "flex_flow": null,
            "width": null,
            "min_width": null,
            "border": null,
            "align_items": null,
            "bottom": null,
            "_model_module": "@jupyter-widgets/base",
            "top": null,
            "grid_column": null,
            "overflow_y": null,
            "overflow_x": null,
            "grid_auto_flow": null,
            "grid_area": null,
            "grid_template_columns": null,
            "flex": "2",
            "_model_name": "LayoutModel",
            "justify_items": null,
            "grid_row": null,
            "max_height": null,
            "align_content": null,
            "visibility": null,
            "align_self": null,
            "height": null,
            "min_height": null,
            "padding": null,
            "grid_auto_rows": null,
            "grid_gap": null,
            "max_width": null,
            "order": null,
            "_view_module_version": "1.2.0",
            "grid_template_areas": null,
            "object_position": null,
            "object_fit": null,
            "grid_auto_columns": null,
            "margin": null,
            "display": null,
            "left": null
          }
        },
        "07f70de970564abe85248a9caa8aebd7": {
          "model_module": "@jupyter-widgets/controls",
          "model_name": "DescriptionStyleModel",
          "model_module_version": "1.5.0",
          "state": {
            "_view_name": "StyleView",
            "_model_name": "DescriptionStyleModel",
            "description_width": "",
            "_view_module": "@jupyter-widgets/base",
            "_model_module_version": "1.5.0",
            "_view_count": null,
            "_view_module_version": "1.2.0",
            "_model_module": "@jupyter-widgets/controls"
          }
        },
        "ad4805115d464d37bf1007a3ee15127b": {
          "model_module": "@jupyter-widgets/base",
          "model_name": "LayoutModel",
          "model_module_version": "1.2.0",
          "state": {
            "_view_name": "LayoutView",
            "grid_template_rows": null,
            "right": null,
            "justify_content": null,
            "_view_module": "@jupyter-widgets/base",
            "overflow": null,
            "_model_module_version": "1.2.0",
            "_view_count": null,
            "flex_flow": null,
            "width": null,
            "min_width": null,
            "border": null,
            "align_items": null,
            "bottom": null,
            "_model_module": "@jupyter-widgets/base",
            "top": null,
            "grid_column": null,
            "overflow_y": null,
            "overflow_x": null,
            "grid_auto_flow": null,
            "grid_area": null,
            "grid_template_columns": null,
            "flex": null,
            "_model_name": "LayoutModel",
            "justify_items": null,
            "grid_row": null,
            "max_height": null,
            "align_content": null,
            "visibility": null,
            "align_self": null,
            "height": null,
            "min_height": null,
            "padding": null,
            "grid_auto_rows": null,
            "grid_gap": null,
            "max_width": null,
            "order": null,
            "_view_module_version": "1.2.0",
            "grid_template_areas": null,
            "object_position": null,
            "object_fit": null,
            "grid_auto_columns": null,
            "margin": null,
            "display": null,
            "left": null
          }
        },
        "696c14819a5c4cf6a5ad00a140e4ebb0": {
          "model_module": "@jupyter-widgets/controls",
          "model_name": "HBoxModel",
          "model_module_version": "1.5.0",
          "state": {
            "_view_name": "HBoxView",
            "_dom_classes": [],
            "_model_name": "HBoxModel",
            "_view_module": "@jupyter-widgets/controls",
            "_model_module_version": "1.5.0",
            "_view_count": null,
            "_view_module_version": "1.5.0",
            "box_style": "",
            "layout": "IPY_MODEL_6b24a96e2eac44308a43e969719fabb0",
            "_model_module": "@jupyter-widgets/controls",
            "children": [
              "IPY_MODEL_9a610c19dbcd45bfbf80ea488e361ce9",
              "IPY_MODEL_c45faf659a7446acbcf5fb2843c85562",
              "IPY_MODEL_d8f241da7eb642ddb4fc38edc85a1df9"
            ]
          }
        },
        "6b24a96e2eac44308a43e969719fabb0": {
          "model_module": "@jupyter-widgets/base",
          "model_name": "LayoutModel",
          "model_module_version": "1.2.0",
          "state": {
            "_view_name": "LayoutView",
            "grid_template_rows": null,
            "right": null,
            "justify_content": null,
            "_view_module": "@jupyter-widgets/base",
            "overflow": null,
            "_model_module_version": "1.2.0",
            "_view_count": null,
            "flex_flow": "row wrap",
            "width": "100%",
            "min_width": null,
            "border": null,
            "align_items": null,
            "bottom": null,
            "_model_module": "@jupyter-widgets/base",
            "top": null,
            "grid_column": null,
            "overflow_y": null,
            "overflow_x": null,
            "grid_auto_flow": null,
            "grid_area": null,
            "grid_template_columns": null,
            "flex": null,
            "_model_name": "LayoutModel",
            "justify_items": null,
            "grid_row": null,
            "max_height": null,
            "align_content": null,
            "visibility": null,
            "align_self": null,
            "height": null,
            "min_height": null,
            "padding": null,
            "grid_auto_rows": null,
            "grid_gap": null,
            "max_width": null,
            "order": null,
            "_view_module_version": "1.2.0",
            "grid_template_areas": null,
            "object_position": null,
            "object_fit": null,
            "grid_auto_columns": null,
            "margin": null,
            "display": "inline-flex",
            "left": null
          }
        },
        "9a610c19dbcd45bfbf80ea488e361ce9": {
          "model_module": "@jupyter-widgets/controls",
          "model_name": "HTMLModel",
          "model_module_version": "1.5.0",
          "state": {
            "_view_name": "HTMLView",
            "style": "IPY_MODEL_1dd5b3551ad94f5588a3b6c1595e89ce",
            "_dom_classes": [],
            "description": "",
            "_model_name": "HTMLModel",
            "placeholder": "​",
            "_view_module": "@jupyter-widgets/controls",
            "_model_module_version": "1.5.0",
            "value": "Epoch 0:   4%",
            "_view_count": null,
            "_view_module_version": "1.5.0",
            "description_tooltip": null,
            "_model_module": "@jupyter-widgets/controls",
            "layout": "IPY_MODEL_bd0db2d6dd5e48edbf90f73ba0608e96"
          }
        },
        "c45faf659a7446acbcf5fb2843c85562": {
          "model_module": "@jupyter-widgets/controls",
          "model_name": "FloatProgressModel",
          "model_module_version": "1.5.0",
          "state": {
            "_view_name": "ProgressView",
            "style": "IPY_MODEL_dc2fff3f0389438e975e550f2c6ea18e",
            "_dom_classes": [],
            "description": "",
            "_model_name": "FloatProgressModel",
            "bar_style": "",
            "max": 38554,
            "_view_module": "@jupyter-widgets/controls",
            "_model_module_version": "1.5.0",
            "value": 1660,
            "_view_count": null,
            "_view_module_version": "1.5.0",
            "orientation": "horizontal",
            "min": 0,
            "description_tooltip": null,
            "_model_module": "@jupyter-widgets/controls",
            "layout": "IPY_MODEL_0c2b8c6e49af4319bb22f516f9267111"
          }
        },
        "d8f241da7eb642ddb4fc38edc85a1df9": {
          "model_module": "@jupyter-widgets/controls",
          "model_name": "HTMLModel",
          "model_module_version": "1.5.0",
          "state": {
            "_view_name": "HTMLView",
            "style": "IPY_MODEL_bd636c39384c49bfb067bbfe92fee0e2",
            "_dom_classes": [],
            "description": "",
            "_model_name": "HTMLModel",
            "placeholder": "​",
            "_view_module": "@jupyter-widgets/controls",
            "_model_module_version": "1.5.0",
            "value": " 1660/38554 [03:07&lt;1:09:20,  8.87it/s, loss=5.18, v_num=0]",
            "_view_count": null,
            "_view_module_version": "1.5.0",
            "description_tooltip": null,
            "_model_module": "@jupyter-widgets/controls",
            "layout": "IPY_MODEL_32db67c88a7b4d60b9fae6520666561e"
          }
        },
        "1dd5b3551ad94f5588a3b6c1595e89ce": {
          "model_module": "@jupyter-widgets/controls",
          "model_name": "DescriptionStyleModel",
          "model_module_version": "1.5.0",
          "state": {
            "_view_name": "StyleView",
            "_model_name": "DescriptionStyleModel",
            "description_width": "",
            "_view_module": "@jupyter-widgets/base",
            "_model_module_version": "1.5.0",
            "_view_count": null,
            "_view_module_version": "1.2.0",
            "_model_module": "@jupyter-widgets/controls"
          }
        },
        "bd0db2d6dd5e48edbf90f73ba0608e96": {
          "model_module": "@jupyter-widgets/base",
          "model_name": "LayoutModel",
          "model_module_version": "1.2.0",
          "state": {
            "_view_name": "LayoutView",
            "grid_template_rows": null,
            "right": null,
            "justify_content": null,
            "_view_module": "@jupyter-widgets/base",
            "overflow": null,
            "_model_module_version": "1.2.0",
            "_view_count": null,
            "flex_flow": null,
            "width": null,
            "min_width": null,
            "border": null,
            "align_items": null,
            "bottom": null,
            "_model_module": "@jupyter-widgets/base",
            "top": null,
            "grid_column": null,
            "overflow_y": null,
            "overflow_x": null,
            "grid_auto_flow": null,
            "grid_area": null,
            "grid_template_columns": null,
            "flex": null,
            "_model_name": "LayoutModel",
            "justify_items": null,
            "grid_row": null,
            "max_height": null,
            "align_content": null,
            "visibility": null,
            "align_self": null,
            "height": null,
            "min_height": null,
            "padding": null,
            "grid_auto_rows": null,
            "grid_gap": null,
            "max_width": null,
            "order": null,
            "_view_module_version": "1.2.0",
            "grid_template_areas": null,
            "object_position": null,
            "object_fit": null,
            "grid_auto_columns": null,
            "margin": null,
            "display": null,
            "left": null
          }
        },
        "dc2fff3f0389438e975e550f2c6ea18e": {
          "model_module": "@jupyter-widgets/controls",
          "model_name": "ProgressStyleModel",
          "model_module_version": "1.5.0",
          "state": {
            "_view_name": "StyleView",
            "_model_name": "ProgressStyleModel",
            "description_width": "",
            "_view_module": "@jupyter-widgets/base",
            "_model_module_version": "1.5.0",
            "_view_count": null,
            "_view_module_version": "1.2.0",
            "bar_color": null,
            "_model_module": "@jupyter-widgets/controls"
          }
        },
        "0c2b8c6e49af4319bb22f516f9267111": {
          "model_module": "@jupyter-widgets/base",
          "model_name": "LayoutModel",
          "model_module_version": "1.2.0",
          "state": {
            "_view_name": "LayoutView",
            "grid_template_rows": null,
            "right": null,
            "justify_content": null,
            "_view_module": "@jupyter-widgets/base",
            "overflow": null,
            "_model_module_version": "1.2.0",
            "_view_count": null,
            "flex_flow": null,
            "width": null,
            "min_width": null,
            "border": null,
            "align_items": null,
            "bottom": null,
            "_model_module": "@jupyter-widgets/base",
            "top": null,
            "grid_column": null,
            "overflow_y": null,
            "overflow_x": null,
            "grid_auto_flow": null,
            "grid_area": null,
            "grid_template_columns": null,
            "flex": "2",
            "_model_name": "LayoutModel",
            "justify_items": null,
            "grid_row": null,
            "max_height": null,
            "align_content": null,
            "visibility": null,
            "align_self": null,
            "height": null,
            "min_height": null,
            "padding": null,
            "grid_auto_rows": null,
            "grid_gap": null,
            "max_width": null,
            "order": null,
            "_view_module_version": "1.2.0",
            "grid_template_areas": null,
            "object_position": null,
            "object_fit": null,
            "grid_auto_columns": null,
            "margin": null,
            "display": null,
            "left": null
          }
        },
        "bd636c39384c49bfb067bbfe92fee0e2": {
          "model_module": "@jupyter-widgets/controls",
          "model_name": "DescriptionStyleModel",
          "model_module_version": "1.5.0",
          "state": {
            "_view_name": "StyleView",
            "_model_name": "DescriptionStyleModel",
            "description_width": "",
            "_view_module": "@jupyter-widgets/base",
            "_model_module_version": "1.5.0",
            "_view_count": null,
            "_view_module_version": "1.2.0",
            "_model_module": "@jupyter-widgets/controls"
          }
        },
        "32db67c88a7b4d60b9fae6520666561e": {
          "model_module": "@jupyter-widgets/base",
          "model_name": "LayoutModel",
          "model_module_version": "1.2.0",
          "state": {
            "_view_name": "LayoutView",
            "grid_template_rows": null,
            "right": null,
            "justify_content": null,
            "_view_module": "@jupyter-widgets/base",
            "overflow": null,
            "_model_module_version": "1.2.0",
            "_view_count": null,
            "flex_flow": null,
            "width": null,
            "min_width": null,
            "border": null,
            "align_items": null,
            "bottom": null,
            "_model_module": "@jupyter-widgets/base",
            "top": null,
            "grid_column": null,
            "overflow_y": null,
            "overflow_x": null,
            "grid_auto_flow": null,
            "grid_area": null,
            "grid_template_columns": null,
            "flex": null,
            "_model_name": "LayoutModel",
            "justify_items": null,
            "grid_row": null,
            "max_height": null,
            "align_content": null,
            "visibility": null,
            "align_self": null,
            "height": null,
            "min_height": null,
            "padding": null,
            "grid_auto_rows": null,
            "grid_gap": null,
            "max_width": null,
            "order": null,
            "_view_module_version": "1.2.0",
            "grid_template_areas": null,
            "object_position": null,
            "object_fit": null,
            "grid_auto_columns": null,
            "margin": null,
            "display": null,
            "left": null
          }
        }
      }
    }
  },
  "cells": [
    {
      "cell_type": "code",
      "metadata": {
        "id": "LNdEvLAmj3cy",
        "colab": {
          "base_uri": "https://localhost:8080/"
        },
        "outputId": "fef4bf5b-80ac-4a1e-e299-cb521508b7e9"
      },
      "source": [
        "# mount drive https://datascience.stackexchange.com/questions/29480/uploading-images-folder-from-my-system-into-google-colab\n",
        "# login with your google account and type authorization code to mount on your googlbie drive.\n",
        "from google.colab import drive\n",
        "drive._mount('/gdrive')\n",
        "root = '/gdrive/My Drive/CS492I/project'"
      ],
      "execution_count": 1,
      "outputs": [
        {
          "output_type": "stream",
          "name": "stdout",
          "text": [
            "Mounted at /gdrive\n"
          ]
        }
      ]
    },
    {
      "cell_type": "markdown",
      "source": [
        "#import"
      ],
      "metadata": {
        "id": "1Qdmd_kIyTCN"
      }
    },
    {
      "cell_type": "code",
      "source": [
        "!pip install pytorch_lightning"
      ],
      "metadata": {
        "colab": {
          "base_uri": "https://localhost:8080/"
        },
        "id": "-CKe2zOQtms3",
        "outputId": "9512f130-08d2-416f-984e-28af45f31c5a"
      },
      "execution_count": 2,
      "outputs": [
        {
          "output_type": "stream",
          "name": "stdout",
          "text": [
            "Collecting pytorch_lightning\n",
            "  Downloading pytorch_lightning-1.5.5-py3-none-any.whl (525 kB)\n",
            "\u001b[K     |████████████████████████████████| 525 kB 4.3 MB/s \n",
            "\u001b[?25hRequirement already satisfied: tensorboard>=2.2.0 in /usr/local/lib/python3.7/dist-packages (from pytorch_lightning) (2.7.0)\n",
            "Collecting fsspec[http]!=2021.06.0,>=2021.05.0\n",
            "  Downloading fsspec-2021.11.1-py3-none-any.whl (132 kB)\n",
            "\u001b[K     |████████████████████████████████| 132 kB 49.7 MB/s \n",
            "\u001b[?25hCollecting torchmetrics>=0.4.1\n",
            "  Downloading torchmetrics-0.6.1-py3-none-any.whl (332 kB)\n",
            "\u001b[K     |████████████████████████████████| 332 kB 45.0 MB/s \n",
            "\u001b[?25hCollecting PyYAML>=5.1\n",
            "  Downloading PyYAML-6.0-cp37-cp37m-manylinux_2_5_x86_64.manylinux1_x86_64.manylinux_2_12_x86_64.manylinux2010_x86_64.whl (596 kB)\n",
            "\u001b[K     |████████████████████████████████| 596 kB 31.2 MB/s \n",
            "\u001b[?25hRequirement already satisfied: packaging>=17.0 in /usr/local/lib/python3.7/dist-packages (from pytorch_lightning) (21.3)\n",
            "Requirement already satisfied: torch>=1.7.* in /usr/local/lib/python3.7/dist-packages (from pytorch_lightning) (1.10.0+cu111)\n",
            "Collecting pyDeprecate==0.3.1\n",
            "  Downloading pyDeprecate-0.3.1-py3-none-any.whl (10 kB)\n",
            "Requirement already satisfied: typing-extensions in /usr/local/lib/python3.7/dist-packages (from pytorch_lightning) (3.10.0.2)\n",
            "Requirement already satisfied: numpy>=1.17.2 in /usr/local/lib/python3.7/dist-packages (from pytorch_lightning) (1.19.5)\n",
            "Requirement already satisfied: tqdm>=4.41.0 in /usr/local/lib/python3.7/dist-packages (from pytorch_lightning) (4.62.3)\n",
            "Collecting future>=0.17.1\n",
            "  Downloading future-0.18.2.tar.gz (829 kB)\n",
            "\u001b[K     |████████████████████████████████| 829 kB 38.8 MB/s \n",
            "\u001b[?25hRequirement already satisfied: requests in /usr/local/lib/python3.7/dist-packages (from fsspec[http]!=2021.06.0,>=2021.05.0->pytorch_lightning) (2.23.0)\n",
            "Collecting aiohttp\n",
            "  Downloading aiohttp-3.8.1-cp37-cp37m-manylinux_2_5_x86_64.manylinux1_x86_64.manylinux_2_12_x86_64.manylinux2010_x86_64.whl (1.1 MB)\n",
            "\u001b[K     |████████████████████████████████| 1.1 MB 20.7 MB/s \n",
            "\u001b[?25hRequirement already satisfied: pyparsing!=3.0.5,>=2.0.2 in /usr/local/lib/python3.7/dist-packages (from packaging>=17.0->pytorch_lightning) (3.0.6)\n",
            "Requirement already satisfied: google-auth<3,>=1.6.3 in /usr/local/lib/python3.7/dist-packages (from tensorboard>=2.2.0->pytorch_lightning) (1.35.0)\n",
            "Requirement already satisfied: setuptools>=41.0.0 in /usr/local/lib/python3.7/dist-packages (from tensorboard>=2.2.0->pytorch_lightning) (57.4.0)\n",
            "Requirement already satisfied: markdown>=2.6.8 in /usr/local/lib/python3.7/dist-packages (from tensorboard>=2.2.0->pytorch_lightning) (3.3.6)\n",
            "Requirement already satisfied: tensorboard-data-server<0.7.0,>=0.6.0 in /usr/local/lib/python3.7/dist-packages (from tensorboard>=2.2.0->pytorch_lightning) (0.6.1)\n",
            "Requirement already satisfied: grpcio>=1.24.3 in /usr/local/lib/python3.7/dist-packages (from tensorboard>=2.2.0->pytorch_lightning) (1.42.0)\n",
            "Requirement already satisfied: google-auth-oauthlib<0.5,>=0.4.1 in /usr/local/lib/python3.7/dist-packages (from tensorboard>=2.2.0->pytorch_lightning) (0.4.6)\n",
            "Requirement already satisfied: wheel>=0.26 in /usr/local/lib/python3.7/dist-packages (from tensorboard>=2.2.0->pytorch_lightning) (0.37.0)\n",
            "Requirement already satisfied: tensorboard-plugin-wit>=1.6.0 in /usr/local/lib/python3.7/dist-packages (from tensorboard>=2.2.0->pytorch_lightning) (1.8.0)\n",
            "Requirement already satisfied: protobuf>=3.6.0 in /usr/local/lib/python3.7/dist-packages (from tensorboard>=2.2.0->pytorch_lightning) (3.17.3)\n",
            "Requirement already satisfied: werkzeug>=0.11.15 in /usr/local/lib/python3.7/dist-packages (from tensorboard>=2.2.0->pytorch_lightning) (1.0.1)\n",
            "Requirement already satisfied: absl-py>=0.4 in /usr/local/lib/python3.7/dist-packages (from tensorboard>=2.2.0->pytorch_lightning) (0.12.0)\n",
            "Requirement already satisfied: six in /usr/local/lib/python3.7/dist-packages (from absl-py>=0.4->tensorboard>=2.2.0->pytorch_lightning) (1.15.0)\n",
            "Requirement already satisfied: rsa<5,>=3.1.4 in /usr/local/lib/python3.7/dist-packages (from google-auth<3,>=1.6.3->tensorboard>=2.2.0->pytorch_lightning) (4.8)\n",
            "Requirement already satisfied: pyasn1-modules>=0.2.1 in /usr/local/lib/python3.7/dist-packages (from google-auth<3,>=1.6.3->tensorboard>=2.2.0->pytorch_lightning) (0.2.8)\n",
            "Requirement already satisfied: cachetools<5.0,>=2.0.0 in /usr/local/lib/python3.7/dist-packages (from google-auth<3,>=1.6.3->tensorboard>=2.2.0->pytorch_lightning) (4.2.4)\n",
            "Requirement already satisfied: requests-oauthlib>=0.7.0 in /usr/local/lib/python3.7/dist-packages (from google-auth-oauthlib<0.5,>=0.4.1->tensorboard>=2.2.0->pytorch_lightning) (1.3.0)\n",
            "Requirement already satisfied: importlib-metadata>=4.4 in /usr/local/lib/python3.7/dist-packages (from markdown>=2.6.8->tensorboard>=2.2.0->pytorch_lightning) (4.8.2)\n",
            "Requirement already satisfied: zipp>=0.5 in /usr/local/lib/python3.7/dist-packages (from importlib-metadata>=4.4->markdown>=2.6.8->tensorboard>=2.2.0->pytorch_lightning) (3.6.0)\n",
            "Requirement already satisfied: pyasn1<0.5.0,>=0.4.6 in /usr/local/lib/python3.7/dist-packages (from pyasn1-modules>=0.2.1->google-auth<3,>=1.6.3->tensorboard>=2.2.0->pytorch_lightning) (0.4.8)\n",
            "Requirement already satisfied: urllib3!=1.25.0,!=1.25.1,<1.26,>=1.21.1 in /usr/local/lib/python3.7/dist-packages (from requests->fsspec[http]!=2021.06.0,>=2021.05.0->pytorch_lightning) (1.24.3)\n",
            "Requirement already satisfied: idna<3,>=2.5 in /usr/local/lib/python3.7/dist-packages (from requests->fsspec[http]!=2021.06.0,>=2021.05.0->pytorch_lightning) (2.10)\n",
            "Requirement already satisfied: certifi>=2017.4.17 in /usr/local/lib/python3.7/dist-packages (from requests->fsspec[http]!=2021.06.0,>=2021.05.0->pytorch_lightning) (2021.10.8)\n",
            "Requirement already satisfied: chardet<4,>=3.0.2 in /usr/local/lib/python3.7/dist-packages (from requests->fsspec[http]!=2021.06.0,>=2021.05.0->pytorch_lightning) (3.0.4)\n",
            "Requirement already satisfied: oauthlib>=3.0.0 in /usr/local/lib/python3.7/dist-packages (from requests-oauthlib>=0.7.0->google-auth-oauthlib<0.5,>=0.4.1->tensorboard>=2.2.0->pytorch_lightning) (3.1.1)\n",
            "Collecting aiosignal>=1.1.2\n",
            "  Downloading aiosignal-1.2.0-py3-none-any.whl (8.2 kB)\n",
            "Collecting frozenlist>=1.1.1\n",
            "  Downloading frozenlist-1.2.0-cp37-cp37m-manylinux_2_5_x86_64.manylinux1_x86_64.manylinux_2_12_x86_64.manylinux2010_x86_64.whl (192 kB)\n",
            "\u001b[K     |████████████████████████████████| 192 kB 50.4 MB/s \n",
            "\u001b[?25hCollecting multidict<7.0,>=4.5\n",
            "  Downloading multidict-5.2.0-cp37-cp37m-manylinux_2_5_x86_64.manylinux1_x86_64.manylinux_2_12_x86_64.manylinux2010_x86_64.whl (160 kB)\n",
            "\u001b[K     |████████████████████████████████| 160 kB 54.7 MB/s \n",
            "\u001b[?25hCollecting asynctest==0.13.0\n",
            "  Downloading asynctest-0.13.0-py3-none-any.whl (26 kB)\n",
            "Collecting async-timeout<5.0,>=4.0.0a3\n",
            "  Downloading async_timeout-4.0.1-py3-none-any.whl (5.7 kB)\n",
            "Collecting yarl<2.0,>=1.0\n",
            "  Downloading yarl-1.7.2-cp37-cp37m-manylinux_2_5_x86_64.manylinux1_x86_64.manylinux_2_12_x86_64.manylinux2010_x86_64.whl (271 kB)\n",
            "\u001b[K     |████████████████████████████████| 271 kB 54.6 MB/s \n",
            "\u001b[?25hRequirement already satisfied: charset-normalizer<3.0,>=2.0 in /usr/local/lib/python3.7/dist-packages (from aiohttp->fsspec[http]!=2021.06.0,>=2021.05.0->pytorch_lightning) (2.0.8)\n",
            "Requirement already satisfied: attrs>=17.3.0 in /usr/local/lib/python3.7/dist-packages (from aiohttp->fsspec[http]!=2021.06.0,>=2021.05.0->pytorch_lightning) (21.2.0)\n",
            "Building wheels for collected packages: future\n",
            "  Building wheel for future (setup.py) ... \u001b[?25l\u001b[?25hdone\n",
            "  Created wheel for future: filename=future-0.18.2-py3-none-any.whl size=491070 sha256=909b001508188817f7c490c5fe1b5b6373ff40f4725bc511a7a9908283d425e2\n",
            "  Stored in directory: /root/.cache/pip/wheels/56/b0/fe/4410d17b32f1f0c3cf54cdfb2bc04d7b4b8f4ae377e2229ba0\n",
            "Successfully built future\n",
            "Installing collected packages: multidict, frozenlist, yarl, asynctest, async-timeout, aiosignal, fsspec, aiohttp, torchmetrics, PyYAML, pyDeprecate, future, pytorch-lightning\n",
            "  Attempting uninstall: PyYAML\n",
            "    Found existing installation: PyYAML 3.13\n",
            "    Uninstalling PyYAML-3.13:\n",
            "      Successfully uninstalled PyYAML-3.13\n",
            "  Attempting uninstall: future\n",
            "    Found existing installation: future 0.16.0\n",
            "    Uninstalling future-0.16.0:\n",
            "      Successfully uninstalled future-0.16.0\n",
            "Successfully installed PyYAML-6.0 aiohttp-3.8.1 aiosignal-1.2.0 async-timeout-4.0.1 asynctest-0.13.0 frozenlist-1.2.0 fsspec-2021.11.1 future-0.18.2 multidict-5.2.0 pyDeprecate-0.3.1 pytorch-lightning-1.5.5 torchmetrics-0.6.1 yarl-1.7.2\n"
          ]
        }
      ]
    },
    {
      "cell_type": "code",
      "source": [
        "from torch import nn\n",
        "from torch.optim import Adagrad\n",
        "import torch.nn.functional as F\n",
        "import torch\n",
        "import pytorch_lightning as pl\n",
        "from pytorch_lightning.callbacks import ModelCheckpoint\n",
        "from torch.nn.utils.rnn import pack_padded_sequence, pad_packed_sequence, pad_sequence\n",
        "\n",
        "from torch.utils.data import Dataset\n",
        "import pandas as pd\n",
        "import json\n",
        "\n",
        "from pathlib import Path\n",
        "from collections import Counter\n",
        "from torch.utils.data import DataLoader\n",
        "import numpy as np\n",
        "import gc"
      ],
      "metadata": {
        "id": "jdLIFoDXsT5f"
      },
      "execution_count": 3,
      "outputs": []
    },
    {
      "cell_type": "code",
      "source": [
        " torch.cuda.empty_cache()\n",
        " gc.collect()"
      ],
      "metadata": {
        "id": "bk-QZpwNdKCk",
        "outputId": "69604d4c-6f41-4768-bb67-793c451755d2",
        "colab": {
          "base_uri": "https://localhost:8080/"
        }
      },
      "execution_count": 4,
      "outputs": [
        {
          "output_type": "execute_result",
          "data": {
            "text/plain": [
              "22"
            ]
          },
          "metadata": {},
          "execution_count": 4
        }
      ]
    },
    {
      "cell_type": "markdown",
      "source": [
        "Config.py"
      ],
      "metadata": {
        "id": "0I438AwCrYEC"
      }
    },
    {
      "cell_type": "code",
      "source": [
        "from easydict import EasyDict\n",
        "\n",
        "args = EasyDict()\n",
        "\n",
        "args.vocab_size = 50000\n",
        "args.embed_dim = 128\n",
        "args.hidden_dim = 256\n",
        "args.batch_size = 8\n",
        "args.trg_max_len = 50\n",
        "args.learning_rate = 0.15\n",
        "args.accum_init = 0.15\n",
        "args.pad_id = 0\n",
        "args.seed = 123\n",
        "args.epochs = 10\n",
        "args.max_grad_norm = 2.0"
      ],
      "metadata": {
        "id": "FRMsQgltslB5"
      },
      "execution_count": 5,
      "outputs": []
    },
    {
      "cell_type": "markdown",
      "source": [
        "# vocab.py"
      ],
      "metadata": {
        "id": "TeP38-phrjYw"
      }
    },
    {
      "cell_type": "code",
      "source": [
        "'''\n",
        "Reference https://github.com/jiminsun/pointer-generator/blob/master/data/vocab.py\n",
        "'''\n",
        "pad_token = '<pad>'\n",
        "unk_token = '<unk>'\n",
        "start_decode = '<start>'\n",
        "stop_decode = '<stop>'\n",
        "\n",
        "class Vocab(object):\n",
        "  def __init__(self):\n",
        "    self._word_to_id = {}\n",
        "    self._id_to_word = []\n",
        "    self._count = 0\n",
        "\n",
        "  @classmethod\n",
        "  def from_file(cls, filename):\n",
        "    vocab = cls()\n",
        "    with open(filename, 'r') as f:\n",
        "      vocab._word_to_id = json.load(f)\n",
        "    vocab._id_to_word = [w for w, id_ in sorted(vocab._word_to_id, key=vocab._word_to_id.get, reverse=True)]\n",
        "    vocab._count = len(vocab._id_to_word)\n",
        "    return vocab\n",
        "\n",
        "  @classmethod\n",
        "  def from_counter(cls, counter, vocab_size, min_freq=1, specials=[pad_token, unk_token, start_decode, stop_decode]):\n",
        "    vocab = cls()\n",
        "    word_and_freq = sorted(counter.items(), key=lambda tup: tup[0])\n",
        "    word_and_freq.sort(key=lambda tup: tup[1], reverse=True)\n",
        "\n",
        "    for w in specials:\n",
        "      vocab._word_to_id[w] = vocab._count\n",
        "      vocab._id_to_word.append(w)\n",
        "      vocab._count += 1\n",
        "\n",
        "    for word, freq in word_and_freq:\n",
        "      if freq < min_freq or vocab._count == vocab_size:\n",
        "        break\n",
        "      vocab._word_to_id[word] = vocab._count\n",
        "      vocab._id_to_word.append(word)\n",
        "      vocab._count += 1\n",
        "    \n",
        "    return vocab\n",
        "  \n",
        "  def save(self, filename):\n",
        "    with open(filename, 'w') as f:\n",
        "      json.dump(self._word_to_id)\n",
        "  \n",
        "  def __len__(self):\n",
        "    return self._count\n",
        "  \n",
        "  def unk(self):\n",
        "    return self._word_to_id.get(unk_token)\n",
        "  \n",
        "  def pad(self):\n",
        "    return self._word_to_id.get(pad_token)\n",
        "  \n",
        "  def start(self):\n",
        "    return self._word_to_id.get(start_decode)\n",
        "  \n",
        "  def stop(self):\n",
        "    return self._word_to_id.get(stop_decode)\n",
        "\n",
        "  def word2id(self, word):\n",
        "    unk_id = self._word_to_id.get(word, self.unk())\n",
        "    if word in self._word_to_id:\n",
        "      return self._word_to_id[word]\n",
        "    else:\n",
        "      return unk_id\n",
        "  \n",
        "  def id2word(self, word_id):\n",
        "    if word_id >= self.__len__():\n",
        "      raise ValueError(f\"Id not found in vocab: {word_id}\")\n",
        "    return self.id_to_word[word_id]\n",
        "  \n",
        "  def extend(self, oovs):\n",
        "    return self._id_to_word + list(oovs)\n",
        "  \n",
        "  def tokens2ids(self, tokens):\n",
        "    return np.array([self.word2id(t) for t in tokens])\n",
        "  \n",
        "  def tokens2ids_ext(self, tokens):\n",
        "    ids = []\n",
        "    oovs = []\n",
        "    unk_id = self.unk()\n",
        "    for t in tokens:\n",
        "      t_id = self.word2id(t)\n",
        "      if t_id == unk_id:\n",
        "        if t not in oovs:\n",
        "          oovs.append(t)\n",
        "        ids.append(len(self) + oovs.index(t))\n",
        "      else:\n",
        "        ids.append(t_id)\n",
        "    return np.array(ids), np.array(oovs)"
      ],
      "metadata": {
        "id": "2GfT8GFi2oi7"
      },
      "execution_count": 6,
      "outputs": []
    },
    {
      "cell_type": "markdown",
      "source": [
        "#model.py"
      ],
      "metadata": {
        "id": "Q12oujNWr0v4"
      }
    },
    {
      "cell_type": "markdown",
      "source": [
        "## Encoder"
      ],
      "metadata": {
        "id": "J-SG-GK_ykct"
      }
    },
    {
      "cell_type": "code",
      "source": [
        "class Encoder(nn.Module):\n",
        "\n",
        "    def __init__(self, input_dim=args.embed_dim, hidden_dim=args.hidden_dim):\n",
        "        \"\"\"\n",
        "        Args:\n",
        "            input_dim: source embedding dimension\n",
        "        \"\"\"\n",
        "        super().__init__()\n",
        "        self.lstm = nn.LSTM(input_size=input_dim, hidden_size=hidden_dim, num_layers=1, bidirectional=True, batch_first=True)\n",
        "        self.reduce_h = nn.Linear(hidden_dim * 2, hidden_dim, bias=True)\n",
        "        self.reduce_c = nn.Linear(hidden_dim * 2, hidden_dim, bias=True)\n",
        "    \n",
        "    def forward(self, src, src_lens):\n",
        "        \"\"\"\n",
        "        Args:\n",
        "            src: source token embeddings    [B x L x E]\n",
        "            src_lens: source text length    [B]\n",
        "        Returns:\n",
        "            enc_hidden: sequence of encoder hidden states                  [B x L x 2H]\n",
        "            (final_h, final_c): Tuple for decoder state initialization     [B x L x H]\n",
        "        \"\"\"\n",
        "\n",
        "        x = pack_padded_sequence(src, src_lens.cpu(), batch_first=True, enforce_sorted=False)\n",
        "        output, (h, c) = self.lstm(x) # [B x L x 2H], [2 x B x H], [2 x B x H]\n",
        "        enc_hidden, _ = pad_packed_sequence(output, batch_first=True)\n",
        "\n",
        "        # Concatenate bidirectional lstm states\n",
        "        h = torch.cat((h[0], h[1]), dim=-1)  # [B x 2H]\n",
        "        c = torch.cat((c[0], c[1]), dim=-1)  # [B x 2H]\n",
        "\n",
        "        # Project to decoder hidden state size\n",
        "        final_hidden = torch.relu(self.reduce_h(h))  # [B x H]\n",
        "        final_cell = torch.relu(self.reduce_c(c))  # [B x H]\n",
        "\n",
        "        return enc_hidden, (final_hidden, final_cell)"
      ],
      "metadata": {
        "id": "M7mWZKhfyc69"
      },
      "execution_count": 7,
      "outputs": []
    },
    {
      "cell_type": "markdown",
      "source": [
        "##Attention"
      ],
      "metadata": {
        "id": "D7pM_IUKynfW"
      }
    },
    {
      "cell_type": "code",
      "source": [
        "class Attention(nn.Module):\n",
        "    def __init__(self, hidden_dim=args.hidden_dim):\n",
        "        super().__init__()\n",
        "        self.v = nn.Linear(hidden_dim * 2, 1, bias=False)                       # v\n",
        "        self.enc_proj = nn.Linear(hidden_dim * 2, hidden_dim * 2, bias=False)   # W_h\n",
        "        self.dec_proj = nn.Linear(hidden_dim, hidden_dim * 2, bias=True)        # W_s, b_attn\n",
        "  \n",
        "\n",
        "    def forward(self, dec_input, enc_hidden, enc_pad_mask):\n",
        "        \"\"\"\n",
        "        Args:\n",
        "            dec_input: decoder hidden state             [B x H]\n",
        "            enc_hidden: encoder hidden states           [B x L x 2H]\n",
        "            enc_pad_mask: encoder padding masks         [B x L]\n",
        "        Returns:\n",
        "            attn_dist: attention dist'n over src tokens [B x L]\n",
        "        \"\"\"\n",
        "        enc_feature = self.enc_proj(enc_hidden)               # [B X L X 2H]\n",
        "        dec_feature = self.dec_proj(dec_input).unsqueeze(1)   # [B X 1 X 2H]\n",
        "\n",
        "        scores = self.v(torch.tanh(enc_feature + dec_feature)).squeeze(-1)  # [B X L]\n",
        "        scores = scores.float().masked_fill_(\n",
        "            enc_pad_mask,\n",
        "            float('-inf')\n",
        "        ).type_as(scores)  # FP16 support: cast to float and back\n",
        "        \n",
        "        attn_dist = F.softmax(scores, dim=-1) # [B X L]\n",
        "\n",
        "        return attn_dist"
      ],
      "metadata": {
        "id": "_JP2mvZSywDs"
      },
      "execution_count": 8,
      "outputs": []
    },
    {
      "cell_type": "markdown",
      "source": [
        "##AttentionDecoderLayer"
      ],
      "metadata": {
        "id": "88PpF1WkyyG8"
      }
    },
    {
      "cell_type": "code",
      "source": [
        "class AttentionDecoderLayer(nn.Module):\n",
        "  def __init__(self, input_dim, hidden_dim, vocab_size):\n",
        "    super().__init__()\n",
        "    self.lstm = nn.LSTMCell(input_size=input_dim, hidden_size=hidden_dim)\n",
        "    self.attention = Attention(hidden_dim)\n",
        "    self.l1 = nn.Linear(hidden_dim*3, hidden_dim, bias=True)    # V\n",
        "    self.l2 = nn.Linear(hidden_dim, vocab_size, bias=True)  # V'\n",
        "  \n",
        "  def forward(self, dec_input, dec_hidden, dec_cell, enc_hidden, enc_pad_mask):\n",
        "    \"\"\"\n",
        "    Args:\n",
        "        dec_input: decoder input embedding at timestep t    [B x E]\n",
        "        prev_h: decoder hidden state from prev timestep     [B x H]\n",
        "        prev_c: decoder cell state from prev timestep       [B x H]\n",
        "        enc_hidden: encoder hidden states                   [B x L x 2H]\n",
        "        enc_pad_mask: encoder masks for attn computation    [B x L]\n",
        "    Returns:\n",
        "        vocab_dist: predicted vocab dist'n at timestep t    [B x V]\n",
        "        attn_dist: attention dist'n at timestep t           [B x L]\n",
        "        context_vec: context vector at timestep t           [B x 2H]\n",
        "        hidden: hidden state at timestep t                  [B x H]\n",
        "        cell: cell state at timestep t                      [B x H]\n",
        "    \"\"\"\n",
        "    h, c = self.lstm(dec_input, (dec_hidden, dec_cell))  # [B X H], [B X H]\n",
        "    attn_dist = self.attention(h, enc_hidden, enc_pad_mask)  # [B X 1 X L]\n",
        "    context_vec = torch.bmm(attn_dist.unsqueeze(1), enc_hidden).squeeze(1)  # [B X 2H] <- [B X 1 X 2H] = [B X 1 X L] @ [B X L X 2H]\n",
        "    output = self.l1(torch.cat([h, context_vec], dim = -1)) # [B X H]\n",
        "    vocab_dist = F.softmax(self.l2(output), dim=-1)              # [B X V]\n",
        "    return vocab_dist, attn_dist, context_vec, h, c"
      ],
      "metadata": {
        "id": "whXJpnQuy1X0"
      },
      "execution_count": 9,
      "outputs": []
    },
    {
      "cell_type": "markdown",
      "source": [
        "## PointGenerator"
      ],
      "metadata": {
        "id": "_yKhp-Zny4Ac"
      }
    },
    {
      "cell_type": "code",
      "source": [
        "class PointerGenerator(nn.Module):\n",
        "    def __init__(self, vocab):\n",
        "        super().__init__()\n",
        "        self.vocab = vocab\n",
        "        embed_dim = args.embed_dim\n",
        "        self.embedding = nn.Embedding(len(vocab), embed_dim, padding_idx=vocab.pad())\n",
        "\n",
        "\n",
        "        hidden_dim = args.hidden_dim\n",
        "        self.encoder = Encoder(input_dim=embed_dim, hidden_dim=hidden_dim)\n",
        "        self.decoder = AttentionDecoderLayer(input_dim=embed_dim, hidden_dim=hidden_dim, vocab_size=len(vocab))\n",
        "\n",
        "        self.w_h = nn.Linear(hidden_dim * 2, 1, bias=False)\n",
        "        self.w_s = nn.Linear(hidden_dim, 1, bias=False)\n",
        "        self.w_x = nn.Linear(embed_dim, 1, bias=True)\n",
        "\n",
        "\n",
        "    def forward(self, enc_input, enc_input_ext, enc_pad_mask, enc_len, max_oov_len, dec_input=None):\n",
        "        \"\"\"\n",
        "        Predict summary using reference summary as decoder inputs. If dec_input is not provided, then teacher forcing is disabled.\n",
        "        Args:\n",
        "            enc_input: source text id sequence                      [B x L]\n",
        "            enc_input_ext: source text id seq w/ extended vocab     [B x L]\n",
        "            enc_pad_mask: source text padding mask. [PAD] -> True   [B x L]\n",
        "            enc_len: source text length                             [B]\n",
        "            dec_input: target text id sequence                      [B x T]\n",
        "            max_oov_len: max number of oovs in src                  [1]\n",
        "        Returns:\n",
        "            final_dists: predicted dist'n using extended vocab      [B x V_x x T]\n",
        "            attn_dists: attn dist'n from each t                     [B x L x T]\n",
        "            coverages: coverage vectors from each t                 [B x L x T]\n",
        "        \"\"\"\n",
        "        batch_size = enc_input.size(0)\n",
        "        enc_emb = self.embedding(enc_input)             # [B X L X E]\n",
        "        enc_hidden, (h,c) = self.encoder(enc_emb, enc_len)  # [B X L X 2H], [B X L X H], [B X L X H]\n",
        "        teacher_forcing = False\n",
        "\n",
        "        if not dec_input is None:\n",
        "            teacher_forcing = True\n",
        "            dec_emb = self.embedding(dec_input)             # [B X T X E]\n",
        "        else:\n",
        "            dec_prev_emb = [self.embedding(self.vocab().start()) for _ in range(batch_size)]  # [B X E]\n",
        "\n",
        "\n",
        "        final_dists = []\n",
        "        if (teacher_forcing):\n",
        "            num_iter = dec_emb.shape[1]\n",
        "        else:\n",
        "            num_iter = args.trg_max_len\n",
        "\n",
        "        for t in range(num_iter):\n",
        "            if teacher_forcing:\n",
        "                input_t = dec_emb[:, t, :]\n",
        "            else:\n",
        "                input_t = dec_prev_emb\n",
        "            vocab_dist, attn_dist, context_vec, h, c = self.decoder(\n",
        "                dec_input=input_t, # [B x E]\n",
        "                dec_hidden=h,\n",
        "                dec_cell=c,\n",
        "                enc_hidden=enc_hidden,\n",
        "                enc_pad_mask=enc_pad_mask\n",
        "            )\n",
        "            \n",
        "            p_gen = torch.sigmoid(self.w_h(context_vec) + self.w_s(h) + self.w_x(input_t))\n",
        "            weighted_vocab_dist = p_gen * vocab_dist\n",
        "            weighted_attn_dist = (1.0 - p_gen) * attn_dist\n",
        "            B = vocab_dist.size(0)\n",
        "            extended_vocab_dist = torch.cat([weighted_vocab_dist, torch.zeros((B, max_oov_len), device=vocab_dist.device)], dim=-1)\n",
        "\n",
        "            final_dist = extended_vocab_dist.scatter_add(dim=-1, index=enc_input_ext, src=weighted_attn_dist) # index [B X L] source [B X VT]\n",
        "            final_dists.append(final_dist)\n",
        "            if (not teacher_forcing):\n",
        "                highest_prob = torch.argmax(final_dist, dim=1)                              # [B]\n",
        "                highest_prob[highest_prob >= len(self.vocab)] = self.vocab.unk()\n",
        "                dec_prev_emb = self.embedding(B)        #[B X E]\n",
        "        return torch.stack(final_dists, dim=-1)"
      ],
      "metadata": {
        "id": "ukn917NAy8tv"
      },
      "execution_count": 10,
      "outputs": []
    },
    {
      "cell_type": "markdown",
      "source": [
        "##SummarizationModel"
      ],
      "metadata": {
        "id": "USCybTg9y-S2"
      }
    },
    {
      "cell_type": "code",
      "source": [
        "class SummarizationModel(pl.LightningModule):\n",
        "    def __init__(self, vocab):\n",
        "        super().__init__()\n",
        "        self.vocab = vocab\n",
        "        self.model = PointerGenerator(vocab)\n",
        "        self.num_step = 0\n",
        "    \n",
        "    def training_step(self, batch, batch_idx):\n",
        "        output = self.model.forward(\n",
        "            enc_input=batch.enc_input,\n",
        "            enc_input_ext=batch.enc_input_ext,\n",
        "            enc_pad_mask=batch.enc_pad_mask,\n",
        "            enc_len=batch.enc_len,\n",
        "            dec_input=batch.dec_input,\n",
        "            max_oov_len=batch.max_oov_len)\n",
        "        dec_target = batch.dec_target\n",
        "        loss = F.nll_loss(torch.log(output), dec_target, ignore_index=args.pad_id, reduction='mean')\n",
        "        self.logger.log_metrics({\"train_loss\": loss}, self.num_step)\n",
        "        self.num_step += 1\n",
        "        return loss\n",
        "    \n",
        "    def validation_step(self, batch, batch_idx):\n",
        "        output = self.model.forward(\n",
        "            enc_input=batch.enc_input,\n",
        "            enc_input_ext=batch.enc_input_ext,\n",
        "            enc_pad_mask=batch.enc_pad_mask,\n",
        "            enc_len=batch.enc_len,\n",
        "            dec_input=batch.dec_input,\n",
        "            max_oov_len=batch.max_oov_len)\n",
        "        \n",
        "        dec_target = batch.dec_target\n",
        "        loss = F.nll_loss(\n",
        "            torch.log(output), dec_target, ignore_index=args.pad_id, reduction='mean')\n",
        "        self.log('val_loss', loss, on_step=True, on_epoch=False, prog_bar=False, logger=True)\n",
        "        self.logger.log_metrics({'val_loss': loss}, self.num_step)\n",
        "        return loss\n",
        "\n",
        "    def test_step(self, batch, batch_idx):\n",
        "        output = self.model.forward(\n",
        "            enc_input=batch.enc_input,\n",
        "            enc_input_ext=batch.enc_input_ext,\n",
        "            enc_pad_mask=batch.enc_pad_mask,\n",
        "            enc_len=batch.enc_len,\n",
        "            max_oov_len=batch.max_oov_len\n",
        "        )\n",
        "        # TODO: FIXHERE\n",
        "        result = {}\n",
        "        result['target'] = output\n",
        "        result['source'] = [' '.join(w) for w in batch.src_text]\n",
        "        result['real_target'] = [' '.join(w) for w in batch.tgt_text]\n",
        "        return result\n",
        "    \n",
        "    def configure_optimizers(self):\n",
        "        return Adagrad(self.parameters(), lr=args.learning_rate, initial_accumulator_value=args.accum_init)"
      ],
      "metadata": {
        "id": "Y6vs7LpAseSv"
      },
      "execution_count": 11,
      "outputs": []
    },
    {
      "cell_type": "markdown",
      "source": [
        "#data.py"
      ],
      "metadata": {
        "id": "og6vBwQvx5S_"
      }
    },
    {
      "cell_type": "markdown",
      "source": [
        "##CommitDataset"
      ],
      "metadata": {
        "id": "OFXr6SA0zFEp"
      }
    },
    {
      "cell_type": "code",
      "source": [
        "class CommitDataset(Dataset):\n",
        "    def __init__(self, vocab: Vocab, file_path):\n",
        "        self.vocab = vocab\n",
        "        self.df = pd.read_pickle(file_path)\n",
        "    \n",
        "    def __getitem__(self, index):\n",
        "        item = EasyDict()\n",
        "        row = self.df.iloc[index]\n",
        "        src = json.loads(row[\"diff\"])\n",
        "        trg = json.loads(row[\"commit_messsage\"])\n",
        "        src_ids = self.vocab.tokens2ids(src)\n",
        "        src_ids_ext, oovs = self.vocab.tokens2ids_ext(src)\n",
        "        trg_ids = self.vocab.tokens2ids(trg)\n",
        "        return src_ids, src_ids_ext, oovs, trg_ids\n",
        "    \n",
        "    def __len__(self):\n",
        "        return len(self.df)"
      ],
      "metadata": {
        "id": "4AZqWt1ksegd"
      },
      "execution_count": 12,
      "outputs": []
    },
    {
      "cell_type": "markdown",
      "source": [
        "##CommitCollate"
      ],
      "metadata": {
        "id": "EapC73qczHGN"
      }
    },
    {
      "cell_type": "code",
      "source": [
        "def CommitCollate(batchdata):\n",
        "    batch = EasyDict()\n",
        "    src_ids, src_ids_ext, oovs, trg_ids = zip(*batchdata)\n",
        "    batch.enc_input = pad_sequence(tuple(map(torch.LongTensor, src_ids)), batch_first=True, padding_value=0)\n",
        "    batch.enc_input_ext = pad_sequence(tuple(map(torch.LongTensor, src_ids_ext)), batch_first=True, padding_value=0)\n",
        "    batch.enc_pad_mask = (batch.enc_input == 0)\n",
        "    batch.enc_len = torch.LongTensor([len(tokens) for tokens in src_ids])\n",
        "    batch.dec_input = pad_sequence(tuple(map(lambda x: torch.LongTensor(np.insert(x, 0, 2)), trg_ids)), batch_first=True, padding_value=0)\n",
        "    batch.dec_target = pad_sequence(tuple(map(lambda x: torch.LongTensor(np.append(x, 3)), trg_ids)), batch_first=True, padding_value=0)\n",
        "    batch.max_oov_len = max(map(len, oovs))\n",
        "    return batch"
      ],
      "metadata": {
        "id": "aya06JSFzNXh"
      },
      "execution_count": 13,
      "outputs": []
    },
    {
      "cell_type": "markdown",
      "source": [
        "# train.py"
      ],
      "metadata": {
        "id": "pIQq7XRwsGkX"
      }
    },
    {
      "cell_type": "code",
      "source": [
        "def train(root):\n",
        "    pl.seed_everything(args.seed)\n",
        "\n",
        "    counter = Counter()\n",
        "    train_path = Path(root) / 'train.pkl'\n",
        "    validation_path = Path(root) / 'validation.pkl'\n",
        "    test_path = Path(root) / 'test.pkl'\n",
        "    train_df = pd.read_pickle(train_path)\n",
        "\n",
        "    for msg in train_df[\"diff\"]:\n",
        "        m = json.loads(msg)\n",
        "        counter.update(m)\n",
        "\n",
        "    for msg in train_df[\"commit_messsage\"]:\n",
        "        m = json.loads(msg)\n",
        "        counter.update(m)\n",
        "\n",
        "    vocab = Vocab.from_counter(\n",
        "        counter=counter, \n",
        "        vocab_size=args.vocab_size\n",
        "    )\n",
        "\n",
        "    model = SummarizationModel(vocab)\n",
        "\n",
        "    checkpoint_callback = ModelCheckpoint(dirpath=f\"root/checkpoints/\")\n",
        "\n",
        "    trainer = pl.Trainer(\n",
        "        gpus=torch.cuda.device_count(),\n",
        "        max_epochs=args.epochs,\n",
        "        gradient_clip_val=args.max_grad_norm,\n",
        "        callbacks=[checkpoint_callback]\n",
        "    )\n",
        "\n",
        "    train_loader = DataLoader(\n",
        "        CommitDataset(vocab, train_path),\n",
        "        batch_size=args.batch_size,\n",
        "        shuffle=True,\n",
        "        collate_fn=CommitCollate\n",
        "    )\n",
        "    val_loader = DataLoader(\n",
        "        CommitDataset(vocab, validation_path),\n",
        "        batch_size=args.batch_size,\n",
        "        collate_fn=CommitCollate,\n",
        "        shuffle=False\n",
        "    )\n",
        "\n",
        "    trainer.fit(model, train_loader, val_loader)\n",
        "\n",
        "train(root)"
      ],
      "metadata": {
        "colab": {
          "base_uri": "https://localhost:8080/",
          "height": 376,
          "referenced_widgets": [
            "d32b0f0d4bf74fc19e6cff799311e0ed",
            "a607eff1474b4b0cbea22ac8e05184d3",
            "43a0c14ece5b4c83bd14460f4fa4c5ef",
            "f4b34f3bd2e54d568b55ea1646ca1666",
            "c1955c0659d34caaa3eb4651eb0fe780",
            "7fead9032d194ee58a943d756e68d563",
            "04c819663d014755958cb7095fe6f669",
            "d3470b4fd6dc42939f2845b46f77098f",
            "33c766c1fdf2455cbe3fdeb926fbc1fb",
            "07f70de970564abe85248a9caa8aebd7",
            "ad4805115d464d37bf1007a3ee15127b",
            "696c14819a5c4cf6a5ad00a140e4ebb0",
            "6b24a96e2eac44308a43e969719fabb0",
            "9a610c19dbcd45bfbf80ea488e361ce9",
            "c45faf659a7446acbcf5fb2843c85562",
            "d8f241da7eb642ddb4fc38edc85a1df9",
            "1dd5b3551ad94f5588a3b6c1595e89ce",
            "bd0db2d6dd5e48edbf90f73ba0608e96",
            "dc2fff3f0389438e975e550f2c6ea18e",
            "0c2b8c6e49af4319bb22f516f9267111",
            "bd636c39384c49bfb067bbfe92fee0e2",
            "32db67c88a7b4d60b9fae6520666561e"
          ]
        },
        "id": "cpdfuuRBse0c",
        "outputId": "aeddb7bc-83b4-4ebf-a1f2-040e9b9ff663"
      },
      "execution_count": 14,
      "outputs": [
        {
          "output_type": "stream",
          "name": "stderr",
          "text": [
            "Global seed set to 123\n",
            "GPU available: True, used: True\n",
            "TPU available: False, using: 0 TPU cores\n",
            "IPU available: False, using: 0 IPUs\n",
            "LOCAL_RANK: 0 - CUDA_VISIBLE_DEVICES: [0]\n",
            "\n",
            "  | Name  | Type             | Params\n",
            "-------------------------------------------\n",
            "0 | model | PointerGenerator | 21.3 M\n",
            "-------------------------------------------\n",
            "21.3 M    Trainable params\n",
            "0         Non-trainable params\n",
            "21.3 M    Total params\n",
            "85.162    Total estimated model params size (MB)\n"
          ]
        },
        {
          "output_type": "display_data",
          "data": {
            "application/vnd.jupyter.widget-view+json": {
              "model_id": "d32b0f0d4bf74fc19e6cff799311e0ed",
              "version_minor": 0,
              "version_major": 2
            },
            "text/plain": [
              "Validation sanity check: 0it [00:00, ?it/s]"
            ]
          },
          "metadata": {}
        },
        {
          "output_type": "stream",
          "name": "stderr",
          "text": [
            "Global seed set to 123\n"
          ]
        },
        {
          "output_type": "display_data",
          "data": {
            "application/vnd.jupyter.widget-view+json": {
              "model_id": "696c14819a5c4cf6a5ad00a140e4ebb0",
              "version_minor": 0,
              "version_major": 2
            },
            "text/plain": [
              "Training: 0it [00:00, ?it/s]"
            ]
          },
          "metadata": {}
        },
        {
          "output_type": "stream",
          "name": "stderr",
          "text": [
            "/usr/local/lib/python3.7/dist-packages/pytorch_lightning/trainer/trainer.py:685: UserWarning: Detected KeyboardInterrupt, attempting graceful shutdown...\n",
            "  rank_zero_warn(\"Detected KeyboardInterrupt, attempting graceful shutdown...\")\n"
          ]
        }
      ]
    },
    {
      "cell_type": "code",
      "source": [
        ""
      ],
      "metadata": {
        "id": "8Pxk0mkNse8f"
      },
      "execution_count": 14,
      "outputs": []
    }
  ]
}