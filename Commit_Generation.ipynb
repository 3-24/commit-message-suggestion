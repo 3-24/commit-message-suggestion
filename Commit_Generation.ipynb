{
  "nbformat": 4,
  "nbformat_minor": 0,
  "metadata": {
    "colab": {
      "name": "Commit Generation.ipynb",
      "provenance": [],
      "authorship_tag": "ABX9TyM343gjcMk7Ls2yaN7BTDho"
    },
    "kernelspec": {
      "name": "python3",
      "display_name": "Python 3"
    },
    "language_info": {
      "name": "python"
    }
  },
  "cells": [
    {
      "cell_type": "code",
      "metadata": {
        "colab": {
          "base_uri": "https://localhost:8080/"
        },
        "id": "gcWR3PmkzVwM",
        "outputId": "3475cfe7-e73e-481c-c33a-b22bfebf0dfb"
      },
      "source": [
        "# load data\n",
        "\n",
        "!wget https://raw.githubusercontent.com/graykode/commit-autosuggestions/master/experiment/dataset/python/train.jsonl"
      ],
      "execution_count": 1,
      "outputs": [
        {
          "output_type": "stream",
          "name": "stdout",
          "text": [
            "--2021-11-15 08:54:52--  https://raw.githubusercontent.com/graykode/commit-autosuggestions/master/experiment/dataset/python/train.jsonl\n",
            "Resolving raw.githubusercontent.com (raw.githubusercontent.com)... 185.199.111.133, 185.199.109.133, 185.199.108.133, ...\n",
            "Connecting to raw.githubusercontent.com (raw.githubusercontent.com)|185.199.111.133|:443... connected.\n",
            "HTTP request sent, awaiting response... 200 OK\n",
            "Length: 43686353 (42M) [text/plain]\n",
            "Saving to: ‘train.jsonl’\n",
            "\n",
            "train.jsonl         100%[===================>]  41.66M   121MB/s    in 0.3s    \n",
            "\n",
            "2021-11-15 08:54:53 (121 MB/s) - ‘train.jsonl’ saved [43686353/43686353]\n",
            "\n"
          ]
        }
      ]
    },
    {
      "cell_type": "code",
      "metadata": {
        "id": "zKdZ2pbfzpc8"
      },
      "source": [
        ""
      ],
      "execution_count": null,
      "outputs": []
    }
  ]
}