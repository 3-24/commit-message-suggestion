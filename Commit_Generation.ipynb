{
  "nbformat": 4,
  "nbformat_minor": 0,
  "metadata": {
    "colab": {
      "name": "Commit Generation.ipynb",
      "provenance": [],
      "authorship_tag": "ABX9TyPGUUhsHVNocrOroBcMbEai"
    },
    "kernelspec": {
      "name": "python3",
      "display_name": "Python 3"
    },
    "language_info": {
      "name": "python"
    }
  },
  "cells": [
    {
      "cell_type": "code",
      "metadata": {
        "id": "LNdEvLAmj3cy",
        "outputId": "700e3ba4-0c51-480d-8b64-ec6ede89f475",
        "colab": {
          "base_uri": "https://localhost:8080/"
        }
      },
      "source": [
        "# mount drive https://datascience.stackexchange.com/questions/29480/uploading-images-folder-from-my-system-into-google-colab\n",
        "# login with your google account and type authorization code to mount on your googlbie drive.\n",
        "from google.colab import drive\n",
        "drive.mount('/gdrive')\n",
        "root = '/gdrive/My Drive/CS492I/project'"
      ],
      "execution_count": 2,
      "outputs": [
        {
          "output_type": "stream",
          "name": "stdout",
          "text": [
            "Drive already mounted at /gdrive; to attempt to forcibly remount, call drive.mount(\"/gdrive\", force_remount=True).\n"
          ]
        }
      ]
    },
    {
      "cell_type": "code",
      "metadata": {
        "id": "whIO4LYymsTf"
      },
      "source": [
        "from easydict import EasyDict\n",
        "from torchtext.legacy.data import Field\n",
        "from torchtext.vocab import vocab\n",
        "import collections\n",
        "from pathlib import Path\n",
        "import pandas as pd\n",
        "import json"
      ],
      "execution_count": 24,
      "outputs": []
    },
    {
      "cell_type": "code",
      "metadata": {
        "id": "ed77rUFymouO"
      },
      "source": [
        "args = EasyDict()\n",
        "\n",
        "args.vocab_size = 50000\n",
        "args.embed_dim = 128\n",
        "args.hidden_dim = 256\n",
        "args.batch_size = 8\n"
      ],
      "execution_count": 4,
      "outputs": []
    },
    {
      "cell_type": "code",
      "metadata": {
        "id": "zKdZ2pbfzpc8",
        "outputId": "e8b76cbd-9fcc-470a-867b-8e6fc900920f",
        "colab": {
          "base_uri": "https://localhost:8080/"
        }
      },
      "source": [
        "commit_message_counter = collections.Counter()\n",
        "diff_counter = collections.Counter()\n",
        "data_path = Path(root) / 'train.pkl'\n",
        "train_df = pd.read_pickle(data_path)\n",
        "\n",
        "for msg in train_df[\"commit_messsage\"]:\n",
        "  m = json.loads(msg)\n",
        "  commit_message_counter.update(m)\n",
        "\n",
        "for msg in train_df[\"diff\"]:\n",
        "  m = json.loads(msg)\n",
        "  diff_counter.update(m)\n",
        "\n",
        "commit_msg_vocab = vocab(commit_message_counter)\n",
        "print(len(commit_msg_vocab))\n",
        "diff_vocab = vocab(diff_counter, min_freq=10)\n",
        "print(len(diff_vocab))\n",
        "\n"
      ],
      "execution_count": 36,
      "outputs": [
        {
          "output_type": "stream",
          "name": "stdout",
          "text": [
            "46401\n",
            "56350\n"
          ]
        }
      ]
    },
    {
      "cell_type": "code",
      "metadata": {
        "id": "2M23QiVBnvmT",
        "outputId": "ed103aa5-12c6-4954-ebfb-57dde202b778",
        "colab": {
          "base_uri": "https://localhost:8080/"
        }
      },
      "source": [
        "diff_vocab = vocab(diff_counter, min_freq=10)\n",
        "print(len(diff_vocab))"
      ],
      "execution_count": 35,
      "outputs": [
        {
          "output_type": "stream",
          "name": "stdout",
          "text": [
            "56350\n"
          ]
        }
      ]
    },
    {
      "cell_type": "code",
      "metadata": {
        "id": "TJ5_vSk-skkL"
      },
      "source": [
        ""
      ],
      "execution_count": null,
      "outputs": []
    }
  ]
}