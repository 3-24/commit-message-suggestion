{
  "nbformat": 4,
  "nbformat_minor": 5,
  "metadata": {
    "kernelspec": {
      "name": "python3",
      "display_name": "Python 3"
    },
    "colab": {
      "name": "Dataset Generation.ipynb",
      "provenance": []
    },
    "language_info": {
      "name": "python"
    }
  },
  "cells": [
    {
      "cell_type": "markdown",
      "metadata": {
        "id": "8a5ade31"
      },
      "source": [
        "## 1. Collect CodeSearchNet Repositories"
      ],
      "id": "8a5ade31"
    },
    {
      "cell_type": "code",
      "metadata": {
        "id": "c06bb109"
      },
      "source": [
        "import json\n",
        "\n",
        "import pandas as pd\n",
        "from pathlib import Path\n",
        "pd.set_option('max_colwidth',300)\n",
        "from pprint import pprint"
      ],
      "id": "c06bb109",
      "execution_count": 1,
      "outputs": []
    },
    {
      "cell_type": "code",
      "metadata": {
        "colab": {
          "base_uri": "https://localhost:8080/"
        },
        "id": "4c50cf9b",
        "outputId": "67cb8784-b45b-4a41-b365-d70bb22aadc6"
      },
      "source": [
        "!wget https://s3.amazonaws.com/code-search-net/CodeSearchNet/v2/python.zip\n",
        "!mkdir CodeSearchNet\n",
        "!unzip python.zip -d CodeSearchNet"
      ],
      "id": "4c50cf9b",
      "execution_count": 2,
      "outputs": [
        {
          "output_type": "stream",
          "name": "stdout",
          "text": [
            "--2021-12-02 08:00:26--  https://s3.amazonaws.com/code-search-net/CodeSearchNet/v2/python.zip\n",
            "Resolving s3.amazonaws.com (s3.amazonaws.com)... 52.217.12.142\n",
            "Connecting to s3.amazonaws.com (s3.amazonaws.com)|52.217.12.142|:443... connected.\n",
            "HTTP request sent, awaiting response... 200 OK\n",
            "Length: 940909997 (897M) [application/zip]\n",
            "Saving to: ‘python.zip’\n",
            "\n",
            "python.zip          100%[===================>] 897.32M  81.7MB/s    in 12s     \n",
            "\n",
            "2021-12-02 08:00:38 (73.6 MB/s) - ‘python.zip’ saved [940909997/940909997]\n",
            "\n",
            "Archive:  python.zip\n",
            "   creating: CodeSearchNet/python/\n",
            "   creating: CodeSearchNet/python/final/\n",
            "   creating: CodeSearchNet/python/final/jsonl/\n",
            "   creating: CodeSearchNet/python/final/jsonl/train/\n",
            "  inflating: CodeSearchNet/python/final/jsonl/train/python_train_9.jsonl.gz  \n",
            "  inflating: CodeSearchNet/python/final/jsonl/train/python_train_12.jsonl.gz  \n",
            "  inflating: CodeSearchNet/python/final/jsonl/train/python_train_10.jsonl.gz  \n",
            "  inflating: CodeSearchNet/python/final/jsonl/train/python_train_0.jsonl.gz  \n",
            "  inflating: CodeSearchNet/python/final/jsonl/train/python_train_6.jsonl.gz  \n",
            "  inflating: CodeSearchNet/python/final/jsonl/train/python_train_2.jsonl.gz  \n",
            "  inflating: CodeSearchNet/python/final/jsonl/train/python_train_4.jsonl.gz  \n",
            "  inflating: CodeSearchNet/python/final/jsonl/train/python_train_8.jsonl.gz  \n",
            "  inflating: CodeSearchNet/python/final/jsonl/train/python_train_11.jsonl.gz  \n",
            "  inflating: CodeSearchNet/python/final/jsonl/train/python_train_5.jsonl.gz  \n",
            "  inflating: CodeSearchNet/python/final/jsonl/train/python_train_13.jsonl.gz  \n",
            "  inflating: CodeSearchNet/python/final/jsonl/train/python_train_3.jsonl.gz  \n",
            "  inflating: CodeSearchNet/python/final/jsonl/train/python_train_1.jsonl.gz  \n",
            "  inflating: CodeSearchNet/python/final/jsonl/train/python_train_7.jsonl.gz  \n",
            "   creating: CodeSearchNet/python/final/jsonl/test/\n",
            "  inflating: CodeSearchNet/python/final/jsonl/test/python_test_0.jsonl.gz  \n",
            "   creating: CodeSearchNet/python/final/jsonl/valid/\n",
            "  inflating: CodeSearchNet/python/final/jsonl/valid/python_valid_0.jsonl.gz  \n",
            "  inflating: CodeSearchNet/python_dedupe_definitions_v2.pkl  \n",
            "  inflating: CodeSearchNet/python_licenses.pkl  \n"
          ]
        }
      ]
    },
    {
      "cell_type": "code",
      "metadata": {
        "id": "2847085c",
        "colab": {
          "base_uri": "https://localhost:8080/"
        },
        "outputId": "b816bfe8-7a4f-40b8-ee7b-2e2a1c533fc3"
      },
      "source": [
        "python_files = sorted(Path('CodeSearchNet/python').glob('**/*.gz'))\n",
        "print(python_files)"
      ],
      "id": "2847085c",
      "execution_count": 3,
      "outputs": [
        {
          "output_type": "stream",
          "name": "stdout",
          "text": [
            "[PosixPath('CodeSearchNet/python/final/jsonl/test/python_test_0.jsonl.gz'), PosixPath('CodeSearchNet/python/final/jsonl/train/python_train_0.jsonl.gz'), PosixPath('CodeSearchNet/python/final/jsonl/train/python_train_1.jsonl.gz'), PosixPath('CodeSearchNet/python/final/jsonl/train/python_train_10.jsonl.gz'), PosixPath('CodeSearchNet/python/final/jsonl/train/python_train_11.jsonl.gz'), PosixPath('CodeSearchNet/python/final/jsonl/train/python_train_12.jsonl.gz'), PosixPath('CodeSearchNet/python/final/jsonl/train/python_train_13.jsonl.gz'), PosixPath('CodeSearchNet/python/final/jsonl/train/python_train_2.jsonl.gz'), PosixPath('CodeSearchNet/python/final/jsonl/train/python_train_3.jsonl.gz'), PosixPath('CodeSearchNet/python/final/jsonl/train/python_train_4.jsonl.gz'), PosixPath('CodeSearchNet/python/final/jsonl/train/python_train_5.jsonl.gz'), PosixPath('CodeSearchNet/python/final/jsonl/train/python_train_6.jsonl.gz'), PosixPath('CodeSearchNet/python/final/jsonl/train/python_train_7.jsonl.gz'), PosixPath('CodeSearchNet/python/final/jsonl/train/python_train_8.jsonl.gz'), PosixPath('CodeSearchNet/python/final/jsonl/train/python_train_9.jsonl.gz'), PosixPath('CodeSearchNet/python/final/jsonl/valid/python_valid_0.jsonl.gz')]\n"
          ]
        }
      ]
    },
    {
      "cell_type": "code",
      "metadata": {
        "id": "8aa7dbe1"
      },
      "source": [
        "columns_long_list = ['repo', 'path', 'url', 'code', \n",
        "                     'code_tokens', 'docstring', 'docstring_tokens', \n",
        "                     'language', 'partition']\n",
        "\n",
        "def jsonl_list_to_dataframe(file_list, columns=columns_long_list):\n",
        "    \"\"\"Load a list of jsonl.gz files into a pandas DataFrame.\"\"\"\n",
        "    return pd.concat([pd.read_json(f, \n",
        "                                   orient='records', \n",
        "                                   compression='gzip',\n",
        "                                   lines=True)[columns] \n",
        "                      for f in file_list], sort=False)"
      ],
      "id": "8aa7dbe1",
      "execution_count": 4,
      "outputs": []
    },
    {
      "cell_type": "code",
      "metadata": {
        "id": "be6c1c77"
      },
      "source": [
        "pydf = jsonl_list_to_dataframe(python_files, columns=['repo'])\n",
        "pydf = pydf.drop_duplicates().reset_index(drop=True)\n",
        "pydf.to_pickle(\"repos.pkl\")"
      ],
      "id": "be6c1c77",
      "execution_count": 5,
      "outputs": []
    },
    {
      "cell_type": "markdown",
      "metadata": {
        "id": "1d0559c4"
      },
      "source": [
        "## 2. Collect diff and commits"
      ],
      "id": "1d0559c4"
    },
    {
      "cell_type": "code",
      "metadata": {
        "colab": {
          "base_uri": "https://localhost:8080/"
        },
        "id": "8ee24339",
        "outputId": "fdae922a-cad8-49b5-c77a-e1df92a9d014"
      },
      "source": [
        "!mkdir repos\n",
        "!pip install pydriller\n",
        "!pip install pandas\n",
        "!pip install spacy"
      ],
      "id": "8ee24339",
      "execution_count": 6,
      "outputs": [
        {
          "output_type": "stream",
          "name": "stdout",
          "text": [
            "Collecting pydriller\n",
            "  Downloading PyDriller-2.0-py3-none-any.whl (65 kB)\n",
            "\u001b[?25l\r\u001b[K     |█████                           | 10 kB 20.3 MB/s eta 0:00:01\r\u001b[K     |██████████                      | 20 kB 22.4 MB/s eta 0:00:01\r\u001b[K     |███████████████                 | 30 kB 27.9 MB/s eta 0:00:01\r\u001b[K     |████████████████████            | 40 kB 30.3 MB/s eta 0:00:01\r\u001b[K     |█████████████████████████       | 51 kB 33.1 MB/s eta 0:00:01\r\u001b[K     |██████████████████████████████  | 61 kB 36.1 MB/s eta 0:00:01\r\u001b[K     |████████████████████████████████| 65 kB 3.2 MB/s \n",
            "\u001b[?25hRequirement already satisfied: pytz in /usr/local/lib/python3.7/dist-packages (from pydriller) (2018.9)\n",
            "Collecting gitpython\n",
            "  Downloading GitPython-3.1.24-py3-none-any.whl (180 kB)\n",
            "\u001b[K     |████████████████████████████████| 180 kB 58.6 MB/s \n",
            "\u001b[?25hCollecting lizard\n",
            "  Downloading lizard-1.17.9-py2.py3-none-any.whl (64 kB)\n",
            "\u001b[K     |████████████████████████████████| 64 kB 2.5 MB/s \n",
            "\u001b[?25hRequirement already satisfied: typing-extensions>=3.7.4.3 in /usr/local/lib/python3.7/dist-packages (from gitpython->pydriller) (3.10.0.2)\n",
            "Collecting gitdb<5,>=4.0.1\n",
            "  Downloading gitdb-4.0.9-py3-none-any.whl (63 kB)\n",
            "\u001b[K     |████████████████████████████████| 63 kB 1.5 MB/s \n",
            "\u001b[?25hCollecting smmap<6,>=3.0.1\n",
            "  Downloading smmap-5.0.0-py3-none-any.whl (24 kB)\n",
            "Installing collected packages: smmap, gitdb, lizard, gitpython, pydriller\n",
            "Successfully installed gitdb-4.0.9 gitpython-3.1.24 lizard-1.17.9 pydriller-2.0 smmap-5.0.0\n",
            "Requirement already satisfied: pandas in /usr/local/lib/python3.7/dist-packages (1.1.5)\n",
            "Requirement already satisfied: python-dateutil>=2.7.3 in /usr/local/lib/python3.7/dist-packages (from pandas) (2.8.2)\n",
            "Requirement already satisfied: numpy>=1.15.4 in /usr/local/lib/python3.7/dist-packages (from pandas) (1.19.5)\n",
            "Requirement already satisfied: pytz>=2017.2 in /usr/local/lib/python3.7/dist-packages (from pandas) (2018.9)\n",
            "Requirement already satisfied: six>=1.5 in /usr/local/lib/python3.7/dist-packages (from python-dateutil>=2.7.3->pandas) (1.15.0)\n",
            "Requirement already satisfied: spacy in /usr/local/lib/python3.7/dist-packages (2.2.4)\n",
            "Requirement already satisfied: numpy>=1.15.0 in /usr/local/lib/python3.7/dist-packages (from spacy) (1.19.5)\n",
            "Requirement already satisfied: preshed<3.1.0,>=3.0.2 in /usr/local/lib/python3.7/dist-packages (from spacy) (3.0.6)\n",
            "Requirement already satisfied: plac<1.2.0,>=0.9.6 in /usr/local/lib/python3.7/dist-packages (from spacy) (1.1.3)\n",
            "Requirement already satisfied: setuptools in /usr/local/lib/python3.7/dist-packages (from spacy) (57.4.0)\n",
            "Requirement already satisfied: tqdm<5.0.0,>=4.38.0 in /usr/local/lib/python3.7/dist-packages (from spacy) (4.62.3)\n",
            "Requirement already satisfied: wasabi<1.1.0,>=0.4.0 in /usr/local/lib/python3.7/dist-packages (from spacy) (0.8.2)\n",
            "Requirement already satisfied: blis<0.5.0,>=0.4.0 in /usr/local/lib/python3.7/dist-packages (from spacy) (0.4.1)\n",
            "Requirement already satisfied: thinc==7.4.0 in /usr/local/lib/python3.7/dist-packages (from spacy) (7.4.0)\n",
            "Requirement already satisfied: catalogue<1.1.0,>=0.0.7 in /usr/local/lib/python3.7/dist-packages (from spacy) (1.0.0)\n",
            "Requirement already satisfied: cymem<2.1.0,>=2.0.2 in /usr/local/lib/python3.7/dist-packages (from spacy) (2.0.6)\n",
            "Requirement already satisfied: srsly<1.1.0,>=1.0.2 in /usr/local/lib/python3.7/dist-packages (from spacy) (1.0.5)\n",
            "Requirement already satisfied: requests<3.0.0,>=2.13.0 in /usr/local/lib/python3.7/dist-packages (from spacy) (2.23.0)\n",
            "Requirement already satisfied: murmurhash<1.1.0,>=0.28.0 in /usr/local/lib/python3.7/dist-packages (from spacy) (1.0.6)\n",
            "Requirement already satisfied: importlib-metadata>=0.20 in /usr/local/lib/python3.7/dist-packages (from catalogue<1.1.0,>=0.0.7->spacy) (4.8.2)\n",
            "Requirement already satisfied: typing-extensions>=3.6.4 in /usr/local/lib/python3.7/dist-packages (from importlib-metadata>=0.20->catalogue<1.1.0,>=0.0.7->spacy) (3.10.0.2)\n",
            "Requirement already satisfied: zipp>=0.5 in /usr/local/lib/python3.7/dist-packages (from importlib-metadata>=0.20->catalogue<1.1.0,>=0.0.7->spacy) (3.6.0)\n",
            "Requirement already satisfied: certifi>=2017.4.17 in /usr/local/lib/python3.7/dist-packages (from requests<3.0.0,>=2.13.0->spacy) (2021.10.8)\n",
            "Requirement already satisfied: chardet<4,>=3.0.2 in /usr/local/lib/python3.7/dist-packages (from requests<3.0.0,>=2.13.0->spacy) (3.0.4)\n",
            "Requirement already satisfied: idna<3,>=2.5 in /usr/local/lib/python3.7/dist-packages (from requests<3.0.0,>=2.13.0->spacy) (2.10)\n",
            "Requirement already satisfied: urllib3!=1.25.0,!=1.25.1,<1.26,>=1.21.1 in /usr/local/lib/python3.7/dist-packages (from requests<3.0.0,>=2.13.0->spacy) (1.24.3)\n"
          ]
        }
      ]
    },
    {
      "cell_type": "code",
      "metadata": {
        "id": "72e76292"
      },
      "source": [
        "from pydriller import *\n",
        "import pandas as pd\n",
        "import nltk\n",
        "import spacy\n",
        "import re\n",
        "from functools import reduce"
      ],
      "id": "72e76292",
      "execution_count": 7,
      "outputs": []
    },
    {
      "cell_type": "code",
      "metadata": {
        "colab": {
          "base_uri": "https://localhost:8080/"
        },
        "id": "845d5eb7",
        "outputId": "7c37087b-4da4-4baf-b379-9cbbcf77832e"
      },
      "source": [
        "repodf = pd.read_pickle(\"repos.pkl\")\n",
        "print(repodf.shape)\n",
        "spacy_tokenizer = spacy.load(\"en_core_web_sm\")\n",
        "print(repodf)"
      ],
      "id": "845d5eb7",
      "execution_count": 8,
      "outputs": [
        {
          "output_type": "stream",
          "name": "stdout",
          "text": [
            "(13590, 1)\n",
            "                                 repo\n",
            "0                     soimort/you-get\n",
            "1                      apache/airflow\n",
            "2                      pytorch/vision\n",
            "3                      asciimoo/searx\n",
            "4              tensorflow/probability\n",
            "...                               ...\n",
            "13585         praekelt/python-ambient\n",
            "13586                 zenreach/py-era\n",
            "13587  TakesxiSximada/custom_settings\n",
            "13588            openpermissions/bass\n",
            "13589               xnuinside/clifier\n",
            "\n",
            "[13590 rows x 1 columns]\n"
          ]
        }
      ]
    },
    {
      "cell_type": "code",
      "metadata": {
        "id": "449680fc"
      },
      "source": [
        "import re\n",
        "def basic_filter(message):\n",
        "    return message.split(\"\\n\", 1)[0].strip()\n",
        "\n",
        "# Remove [label] in front of commit if exists\n",
        "def label_filter(message):\n",
        "    if (message.startswith('[')):\n",
        "        end_bracket_index = message.find(']')\n",
        "        if (end_bracket_index == -1):\n",
        "            return None\n",
        "        return message[:end_bracket_index+1]\n",
        "    return message\n",
        "\n",
        "def camel_case_split(str):\n",
        "    return re.findall(r'[A-Z](?:[a-z]+|[A-Z]*(?=[A-Z]|$))', str)\n",
        "\n",
        "def case_splitter(token):\n",
        "    return list(map(lambda x: x.lower(), camel_case_split(token[0].upper() + token[1:])))\n",
        "\n",
        "def split_by_quote(diff):\n",
        "    text_list = [(0,0)]\n",
        "    quote_state = 0 #[\"out\",\"single\",\"double\",\"Single\",\"Double\",\"quote\"]\n",
        "    i=0\n",
        "    while i<len(diff):\n",
        "      if diff[i] == \"\\\\\":i+=1\n",
        "      elif (diff[i] == \"\\n\" and quote_state == 5) or (diff[i] == '#' and quote_state == 0):\n",
        "        text_list.append((quote_state,i))\n",
        "        quote_state = abs(5-quote_state)\n",
        "      elif diff[i] == '\"':\n",
        "        if i+2<len(diff) and diff[i:i+3]=='\"\"\"' and (quote_state == 0 or quote_state ==4):\n",
        "          text_list.append((quote_state,i+max(quote_state-1,0)))\n",
        "          quote_state = abs(4-quote_state)\n",
        "          i+=2\n",
        "        elif quote_state == 0 or quote_state == 2:\n",
        "          text_list.append((quote_state,i+max(quote_state-1,0)))\n",
        "          quote_state = abs(2-quote_state)\n",
        "      elif diff[i] == \"'\":\n",
        "        if i+2<len(diff) and diff[i:i+3] == \"'''\" and (quote_state == 0 or quote_state == 3):\n",
        "          text_list.append((quote_state,i+quote_state))\n",
        "          quote_state = abs(3-quote_state)\n",
        "          i+=2\n",
        "        elif quote_state == 0 or quote_state == 1:\n",
        "          text_list.append((quote_state,i+quote_state))\n",
        "          quote_state = abs(1-quote_state)\n",
        "      i+=1\n",
        "    return [(text_list[i][0]%5==0,diff[text_list[i-1][1]:text_list[i][1]]) for i in range(1,len(text_list))]\n",
        "def diff_processing(mf):\n",
        "    diff = '\\n'.join(map(lambda x: x[1], filter(lambda y: y[0] % 2 == 0, enumerate(mf.diff.split(\"@@\")))))\n",
        "    diff = diff.replace('\\n+', '\\n<add>').replace('\\n-', '\\n<del>')\n",
        "    # Replace_symbol_in_string = ex)url\n",
        "    diff = re.sub(r\"(?:\\n[ \\t\\r\\f\\v]*)+\",\"\\n\",diff) #Join continuous row change\n",
        "    quote_split = split_by_quote(diff)\n",
        "    token_regex = r\"\"\"(?x)\n",
        "      <(?:add|del)>   #Filtered eariler\n",
        "    |(?:[#][\\s]*)+           #Quotation\n",
        "    |(?:[-+*/^&~|=%!<>@?$][\\s]*)+     #Sequence of symbols\n",
        "    |[\\n]                    #Change row\n",
        "    |[a-zA-Z]+               #General text\n",
        "    |[0-9]+                  #Number\n",
        "    \"\"\"\n",
        "    string_regex = r\"\"\"(?x)\n",
        "    <(?:add|del)>\n",
        "    |[\\n]\n",
        "    |[a-zA-Z]+\n",
        "    \"\"\"\n",
        "    #'\"`,.;:()[]{}_ not included\n",
        "    token_initial = reduce(lambda a,b:a+b,map(lambda a: nltk.tokenize.regexp_tokenize(a[1],token_regex) if a[0] else nltk.tokenize.regexp_tokenize(a[1],string_regex),quote_split),[])\n",
        "    token_camel_case_split = reduce(lambda a,b:a+b,map(lambda a: case_splitter(a) if 97<=ord(a[0].lower())<122 else [a], token_initial),[])\n",
        "    return token_camel_case_split\n",
        "\n",
        "\n",
        "def parse_repo_commits(repo_name, commit_limit=50):\n",
        "    data = []\n",
        "    commit_count = 0\n",
        "    for commit in Repository(\n",
        "        f\"https://github.com/{repo_name}\",\n",
        "        only_modifications_with_file_types=[\".py\"],\n",
        "        only_no_merge=True,\n",
        "        order='reverse'\n",
        "    ).traverse_commits():\n",
        "        if (commit_count >= commit_limit): break\n",
        "        line = basic_filter(commit.msg)\n",
        "        line = label_filter(line)\n",
        "        \n",
        "        if (line is None):\n",
        "            print(f\"[DEBUG] Label filter return None for repo {repo} and hash {commit.hash}\")\n",
        "        \n",
        "        line = line.replace('_', ' ')\n",
        "\n",
        "        # ignore mentions, non-English, github issue #\n",
        "        if (len(re.findall(r\"[^a-zA-Z0-9: ]\", line)) != 0):\n",
        "          continue\n",
        "        \n",
        "        tokens = spacy_tokenizer(line)\n",
        "        \n",
        "        # VERB filter\n",
        "        if (tokens[0].pos_ != 'VERB'):\n",
        "            continue\n",
        "        \n",
        "        tokens = reduce(lambda a,b: a+b, map(case_splitter, [token.text for token in tokens]), [])\n",
        "        \n",
        "        if (len(tokens) < 3 or len(tokens) > 30):\n",
        "            continue\n",
        "        \n",
        "        # Check if changed files are python\n",
        "        file_failed = False\n",
        "        \n",
        "        for mf in commit.modified_files:\n",
        "            if (not mf.filename.endswith(\".py\")):\n",
        "                file_failed = True\n",
        "                break\n",
        "        \n",
        "        if (file_failed):\n",
        "            continue\n",
        "        \n",
        "        diff_tokens = list(map(diff_processing, commit.modified_files))\n",
        "        diff_tokens_size = sum(map(len, diff_tokens))\n",
        "        if (diff_tokens_size > 100):\n",
        "          continue\n",
        "        \n",
        "        for mf in commit.modified_files:\n",
        "          print(mf.diff)\n",
        "          print(\"\")\n",
        "\n",
        "\n",
        "        print(list(diff_tokens))\n",
        "        input()\n",
        "        \n",
        "        \n",
        "        data.append([repo_name, commit.hash, ' '.join(tokens), diff])\n",
        "        commit_count += 1\n",
        "\n",
        "    return pd.DataFrame(data, columns=[\"repo\", \"hash\", \"commit_messsage\", \"diff\"])"
      ],
      "id": "449680fc",
      "execution_count": 28,
      "outputs": []
    },
    {
      "cell_type": "code",
      "metadata": {
        "colab": {
          "base_uri": "https://localhost:8080/"
        },
        "id": "b2854419",
        "outputId": "3c50eb71-377e-4e30-fc5f-e72c7c24d36e"
      },
      "source": [
        "import time\n",
        "start = time.time()\n",
        "df = parse_repo_commits(\"soimort/you-get\")\n",
        "#df = parse_repo_commits(\"tensorflow/probability\")\n",
        "end = time.time()\n",
        "print(end - start)\n",
        "df.head(3)"
      ],
      "id": "b2854419",
      "execution_count": null,
      "outputs": [
        {
          "output_type": "stream",
          "name": "stdout",
          "text": [
            "@@ -12,6 +12,8 @@ class Bilibili(VideoExtractor):\n",
            " \n",
            "     # Bilibili media encoding options, in descending quality order.\n",
            "     stream_types = [\n",
            "+        {'id': 'hdflv2', 'quality': 125, 'audio_quality': 30280,\n",
            "+         'container': 'FLV', 'video_resolution': '3840p', 'desc': '真彩 HDR'},\n",
            "         {'id': 'hdflv2_4k', 'quality': 120, 'audio_quality': 30280,\n",
            "          'container': 'FLV', 'video_resolution': '2160p', 'desc': '超清 4K'},\n",
            "         {'id': 'flv_p60', 'quality': 116, 'audio_quality': 30280,\n",
            "\n",
            "\n",
            "[['\\n', 'class', 'bilibili', 'video', 'extractor', '\\n', '# ', 'bilibili', 'media', 'encoding', 'options', 'in', 'descending', 'quality', 'order', '\\n', 'stream', 'types', '= ', '\\n', '<add>', 'id', 'hdflv', 'quality', '125', 'audio', 'quality', '30280', '\\n', '<add>', 'container', 'flv', 'video', 'resolution', 'p', 'desc', 'hdr', '\\n', 'id', 'hdflv', 'k', 'quality', '120', 'audio', 'quality', '30280', '\\n', 'container', 'flv', 'video', 'resolution', 'p', 'desc', 'k', '\\n', 'id', 'flv', 'p', 'quality', '116', 'audio', 'quality']]\n"
          ]
        }
      ]
    },
    {
      "cell_type": "code",
      "metadata": {
        "id": "0f65faf9"
      },
      "source": [
        "import multiprocessing\n",
        "\n",
        "data = []\n",
        "\n",
        "def f(repo):\n",
        "    df = parse_repo_commits(repo)\n",
        "    df.to_pickle(f\"./repos/{repo.replace('/', '+')}.pkl\")\n",
        "    print(repo, \"Done\")\n",
        "    return df\n",
        "\n",
        "pool = multiprocessing.Pool()\n",
        "outputs = pool.map(f, repodf['repo'][:3])\n",
        "pd.concat(outputs).to_pickle(\"data.pkl\")"
      ],
      "id": "0f65faf9",
      "execution_count": null,
      "outputs": []
    },
    {
      "cell_type": "code",
      "metadata": {
        "id": "04bfe004"
      },
      "source": [
        "df = pd.read_pickle(\"data.pkl\")\n",
        "df.head(3)"
      ],
      "id": "04bfe004",
      "execution_count": null,
      "outputs": []
    },
    {
      "cell_type": "code",
      "metadata": {
        "id": "fbdfa1a5"
      },
      "source": [
        "for repo in repodf[\"repo\"]:\n",
        "  for commit in Repository(\n",
        "      f\"https://github.com/{repo}\",\n",
        "      only_modifications_with_file_types=[\".py\"],\n",
        "      only_no_merge=True,\n",
        "      order='reverse').traverse_commits():\n",
        "      \n",
        "      line = commit.msg.split('\\n', 1)[0]\n",
        "      if (len(re.findall(r\"[^a-zA-Z0-9: ]\", line)) == 0):\n",
        "        print(repo)\n",
        "        print(commit.hash)\n",
        "        print(line)\n",
        "        tokens = spacy_tokenizer(line)\n",
        "        print(list(tokens))\n",
        "        input()"
      ],
      "id": "fbdfa1a5",
      "execution_count": null,
      "outputs": []
    },
    {
      "cell_type": "code",
      "metadata": {
        "id": "5hlgSt6J6Tvr"
      },
      "source": [
        ""
      ],
      "id": "5hlgSt6J6Tvr",
      "execution_count": null,
      "outputs": []
    }
  ]
}