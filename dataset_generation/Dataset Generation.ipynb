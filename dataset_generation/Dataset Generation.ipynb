{
  "nbformat": 4,
  "nbformat_minor": 5,
  "metadata": {
    "kernelspec": {
      "name": "python3",
      "display_name": "Python 3"
    },
    "colab": {
      "name": "Dataset Generation.ipynb",
      "provenance": []
    },
    "language_info": {
      "name": "python"
    },
    "accelerator": "TPU"
  },
  "cells": [
    {
      "cell_type": "code",
      "metadata": {
        "colab": {
          "base_uri": "https://localhost:8080/"
        },
        "id": "TySV2A3KyKzL",
        "outputId": "2489dca1-fec9-42a6-c376-d366896020e8"
      },
      "source": [
        "# mount drive https://datascience.stackexchange.com/questions/29480/uploading-images-folder-from-my-system-into-google-colab\n",
        "# login with your google account and type authorization code to mount on your googlbie drive.\n",
        "from google.colab import drive\n",
        "drive.mount('/gdrive')\n",
        "root = '/gdrive/My Drive/CS492I/project'"
      ],
      "id": "TySV2A3KyKzL",
      "execution_count": 1,
      "outputs": [
        {
          "output_type": "stream",
          "name": "stdout",
          "text": [
            "Mounted at /gdrive\n"
          ]
        }
      ]
    },
    {
      "cell_type": "markdown",
      "metadata": {
        "id": "8a5ade31"
      },
      "source": [
        "## 1. Collect CodeSearchNet Repositories"
      ],
      "id": "8a5ade31"
    },
    {
      "cell_type": "code",
      "metadata": {
        "id": "c06bb109"
      },
      "source": [
        "import json\n",
        "\n",
        "import pandas as pd\n",
        "from pathlib import Path\n",
        "pd.set_option('max_colwidth',300)\n",
        "from pprint import pprint"
      ],
      "id": "c06bb109",
      "execution_count": 2,
      "outputs": []
    },
    {
      "cell_type": "code",
      "metadata": {
        "colab": {
          "base_uri": "https://localhost:8080/"
        },
        "id": "4c50cf9b",
        "outputId": "62b49b1b-cc12-44cd-beae-68503a6886e1"
      },
      "source": [
        "!wget https://s3.amazonaws.com/code-search-net/CodeSearchNet/v2/python.zip\n",
        "!mkdir CodeSearchNet\n",
        "!unzip python.zip -d CodeSearchNet"
      ],
      "id": "4c50cf9b",
      "execution_count": 3,
      "outputs": [
        {
          "output_type": "stream",
          "name": "stdout",
          "text": [
            "--2021-12-03 07:32:59--  https://s3.amazonaws.com/code-search-net/CodeSearchNet/v2/python.zip\n",
            "Resolving s3.amazonaws.com (s3.amazonaws.com)... 52.217.69.238\n",
            "Connecting to s3.amazonaws.com (s3.amazonaws.com)|52.217.69.238|:443... connected.\n",
            "HTTP request sent, awaiting response... 200 OK\n",
            "Length: 940909997 (897M) [application/zip]\n",
            "Saving to: ‘python.zip’\n",
            "\n",
            "python.zip          100%[===================>] 897.32M  65.4MB/s    in 13s     \n",
            "\n",
            "2021-12-03 07:33:12 (68.1 MB/s) - ‘python.zip’ saved [940909997/940909997]\n",
            "\n",
            "Archive:  python.zip\n",
            "   creating: CodeSearchNet/python/\n",
            "   creating: CodeSearchNet/python/final/\n",
            "   creating: CodeSearchNet/python/final/jsonl/\n",
            "   creating: CodeSearchNet/python/final/jsonl/train/\n",
            "  inflating: CodeSearchNet/python/final/jsonl/train/python_train_9.jsonl.gz  \n",
            "  inflating: CodeSearchNet/python/final/jsonl/train/python_train_12.jsonl.gz  \n",
            "  inflating: CodeSearchNet/python/final/jsonl/train/python_train_10.jsonl.gz  \n",
            "  inflating: CodeSearchNet/python/final/jsonl/train/python_train_0.jsonl.gz  \n",
            "  inflating: CodeSearchNet/python/final/jsonl/train/python_train_6.jsonl.gz  \n",
            "  inflating: CodeSearchNet/python/final/jsonl/train/python_train_2.jsonl.gz  \n",
            "  inflating: CodeSearchNet/python/final/jsonl/train/python_train_4.jsonl.gz  \n",
            "  inflating: CodeSearchNet/python/final/jsonl/train/python_train_8.jsonl.gz  \n",
            "  inflating: CodeSearchNet/python/final/jsonl/train/python_train_11.jsonl.gz  \n",
            "  inflating: CodeSearchNet/python/final/jsonl/train/python_train_5.jsonl.gz  \n",
            "  inflating: CodeSearchNet/python/final/jsonl/train/python_train_13.jsonl.gz  \n",
            "  inflating: CodeSearchNet/python/final/jsonl/train/python_train_3.jsonl.gz  \n",
            "  inflating: CodeSearchNet/python/final/jsonl/train/python_train_1.jsonl.gz  \n",
            "  inflating: CodeSearchNet/python/final/jsonl/train/python_train_7.jsonl.gz  \n",
            "   creating: CodeSearchNet/python/final/jsonl/test/\n",
            "  inflating: CodeSearchNet/python/final/jsonl/test/python_test_0.jsonl.gz  \n",
            "   creating: CodeSearchNet/python/final/jsonl/valid/\n",
            "  inflating: CodeSearchNet/python/final/jsonl/valid/python_valid_0.jsonl.gz  \n",
            "  inflating: CodeSearchNet/python_dedupe_definitions_v2.pkl  \n",
            "  inflating: CodeSearchNet/python_licenses.pkl  \n"
          ]
        }
      ]
    },
    {
      "cell_type": "code",
      "metadata": {
        "id": "2847085c",
        "colab": {
          "base_uri": "https://localhost:8080/"
        },
        "outputId": "b98d532c-a88f-43db-c790-a0986fdddffe"
      },
      "source": [
        "python_files = sorted(Path('CodeSearchNet/python').glob('**/*.gz'))\n",
        "print(python_files)"
      ],
      "id": "2847085c",
      "execution_count": 4,
      "outputs": [
        {
          "output_type": "stream",
          "name": "stdout",
          "text": [
            "[PosixPath('CodeSearchNet/python/final/jsonl/test/python_test_0.jsonl.gz'), PosixPath('CodeSearchNet/python/final/jsonl/train/python_train_0.jsonl.gz'), PosixPath('CodeSearchNet/python/final/jsonl/train/python_train_1.jsonl.gz'), PosixPath('CodeSearchNet/python/final/jsonl/train/python_train_10.jsonl.gz'), PosixPath('CodeSearchNet/python/final/jsonl/train/python_train_11.jsonl.gz'), PosixPath('CodeSearchNet/python/final/jsonl/train/python_train_12.jsonl.gz'), PosixPath('CodeSearchNet/python/final/jsonl/train/python_train_13.jsonl.gz'), PosixPath('CodeSearchNet/python/final/jsonl/train/python_train_2.jsonl.gz'), PosixPath('CodeSearchNet/python/final/jsonl/train/python_train_3.jsonl.gz'), PosixPath('CodeSearchNet/python/final/jsonl/train/python_train_4.jsonl.gz'), PosixPath('CodeSearchNet/python/final/jsonl/train/python_train_5.jsonl.gz'), PosixPath('CodeSearchNet/python/final/jsonl/train/python_train_6.jsonl.gz'), PosixPath('CodeSearchNet/python/final/jsonl/train/python_train_7.jsonl.gz'), PosixPath('CodeSearchNet/python/final/jsonl/train/python_train_8.jsonl.gz'), PosixPath('CodeSearchNet/python/final/jsonl/train/python_train_9.jsonl.gz'), PosixPath('CodeSearchNet/python/final/jsonl/valid/python_valid_0.jsonl.gz')]\n"
          ]
        }
      ]
    },
    {
      "cell_type": "code",
      "metadata": {
        "id": "8aa7dbe1"
      },
      "source": [
        "columns_long_list = ['repo', 'path', 'url', 'code', \n",
        "                     'code_tokens', 'docstring', 'docstring_tokens', \n",
        "                     'language', 'partition']\n",
        "\n",
        "def jsonl_list_to_dataframe(file_list, columns=columns_long_list):\n",
        "    \"\"\"Load a list of jsonl.gz files into a pandas DataFrame.\"\"\"\n",
        "    return pd.concat([pd.read_json(f, \n",
        "                                   orient='records', \n",
        "                                   compression='gzip',\n",
        "                                   lines=True)[columns] \n",
        "                      for f in file_list], sort=False)"
      ],
      "id": "8aa7dbe1",
      "execution_count": 5,
      "outputs": []
    },
    {
      "cell_type": "code",
      "metadata": {
        "id": "be6c1c77"
      },
      "source": [
        "pydf = jsonl_list_to_dataframe(python_files, columns=['repo'])\n",
        "pydf = pydf.drop_duplicates().reset_index(drop=True)\n",
        "pydf.to_pickle(f\"{root}/repos.pkl\")"
      ],
      "id": "be6c1c77",
      "execution_count": 7,
      "outputs": []
    },
    {
      "cell_type": "markdown",
      "metadata": {
        "id": "1d0559c4"
      },
      "source": [
        "## 2. Collect diff and commits"
      ],
      "id": "1d0559c4"
    },
    {
      "cell_type": "code",
      "metadata": {
        "colab": {
          "base_uri": "https://localhost:8080/"
        },
        "id": "8ee24339",
        "outputId": "2a235f38-9aed-4792-dab5-8a052ccdb74e"
      },
      "source": [
        "!pip install pydriller\n",
        "!pip install pandas\n",
        "!pip install spacy"
      ],
      "id": "8ee24339",
      "execution_count": 8,
      "outputs": [
        {
          "output_type": "stream",
          "name": "stdout",
          "text": [
            "Collecting pydriller\n",
            "  Downloading PyDriller-2.0-py3-none-any.whl (65 kB)\n",
            "\u001b[K     |████████████████████████████████| 65 kB 2.3 MB/s \n",
            "\u001b[?25hCollecting lizard\n",
            "  Downloading lizard-1.17.9-py2.py3-none-any.whl (64 kB)\n",
            "\u001b[K     |████████████████████████████████| 64 kB 3.2 MB/s \n",
            "\u001b[?25hCollecting gitpython\n",
            "  Downloading GitPython-3.1.24-py3-none-any.whl (180 kB)\n",
            "\u001b[K     |████████████████████████████████| 180 kB 46.4 MB/s \n",
            "\u001b[?25hRequirement already satisfied: pytz in /usr/local/lib/python3.7/dist-packages (from pydriller) (2018.9)\n",
            "Requirement already satisfied: typing-extensions>=3.7.4.3 in /usr/local/lib/python3.7/dist-packages (from gitpython->pydriller) (3.10.0.2)\n",
            "Collecting gitdb<5,>=4.0.1\n",
            "  Downloading gitdb-4.0.9-py3-none-any.whl (63 kB)\n",
            "\u001b[K     |████████████████████████████████| 63 kB 1.7 MB/s \n",
            "\u001b[?25hCollecting smmap<6,>=3.0.1\n",
            "  Downloading smmap-5.0.0-py3-none-any.whl (24 kB)\n",
            "Installing collected packages: smmap, gitdb, lizard, gitpython, pydriller\n",
            "Successfully installed gitdb-4.0.9 gitpython-3.1.24 lizard-1.17.9 pydriller-2.0 smmap-5.0.0\n",
            "Requirement already satisfied: pandas in /usr/local/lib/python3.7/dist-packages (1.1.5)\n",
            "Requirement already satisfied: pytz>=2017.2 in /usr/local/lib/python3.7/dist-packages (from pandas) (2018.9)\n",
            "Requirement already satisfied: numpy>=1.15.4 in /usr/local/lib/python3.7/dist-packages (from pandas) (1.19.5)\n",
            "Requirement already satisfied: python-dateutil>=2.7.3 in /usr/local/lib/python3.7/dist-packages (from pandas) (2.8.2)\n",
            "Requirement already satisfied: six>=1.5 in /usr/local/lib/python3.7/dist-packages (from python-dateutil>=2.7.3->pandas) (1.15.0)\n",
            "Requirement already satisfied: spacy in /usr/local/lib/python3.7/dist-packages (2.2.4)\n",
            "Requirement already satisfied: numpy>=1.15.0 in /usr/local/lib/python3.7/dist-packages (from spacy) (1.19.5)\n",
            "Requirement already satisfied: srsly<1.1.0,>=1.0.2 in /usr/local/lib/python3.7/dist-packages (from spacy) (1.0.5)\n",
            "Requirement already satisfied: tqdm<5.0.0,>=4.38.0 in /usr/local/lib/python3.7/dist-packages (from spacy) (4.62.3)\n",
            "Requirement already satisfied: cymem<2.1.0,>=2.0.2 in /usr/local/lib/python3.7/dist-packages (from spacy) (2.0.6)\n",
            "Requirement already satisfied: thinc==7.4.0 in /usr/local/lib/python3.7/dist-packages (from spacy) (7.4.0)\n",
            "Requirement already satisfied: setuptools in /usr/local/lib/python3.7/dist-packages (from spacy) (57.4.0)\n",
            "Requirement already satisfied: requests<3.0.0,>=2.13.0 in /usr/local/lib/python3.7/dist-packages (from spacy) (2.23.0)\n",
            "Requirement already satisfied: murmurhash<1.1.0,>=0.28.0 in /usr/local/lib/python3.7/dist-packages (from spacy) (1.0.6)\n",
            "Requirement already satisfied: blis<0.5.0,>=0.4.0 in /usr/local/lib/python3.7/dist-packages (from spacy) (0.4.1)\n",
            "Requirement already satisfied: catalogue<1.1.0,>=0.0.7 in /usr/local/lib/python3.7/dist-packages (from spacy) (1.0.0)\n",
            "Requirement already satisfied: wasabi<1.1.0,>=0.4.0 in /usr/local/lib/python3.7/dist-packages (from spacy) (0.8.2)\n",
            "Requirement already satisfied: preshed<3.1.0,>=3.0.2 in /usr/local/lib/python3.7/dist-packages (from spacy) (3.0.6)\n",
            "Requirement already satisfied: plac<1.2.0,>=0.9.6 in /usr/local/lib/python3.7/dist-packages (from spacy) (1.1.3)\n",
            "Requirement already satisfied: importlib-metadata>=0.20 in /usr/local/lib/python3.7/dist-packages (from catalogue<1.1.0,>=0.0.7->spacy) (4.8.2)\n",
            "Requirement already satisfied: zipp>=0.5 in /usr/local/lib/python3.7/dist-packages (from importlib-metadata>=0.20->catalogue<1.1.0,>=0.0.7->spacy) (3.6.0)\n",
            "Requirement already satisfied: typing-extensions>=3.6.4 in /usr/local/lib/python3.7/dist-packages (from importlib-metadata>=0.20->catalogue<1.1.0,>=0.0.7->spacy) (3.10.0.2)\n",
            "Requirement already satisfied: urllib3!=1.25.0,!=1.25.1,<1.26,>=1.21.1 in /usr/local/lib/python3.7/dist-packages (from requests<3.0.0,>=2.13.0->spacy) (1.24.3)\n",
            "Requirement already satisfied: chardet<4,>=3.0.2 in /usr/local/lib/python3.7/dist-packages (from requests<3.0.0,>=2.13.0->spacy) (3.0.4)\n",
            "Requirement already satisfied: idna<3,>=2.5 in /usr/local/lib/python3.7/dist-packages (from requests<3.0.0,>=2.13.0->spacy) (2.10)\n",
            "Requirement already satisfied: certifi>=2017.4.17 in /usr/local/lib/python3.7/dist-packages (from requests<3.0.0,>=2.13.0->spacy) (2021.10.8)\n"
          ]
        }
      ]
    },
    {
      "cell_type": "code",
      "metadata": {
        "id": "72e76292"
      },
      "source": [
        "from pydriller import *\n",
        "import pandas as pd\n",
        "from nltk.tokenize import regexp_tokenize \n",
        "import spacy\n",
        "import re\n",
        "from itertools import chain\n",
        "import json"
      ],
      "id": "72e76292",
      "execution_count": 24,
      "outputs": []
    },
    {
      "cell_type": "code",
      "metadata": {
        "colab": {
          "base_uri": "https://localhost:8080/"
        },
        "id": "845d5eb7",
        "outputId": "c86f09a9-3427-4d52-deef-a32d047f9d9c"
      },
      "source": [
        "repodf = pd.read_pickle(f\"{root}/repos.pkl\")\n",
        "print(repodf.shape)\n",
        "spacy_tokenizer = spacy.load(\"en_core_web_sm\")\n",
        "print(repodf)"
      ],
      "id": "845d5eb7",
      "execution_count": 10,
      "outputs": [
        {
          "output_type": "stream",
          "name": "stdout",
          "text": [
            "(13590, 1)\n",
            "                                 repo\n",
            "0                     soimort/you-get\n",
            "1                      apache/airflow\n",
            "2                      pytorch/vision\n",
            "3                      asciimoo/searx\n",
            "4              tensorflow/probability\n",
            "...                               ...\n",
            "13585         praekelt/python-ambient\n",
            "13586                 zenreach/py-era\n",
            "13587  TakesxiSximada/custom_settings\n",
            "13588            openpermissions/bass\n",
            "13589               xnuinside/clifier\n",
            "\n",
            "[13590 rows x 1 columns]\n"
          ]
        }
      ]
    },
    {
      "cell_type": "code",
      "metadata": {
        "id": "449680fc"
      },
      "source": [
        "def basic_filter(message):\n",
        "    return message.split(\"\\n\", 1)[0].strip()\n",
        "\n",
        "# Remove [label] in front of commit if exists\n",
        "def label_filter(message):\n",
        "    if (message.startswith('[')):\n",
        "        end_bracket_index = message.find(']')\n",
        "        if (end_bracket_index == -1):\n",
        "            return None\n",
        "        return message[:end_bracket_index+1]\n",
        "    return message\n",
        "\n",
        "def camel_case_split(str):\n",
        "    return re.findall(r'[A-Z](?:[a-z]+|[A-Z]*(?=[A-Z]|$))', str)\n",
        "\n",
        "def case_splitter(token):\n",
        "    return list(map(lambda x: x.lower(), camel_case_split(token[0].upper() + token[1:]) if token[0].isalpha() else [token]))\n",
        "\n",
        "\n",
        "def split_by_quote(diff):\n",
        "    text_list = [(0,0)]\n",
        "    quote_state = 0 #[\"out\",\"single\",\"double\",\"Single\",\"Double\",\"quote\"]\n",
        "    i=0\n",
        "    while i<len(diff):\n",
        "      if diff[i] == \"\\\\\":i+=1\n",
        "      elif (diff[i] == \"\\n\" and quote_state == 5) or (diff[i] == '#' and quote_state == 0):\n",
        "        text_list.append((quote_state,i))\n",
        "        quote_state = abs(5-quote_state)\n",
        "      elif diff[i] == '\"':\n",
        "        if i+2<len(diff) and diff[i:i+3]=='\"\"\"' and (quote_state == 0 or quote_state ==4):\n",
        "          text_list.append((quote_state,i+max(quote_state-1,0)))\n",
        "          quote_state = abs(4-quote_state)\n",
        "          i+=2\n",
        "        elif quote_state == 0 or quote_state == 2:\n",
        "          text_list.append((quote_state,i+max(quote_state-1,0)))\n",
        "          quote_state = abs(2-quote_state)\n",
        "      elif diff[i] == \"'\":\n",
        "        if i+2<len(diff) and diff[i:i+3] == \"'''\" and (quote_state == 0 or quote_state == 3):\n",
        "          text_list.append((quote_state,i+quote_state))\n",
        "          quote_state = abs(3-quote_state)\n",
        "          i+=2\n",
        "        elif quote_state == 0 or quote_state == 1:\n",
        "          text_list.append((quote_state,i+quote_state))\n",
        "          quote_state = abs(1-quote_state)\n",
        "      i+=1\n",
        "    text_list.append((quote_state,i))\n",
        "    return [(text_list[i][0]==0,diff[text_list[i-1][1]:text_list[i][1]]) for i in range(1,len(text_list))]\n",
        "  \n",
        "\n",
        "token_regex = r\"\"\"(?x)\n",
        "<(?:add|del)>   #Filtered eariler\n",
        "|(?:[-+*/^&~|=%!<>@?$][\\s]*)+     #Sequence of symbols\n",
        "|[\\n]                    #Change row\n",
        "|[a-zA-Z]+               #General text\n",
        "|[0-9]+                  #Number\n",
        "\"\"\"\n",
        "string_regex = r\"\"\"(?x)\n",
        "<(?:add|del)>\n",
        "|[\\n]\n",
        "|[a-zA-Z]+\n",
        "\"\"\"\n",
        "def diff_tokenizer(diff_text):\n",
        "    diff = '\\n'.join(map(lambda x: x[1], filter(lambda y: y[0] % 2 == 0, enumerate(diff_text.split(\"@@\")))))\n",
        "    diff = diff.replace('\\n+', '\\n<add>').replace('\\n-', '\\n<del>')\n",
        "    diff = re.sub(r\"(?:\\n[ \\t\\r\\f\\v]*)+\",\"\\n\",diff) #Join continuous row change\n",
        "    quote_split = split_by_quote(diff)\n",
        "    #'\"`,.;:()[]{}_ not included\n",
        "    token_initial = chain.from_iterable(map(lambda a: regexp_tokenize(a[1],(token_regex if a[0] else string_regex)), quote_split))\n",
        "    token_camel_case_split = chain.from_iterable(map(case_splitter, token_initial))\n",
        "    return token_camel_case_split\n",
        "\n",
        "\n",
        "def parse_repo_commits(repo_name, commit_limit=50):\n",
        "    data = []\n",
        "    commit_count = 0\n",
        "    for commit in Repository(\n",
        "        f\"https://github.com/{repo_name}\",\n",
        "        only_modifications_with_file_types=[\".py\"],\n",
        "        only_no_merge=True,\n",
        "        order='reverse'\n",
        "    ).traverse_commits():\n",
        "        if (commit_count >= commit_limit): break\n",
        "        line = basic_filter(commit.msg)\n",
        "        line = label_filter(line)\n",
        "        if (line is None):\n",
        "            print(f\"[DEBUG] Label filter return None for repo {repo} and hash {commit.hash}\")\n",
        "        \n",
        "        if line.count(\"`\")%2 == 1:\n",
        "          continue\n",
        "        backtick_regex = r\"`[^`]+`|[^`]+\"\n",
        "        line_divided_by_backtick = re.findall(backtick_regex,line)\n",
        "        tokens = chain.from_iterable(map(lambda text: regexp_tokenize(text,(token_regex if text[0] == '`' else string_regex)),line_divided_by_backtick))\n",
        "        \n",
        "        commit_tokens = list(chain.from_iterable(map(case_splitter, tokens)))\n",
        "        \n",
        "        if (len(commit_tokens) < 3 or len(commit_tokens) > 30):\n",
        "            continue\n",
        "\n",
        "        # Check if changed files are python\n",
        "        file_failed = False\n",
        "        count_diff_lines = 0\n",
        "\n",
        "        for mf in commit.modified_files:\n",
        "            if (not mf.filename.endswith(\".py\")):\n",
        "                file_failed = True\n",
        "                break\n",
        "            count_diff_lines += mf.added_lines + mf.deleted_lines\n",
        "        \n",
        "        if (file_failed):\n",
        "            continue\n",
        "        \n",
        "        if(count_diff_lines > 50):\n",
        "            continue\n",
        "        \n",
        "        # Create diff tokens\n",
        "        diff_tokens = []\n",
        "        for f in commit.modified_files:\n",
        "          diff_tokens.append (['<file>'])\n",
        "          diff_tokens.append(diff_tokenizer(f.diff))\n",
        "\n",
        "        diff_whole_tokens = list(chain.from_iterable(diff_tokens))\n",
        "\n",
        "        data.append([repo_name, commit.hash, json.dumps(commit_tokens), json.dumps(diff_whole_tokens)])\n",
        "        commit_count += 1\n",
        "\n",
        "    return pd.DataFrame(data, columns=[\"repo\", \"hash\", \"commit_messsage\", \"diff\"])"
      ],
      "id": "449680fc",
      "execution_count": 29,
      "outputs": []
    },
    {
      "cell_type": "code",
      "metadata": {
        "colab": {
          "base_uri": "https://localhost:8080/",
          "height": 902
        },
        "id": "b2854419",
        "outputId": "660ad55a-ee48-4efd-ae62-6a6504b76916"
      },
      "source": [
        "import time\n",
        "start = time.time()\n",
        "df = parse_repo_commits(\"soimort/you-get\")\n",
        "#df = parse_repo_commits(\"tensorflow/probability\")\n",
        "end = time.time()\n",
        "print(end - start)\n",
        "df.head(10)"
      ],
      "id": "b2854419",
      "execution_count": 30,
      "outputs": [
        {
          "output_type": "stream",
          "name": "stdout",
          "text": [
            "7.397684097290039\n"
          ]
        },
        {
          "output_type": "execute_result",
          "data": {
            "text/html": [
              "<div>\n",
              "<style scoped>\n",
              "    .dataframe tbody tr th:only-of-type {\n",
              "        vertical-align: middle;\n",
              "    }\n",
              "\n",
              "    .dataframe tbody tr th {\n",
              "        vertical-align: top;\n",
              "    }\n",
              "\n",
              "    .dataframe thead th {\n",
              "        text-align: right;\n",
              "    }\n",
              "</style>\n",
              "<table border=\"1\" class=\"dataframe\">\n",
              "  <thead>\n",
              "    <tr style=\"text-align: right;\">\n",
              "      <th></th>\n",
              "      <th>repo</th>\n",
              "      <th>hash</th>\n",
              "      <th>commit_messsage</th>\n",
              "      <th>diff</th>\n",
              "    </tr>\n",
              "  </thead>\n",
              "  <tbody>\n",
              "    <tr>\n",
              "      <th>0</th>\n",
              "      <td>soimort/you-get</td>\n",
              "      <td>5a12118c836b0b9a7a2f8bdbed25be9aa2ca7831</td>\n",
              "      <td>[\"add\", \"param\", \"postfix\", \"to\", \"postfix\", \"downloaded\", \"files\", \"with\", \"unique\", \"identifiers\"]</td>\n",
              "      <td>[\"&lt;file&gt;\", \"\\n\", \"output\", \"filename\", \"= \", \"none\", \"\\n\", \"auto\", \"rename\", \"= \", \"false\", \"\\n\", \"insecure\", \"= \", \"false\", \"\\n\", \"m\", \"3\", \"u\", \"8\", \"= \", \"false\", \"\\n\", \"&lt;add&gt;\", \"postfix\", \"= \", \"false\", \"\\n\", \"fake\", \"headers\", \"= \", \"\\n\", \"accept\", \"text\", \"html\", \"application\", \"xhtml\", \"x...</td>\n",
              "    </tr>\n",
              "    <tr>\n",
              "      <th>1</th>\n",
              "      <td>soimort/you-get</td>\n",
              "      <td>3f47a215bf5f73e73cd7aa607b340a7b68b9bd3d</td>\n",
              "      <td>[\"fix\", \"the\", \"name\", \"m\", \"u\", \"is\", \"not\", \"defined\", \"bug\", \"of\"]</td>\n",
              "      <td>[\"&lt;file&gt;\", \"\\n\", \"cookies\", \"= \", \"none\", \"\\n\", \"output\", \"filename\", \"= \", \"none\", \"\\n\", \"auto\", \"rename\", \"= \", \"false\", \"\\n\", \"insecure\", \"= \", \"false\", \"\\n\", \"&lt;add&gt;\", \"m\", \"3\", \"u\", \"8\", \"= \", \"false\", \"\\n\", \"fake\", \"headers\", \"= \", \"\\n\", \"accept\", \"text\", \"html\", \"application\", \"xhtml\", \"xm...</td>\n",
              "    </tr>\n",
              "    <tr>\n",
              "      <th>2</th>\n",
              "      <td>soimort/you-get</td>\n",
              "      <td>424b555500e65da0533d369a80562bb93907ec9a</td>\n",
              "      <td>[\"fix\", \"zhihu\", \"extractor\", \"comment\", \"ld\"]</td>\n",
              "      <td>[\"&lt;file&gt;\", \"\\n\", \"def\", \"zhihu\", \"download\", \"url\", \"output\", \"dir\", \"=\", \"merge\", \"=\", \"true\", \"info\", \"only\", \"=\", \"false\", \"**\", \"kwargs\", \"\\n\", \"play\", \"list\", \"= \", \"video\", \"info\", \"playlist\", \"\\n\", \"first\", \"high\", \"definition\", \"\\n\", \"&lt;del&gt;\", \"second\", \"second\", \"standard\", \"definition\",...</td>\n",
              "    </tr>\n",
              "    <tr>\n",
              "      <th>3</th>\n",
              "      <td>soimort/you-get</td>\n",
              "      <td>7c2523f5cc843a6622968f0eed8dcb9a49b62b00</td>\n",
              "      <td>[\"support\", \"channel\", \"series\", \"for\", \"bilibili\"]</td>\n",
              "      <td>[\"&lt;file&gt;\", \"\\n\", \"class\", \"bilibili\", \"video\", \"extractor\", \"\\n\", \"def\", \"bilibili\", \"space\", \"channel\", \"api\", \"mid\", \"cid\", \"pn\", \"=\", \"1\", \"ps\", \"=\", \"100\", \"\\n\", \"return\", \"https\", \"api\", \"bilibili\", \"com\", \"x\", \"space\", \"channel\", \"video\", \"mid\", \"s\", \"cid\", \"s\", \"pn\", \"s\", \"ps\", \"s\", \"orde...</td>\n",
              "    </tr>\n",
              "    <tr>\n",
              "      <th>4</th>\n",
              "      <td>soimort/you-get</td>\n",
              "      <td>f4ec55b00e5b8743727b138d06f6ffadadd49579</td>\n",
              "      <td>[\"docs\", \"fix\", \"a\", \"few\", \"typos\"]</td>\n",
              "      <td>[\"&lt;file&gt;\", \"\\n\", \"def\", \"get\", \"api\", \"key\", \"page\", \"\\n\", \"match\", \"= \", \"match\", \"1\", \"page\", \"pattern\", \"inline\", \"api\", \"key\", \"\\n\", \"this\", \"happens\", \"only\", \"when\", \"the\", \"url\", \"points\", \"to\", \"a\", \"gallery\", \"page\", \"\\n\", \"that\", \"contains\", \"no\", \"inline\", \"api\", \"key\", \"and\", \"never\"...</td>\n",
              "    </tr>\n",
              "    <tr>\n",
              "      <th>5</th>\n",
              "      <td>soimort/you-get</td>\n",
              "      <td>71780ae4aa4a47fd817dc4c8485ce4aac96a8633</td>\n",
              "      <td>[\"update\", \"douyin\", \"py\"]</td>\n",
              "      <td>[\"&lt;file&gt;\", \"\\n\", \"coding\", \"utf\", \"\\n\", \"import\", \"re\", \"\\n\", \"&lt;add&gt;\", \"import\", \"json\", \"\\n\", \"from\", \"urllib\", \"parse\", \"import\", \"unquote\", \"\\n\", \"from\", \"common\", \"import\", \"\\n\", \"all\", \"= \", \"douyin\", \"download\", \"by\", \"url\", \"\\n\", \"def\", \"douyin\", \"download\", \"by\", \"url\", \"url\", \"**\", \"kwa...</td>\n",
              "    </tr>\n",
              "    <tr>\n",
              "      <th>6</th>\n",
              "      <td>soimort/you-get</td>\n",
              "      <td>b9dbae8b40588bc134af6bb7406492ec68fffded</td>\n",
              "      <td>[\"modify\", \"qq\", \"py\"]</td>\n",
              "      <td>[\"&lt;file&gt;\", \"\\n\", \"def\", \"qq\", \"download\", \"by\", \"vid\", \"vid\", \"title\", \"output\", \"dir\", \"=\", \"merge\", \"=\", \"true\", \"info\", \"only\", \"=\", \"false\", \"\\n\", \"part\", \"urls\", \"= \", \"\\n\", \"total\", \"size\", \"= \", \"0\", \"\\n\", \"&lt;add&gt;\", \"ext\", \"= \", \"none\", \"\\n\", \"for\", \"part\", \"in\", \"range\", \"1\", \"seg\", \"cnt\"...</td>\n",
              "    </tr>\n",
              "    <tr>\n",
              "      <th>7</th>\n",
              "      <td>soimort/you-get</td>\n",
              "      <td>5445f5ecde1823a200ec24ea0b74328b95299b57</td>\n",
              "      <td>[\"update\", \"douyin\", \"py\"]</td>\n",
              "      <td>[\"&lt;file&gt;\", \"\\n\", \"coding\", \"utf\", \"\\n\", \"import\", \"re\", \"\\n\", \"&lt;del&gt;\", \"import\", \"json\", \"\\n\", \"&lt;add&gt;\", \"from\", \"urllib\", \"parse\", \"import\", \"unquote\", \"\\n\", \"from\", \"common\", \"import\", \"\\n\", \"url\", \"size\", \"\\n\", \"all\", \"= \", \"douyin\", \"download\", \"by\", \"url\", \"\\n\", \"def\", \"douyin\", \"download\", ...</td>\n",
              "    </tr>\n",
              "    <tr>\n",
              "      <th>8</th>\n",
              "      <td>soimort/you-get</td>\n",
              "      <td>3881ed3f949ee63d53fb8f7f7b1e28c4f654ab25</td>\n",
              "      <td>[\"feat\", \"new\", \"missevan\", \"stream\", \"types\"]</td>\n",
              "      <td>[\"&lt;file&gt;\", \"\\n\", \"class\", \"dispatcher\", \"object\", \"\\n\", \"raise\", \"no\", \"match\", \"exception\", \"\\n\", \"missevan\", \"stream\", \"types\", \"= \", \"\\n\", \"&lt;del&gt;\", \"id\", \"source\", \"quality\", \"url\", \"json\", \"key\", \"soundurl\", \"\\n\", \"&lt;del&gt;\", \"resource\", \"url\", \"fmt\", \"sound\", \"resource\", \"url\", \"\\n\", \"&lt;del&gt;\", ...</td>\n",
              "    </tr>\n",
              "    <tr>\n",
              "      <th>9</th>\n",
              "      <td>soimort/you-get</td>\n",
              "      <td>663e53a95f5435afd95a03bb8b16c6d1fac283a5</td>\n",
              "      <td>[\"add\", \"param\", \"m\", \"u\", \"allow\", \"download\", \"video\", \"via\", \"m\", \"u\", \"url\"]</td>\n",
              "      <td>[\"&lt;file&gt;\", \"\\n\", \"def\", \"download\", \"main\", \"download\", \"download\", \"playlist\", \"urls\", \"playlist\", \"**\", \"kwargs\", \"\\n\", \"if\", \"re\", \"match\", \"r\", \"https\", \"url\", \"is\", \"none\", \"\\n\", \"url\", \"= \", \"http\", \"+ \", \"url\", \"\\n\", \"&lt;del&gt;\", \"if\", \"playlist\", \"\\n\", \"&lt;add&gt;\", \"if\", \"m\", \"3\", \"u\", \"8\", \"\\n\"...</td>\n",
              "    </tr>\n",
              "  </tbody>\n",
              "</table>\n",
              "</div>"
            ],
            "text/plain": [
              "              repo  ...                                                                                                                                                                                                                                                                                                         diff\n",
              "0  soimort/you-get  ...  [\"<file>\", \"\\n\", \"output\", \"filename\", \"= \", \"none\", \"\\n\", \"auto\", \"rename\", \"= \", \"false\", \"\\n\", \"insecure\", \"= \", \"false\", \"\\n\", \"m\", \"3\", \"u\", \"8\", \"= \", \"false\", \"\\n\", \"<add>\", \"postfix\", \"= \", \"false\", \"\\n\", \"fake\", \"headers\", \"= \", \"\\n\", \"accept\", \"text\", \"html\", \"application\", \"xhtml\", \"x...\n",
              "1  soimort/you-get  ...  [\"<file>\", \"\\n\", \"cookies\", \"= \", \"none\", \"\\n\", \"output\", \"filename\", \"= \", \"none\", \"\\n\", \"auto\", \"rename\", \"= \", \"false\", \"\\n\", \"insecure\", \"= \", \"false\", \"\\n\", \"<add>\", \"m\", \"3\", \"u\", \"8\", \"= \", \"false\", \"\\n\", \"fake\", \"headers\", \"= \", \"\\n\", \"accept\", \"text\", \"html\", \"application\", \"xhtml\", \"xm...\n",
              "2  soimort/you-get  ...  [\"<file>\", \"\\n\", \"def\", \"zhihu\", \"download\", \"url\", \"output\", \"dir\", \"=\", \"merge\", \"=\", \"true\", \"info\", \"only\", \"=\", \"false\", \"**\", \"kwargs\", \"\\n\", \"play\", \"list\", \"= \", \"video\", \"info\", \"playlist\", \"\\n\", \"first\", \"high\", \"definition\", \"\\n\", \"<del>\", \"second\", \"second\", \"standard\", \"definition\",...\n",
              "3  soimort/you-get  ...  [\"<file>\", \"\\n\", \"class\", \"bilibili\", \"video\", \"extractor\", \"\\n\", \"def\", \"bilibili\", \"space\", \"channel\", \"api\", \"mid\", \"cid\", \"pn\", \"=\", \"1\", \"ps\", \"=\", \"100\", \"\\n\", \"return\", \"https\", \"api\", \"bilibili\", \"com\", \"x\", \"space\", \"channel\", \"video\", \"mid\", \"s\", \"cid\", \"s\", \"pn\", \"s\", \"ps\", \"s\", \"orde...\n",
              "4  soimort/you-get  ...  [\"<file>\", \"\\n\", \"def\", \"get\", \"api\", \"key\", \"page\", \"\\n\", \"match\", \"= \", \"match\", \"1\", \"page\", \"pattern\", \"inline\", \"api\", \"key\", \"\\n\", \"this\", \"happens\", \"only\", \"when\", \"the\", \"url\", \"points\", \"to\", \"a\", \"gallery\", \"page\", \"\\n\", \"that\", \"contains\", \"no\", \"inline\", \"api\", \"key\", \"and\", \"never\"...\n",
              "5  soimort/you-get  ...  [\"<file>\", \"\\n\", \"coding\", \"utf\", \"\\n\", \"import\", \"re\", \"\\n\", \"<add>\", \"import\", \"json\", \"\\n\", \"from\", \"urllib\", \"parse\", \"import\", \"unquote\", \"\\n\", \"from\", \"common\", \"import\", \"\\n\", \"all\", \"= \", \"douyin\", \"download\", \"by\", \"url\", \"\\n\", \"def\", \"douyin\", \"download\", \"by\", \"url\", \"url\", \"**\", \"kwa...\n",
              "6  soimort/you-get  ...  [\"<file>\", \"\\n\", \"def\", \"qq\", \"download\", \"by\", \"vid\", \"vid\", \"title\", \"output\", \"dir\", \"=\", \"merge\", \"=\", \"true\", \"info\", \"only\", \"=\", \"false\", \"\\n\", \"part\", \"urls\", \"= \", \"\\n\", \"total\", \"size\", \"= \", \"0\", \"\\n\", \"<add>\", \"ext\", \"= \", \"none\", \"\\n\", \"for\", \"part\", \"in\", \"range\", \"1\", \"seg\", \"cnt\"...\n",
              "7  soimort/you-get  ...  [\"<file>\", \"\\n\", \"coding\", \"utf\", \"\\n\", \"import\", \"re\", \"\\n\", \"<del>\", \"import\", \"json\", \"\\n\", \"<add>\", \"from\", \"urllib\", \"parse\", \"import\", \"unquote\", \"\\n\", \"from\", \"common\", \"import\", \"\\n\", \"url\", \"size\", \"\\n\", \"all\", \"= \", \"douyin\", \"download\", \"by\", \"url\", \"\\n\", \"def\", \"douyin\", \"download\", ...\n",
              "8  soimort/you-get  ...  [\"<file>\", \"\\n\", \"class\", \"dispatcher\", \"object\", \"\\n\", \"raise\", \"no\", \"match\", \"exception\", \"\\n\", \"missevan\", \"stream\", \"types\", \"= \", \"\\n\", \"<del>\", \"id\", \"source\", \"quality\", \"url\", \"json\", \"key\", \"soundurl\", \"\\n\", \"<del>\", \"resource\", \"url\", \"fmt\", \"sound\", \"resource\", \"url\", \"\\n\", \"<del>\", ...\n",
              "9  soimort/you-get  ...  [\"<file>\", \"\\n\", \"def\", \"download\", \"main\", \"download\", \"download\", \"playlist\", \"urls\", \"playlist\", \"**\", \"kwargs\", \"\\n\", \"if\", \"re\", \"match\", \"r\", \"https\", \"url\", \"is\", \"none\", \"\\n\", \"url\", \"= \", \"http\", \"+ \", \"url\", \"\\n\", \"<del>\", \"if\", \"playlist\", \"\\n\", \"<add>\", \"if\", \"m\", \"3\", \"u\", \"8\", \"\\n\"...\n",
              "\n",
              "[10 rows x 4 columns]"
            ]
          },
          "metadata": {},
          "execution_count": 30
        }
      ]
    },
    {
      "cell_type": "markdown",
      "metadata": {
        "id": "3Dn9Co_Izwuf"
      },
      "source": [
        "# 3. Create whole dataset via Multiprocessing"
      ],
      "id": "3Dn9Co_Izwuf"
    },
    {
      "cell_type": "code",
      "metadata": {
        "id": "0f65faf9"
      },
      "source": [
        "import multiprocessing\n",
        "\n",
        "data = []\n",
        "\n",
        "def f(repo):\n",
        "    start = time.time()\n",
        "    df = parse_repo_commits(repo)\n",
        "    #df.to_pickle(f\"./repos/{repo.replace('/', '+')}.pkl\")\n",
        "    end = time.time()\n",
        "    print(f\"{repo} took {end-start} seconds\")\n",
        "    return df\n",
        "\n",
        "pool = multiprocessing.Pool()\n",
        "outputs = pool.map(f, repodf['repo'][:3])\n",
        "pd.concat(outputs).to_pickle(f\"{root}/data.pkl\")"
      ],
      "id": "0f65faf9",
      "execution_count": null,
      "outputs": []
    },
    {
      "cell_type": "code",
      "metadata": {
        "id": "04bfe004"
      },
      "source": [
        "df = pd.read_pickle(\"data.pkl\")\n",
        "df.head(3)"
      ],
      "id": "04bfe004",
      "execution_count": null,
      "outputs": []
    },
    {
      "cell_type": "code",
      "metadata": {
        "id": "5hlgSt6J6Tvr"
      },
      "source": [
        ""
      ],
      "id": "5hlgSt6J6Tvr",
      "execution_count": null,
      "outputs": []
    }
  ]
}