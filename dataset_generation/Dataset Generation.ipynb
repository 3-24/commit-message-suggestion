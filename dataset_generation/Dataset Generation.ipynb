{
 "cells": [
  {
   "cell_type": "markdown",
   "id": "8a5ade31",
   "metadata": {},
   "source": [
    "## 1. Collect CodeSearchNet Repositories"
   ]
  },
  {
   "cell_type": "code",
   "execution_count": 1,
   "id": "c06bb109",
   "metadata": {},
   "outputs": [],
   "source": [
    "import json\n",
    "\n",
    "import pandas as pd\n",
    "from pathlib import Path\n",
    "pd.set_option('max_colwidth',300)\n",
    "from pprint import pprint"
   ]
  },
  {
   "cell_type": "code",
   "execution_count": null,
   "id": "4c50cf9b",
   "metadata": {},
   "outputs": [],
   "source": [
    "!wget https://s3.amazonaws.com/code-search-net/CodeSearchNet/v2/python.zip\n",
    "!mkdir CodeSearchNet\n",
    "!unzip python.zip -d CodeSearchNet"
   ]
  },
  {
   "cell_type": "code",
   "execution_count": 3,
   "id": "2847085c",
   "metadata": {},
   "outputs": [],
   "source": [
    "python_files = sorted(Path('CodeSearchNet/python').glob('**/*.gz'))"
   ]
  },
  {
   "cell_type": "code",
   "execution_count": 4,
   "id": "a2e15382",
   "metadata": {},
   "outputs": [
    {
     "name": "stdout",
     "output_type": "stream",
     "text": [
      "[PosixPath('CodeSearchNet/python/final/jsonl/test/python_test_0.jsonl.gz'), PosixPath('CodeSearchNet/python/final/jsonl/train/python_train_0.jsonl.gz'), PosixPath('CodeSearchNet/python/final/jsonl/train/python_train_1.jsonl.gz'), PosixPath('CodeSearchNet/python/final/jsonl/train/python_train_10.jsonl.gz'), PosixPath('CodeSearchNet/python/final/jsonl/train/python_train_11.jsonl.gz'), PosixPath('CodeSearchNet/python/final/jsonl/train/python_train_12.jsonl.gz'), PosixPath('CodeSearchNet/python/final/jsonl/train/python_train_13.jsonl.gz'), PosixPath('CodeSearchNet/python/final/jsonl/train/python_train_2.jsonl.gz'), PosixPath('CodeSearchNet/python/final/jsonl/train/python_train_3.jsonl.gz'), PosixPath('CodeSearchNet/python/final/jsonl/train/python_train_4.jsonl.gz'), PosixPath('CodeSearchNet/python/final/jsonl/train/python_train_5.jsonl.gz'), PosixPath('CodeSearchNet/python/final/jsonl/train/python_train_6.jsonl.gz'), PosixPath('CodeSearchNet/python/final/jsonl/train/python_train_7.jsonl.gz'), PosixPath('CodeSearchNet/python/final/jsonl/train/python_train_8.jsonl.gz'), PosixPath('CodeSearchNet/python/final/jsonl/train/python_train_9.jsonl.gz'), PosixPath('CodeSearchNet/python/final/jsonl/valid/python_valid_0.jsonl.gz')]\n"
     ]
    }
   ],
   "source": [
    "print(python_files)"
   ]
  },
  {
   "cell_type": "code",
   "execution_count": 5,
   "id": "8aa7dbe1",
   "metadata": {},
   "outputs": [],
   "source": [
    "columns_long_list = ['repo', 'path', 'url', 'code', \n",
    "                     'code_tokens', 'docstring', 'docstring_tokens', \n",
    "                     'language', 'partition']\n",
    "\n",
    "def jsonl_list_to_dataframe(file_list, columns=columns_long_list):\n",
    "    \"\"\"Load a list of jsonl.gz files into a pandas DataFrame.\"\"\"\n",
    "    return pd.concat([pd.read_json(f, \n",
    "                                   orient='records', \n",
    "                                   compression='gzip',\n",
    "                                   lines=True)[columns] \n",
    "                      for f in file_list], sort=False)"
   ]
  },
  {
   "cell_type": "code",
   "execution_count": 10,
   "id": "be6c1c77",
   "metadata": {},
   "outputs": [],
   "source": [
    "columns_repo = ['repo']\n",
    "\n",
    "pydf = jsonl_list_to_dataframe(python_files, columns=columns_repo)"
   ]
  },
  {
   "cell_type": "code",
   "execution_count": 18,
   "id": "e19c0d36",
   "metadata": {},
   "outputs": [],
   "source": [
    "pydf = pydf.drop_duplicates().reset_index(drop=True)"
   ]
  },
  {
   "cell_type": "code",
   "execution_count": 20,
   "id": "ea71c7ad",
   "metadata": {},
   "outputs": [
    {
     "name": "stdout",
     "output_type": "stream",
     "text": [
      "(13590, 1)\n"
     ]
    },
    {
     "data": {
      "text/html": [
       "<div>\n",
       "<style scoped>\n",
       "    .dataframe tbody tr th:only-of-type {\n",
       "        vertical-align: middle;\n",
       "    }\n",
       "\n",
       "    .dataframe tbody tr th {\n",
       "        vertical-align: top;\n",
       "    }\n",
       "\n",
       "    .dataframe thead th {\n",
       "        text-align: right;\n",
       "    }\n",
       "</style>\n",
       "<table border=\"1\" class=\"dataframe\">\n",
       "  <thead>\n",
       "    <tr style=\"text-align: right;\">\n",
       "      <th></th>\n",
       "      <th>repo</th>\n",
       "    </tr>\n",
       "  </thead>\n",
       "  <tbody>\n",
       "    <tr>\n",
       "      <th>0</th>\n",
       "      <td>soimort/you-get</td>\n",
       "    </tr>\n",
       "    <tr>\n",
       "      <th>1</th>\n",
       "      <td>apache/airflow</td>\n",
       "    </tr>\n",
       "    <tr>\n",
       "      <th>2</th>\n",
       "      <td>pytorch/vision</td>\n",
       "    </tr>\n",
       "    <tr>\n",
       "      <th>3</th>\n",
       "      <td>asciimoo/searx</td>\n",
       "    </tr>\n",
       "    <tr>\n",
       "      <th>4</th>\n",
       "      <td>tensorflow/probability</td>\n",
       "    </tr>\n",
       "    <tr>\n",
       "      <th>...</th>\n",
       "      <td>...</td>\n",
       "    </tr>\n",
       "    <tr>\n",
       "      <th>13585</th>\n",
       "      <td>praekelt/python-ambient</td>\n",
       "    </tr>\n",
       "    <tr>\n",
       "      <th>13586</th>\n",
       "      <td>zenreach/py-era</td>\n",
       "    </tr>\n",
       "    <tr>\n",
       "      <th>13587</th>\n",
       "      <td>TakesxiSximada/custom_settings</td>\n",
       "    </tr>\n",
       "    <tr>\n",
       "      <th>13588</th>\n",
       "      <td>openpermissions/bass</td>\n",
       "    </tr>\n",
       "    <tr>\n",
       "      <th>13589</th>\n",
       "      <td>xnuinside/clifier</td>\n",
       "    </tr>\n",
       "  </tbody>\n",
       "</table>\n",
       "<p>13590 rows × 1 columns</p>\n",
       "</div>"
      ],
      "text/plain": [
       "                                 repo\n",
       "0                     soimort/you-get\n",
       "1                      apache/airflow\n",
       "2                      pytorch/vision\n",
       "3                      asciimoo/searx\n",
       "4              tensorflow/probability\n",
       "...                               ...\n",
       "13585         praekelt/python-ambient\n",
       "13586                 zenreach/py-era\n",
       "13587  TakesxiSximada/custom_settings\n",
       "13588            openpermissions/bass\n",
       "13589               xnuinside/clifier\n",
       "\n",
       "[13590 rows x 1 columns]"
      ]
     },
     "execution_count": 20,
     "metadata": {},
     "output_type": "execute_result"
    }
   ],
   "source": [
    "print(pydf.shape)\n",
    "pydf.head(13590)"
   ]
  },
  {
   "cell_type": "code",
   "execution_count": 17,
   "id": "b07e592d",
   "metadata": {},
   "outputs": [
    {
     "name": "stdout",
     "output_type": "stream",
     "text": [
      "(13590, 1)\n"
     ]
    }
   ],
   "source": [
    "\n",
    "pydf.to_pickle(\"repos.pkl\")"
   ]
  },
  {
   "cell_type": "markdown",
   "id": "1d0559c4",
   "metadata": {},
   "source": [
    "## 2. Collect diff and commits"
   ]
  },
  {
   "cell_type": "code",
   "execution_count": 14,
   "id": "8ee24339",
   "metadata": {},
   "outputs": [
    {
     "name": "stdout",
     "output_type": "stream",
     "text": [
      "mkdir: cannot create directory ‘repos’: File exists\n",
      "Requirement already satisfied: pydriller in ./.venv/lib/python3.9/site-packages (2.0)\n",
      "Requirement already satisfied: pytz in ./.venv/lib/python3.9/site-packages (from pydriller) (2021.3)\n",
      "Requirement already satisfied: lizard in ./.venv/lib/python3.9/site-packages (from pydriller) (1.17.9)\n",
      "Requirement already satisfied: gitpython in ./.venv/lib/python3.9/site-packages (from pydriller) (3.1.24)\n",
      "Requirement already satisfied: gitdb<5,>=4.0.1 in ./.venv/lib/python3.9/site-packages (from gitpython->pydriller) (4.0.9)\n",
      "Requirement already satisfied: typing-extensions>=3.7.4.3 in ./.venv/lib/python3.9/site-packages (from gitpython->pydriller) (4.0.0)\n",
      "Requirement already satisfied: smmap<6,>=3.0.1 in ./.venv/lib/python3.9/site-packages (from gitdb<5,>=4.0.1->gitpython->pydriller) (5.0.0)\n",
      "Requirement already satisfied: pandas in ./.venv/lib/python3.9/site-packages (1.3.4)\n",
      "Requirement already satisfied: python-dateutil>=2.7.3 in ./.venv/lib/python3.9/site-packages (from pandas) (2.8.2)\n",
      "Requirement already satisfied: pytz>=2017.3 in ./.venv/lib/python3.9/site-packages (from pandas) (2021.3)\n",
      "Requirement already satisfied: numpy>=1.17.3 in ./.venv/lib/python3.9/site-packages (from pandas) (1.21.4)\n",
      "Requirement already satisfied: six>=1.5 in ./.venv/lib/python3.9/site-packages (from python-dateutil>=2.7.3->pandas) (1.16.0)\n",
      "Collecting nltk\n",
      "  Downloading nltk-3.6.5-py3-none-any.whl (1.5 MB)\n",
      "     |████████████████████████████████| 1.5 MB 5.5 MB/s            \n",
      "\u001b[?25hCollecting joblib\n",
      "  Downloading joblib-1.1.0-py2.py3-none-any.whl (306 kB)\n",
      "     |████████████████████████████████| 306 kB 11.0 MB/s            \n",
      "\u001b[?25hCollecting click\n",
      "  Downloading click-8.0.3-py3-none-any.whl (97 kB)\n",
      "     |████████████████████████████████| 97 kB 5.9 MB/s             \n",
      "\u001b[?25hCollecting tqdm\n",
      "  Downloading tqdm-4.62.3-py2.py3-none-any.whl (76 kB)\n",
      "     |████████████████████████████████| 76 kB 3.4 MB/s             \n",
      "\u001b[?25hCollecting regex>=2021.8.3\n",
      "  Downloading regex-2021.11.10-cp39-cp39-manylinux_2_17_x86_64.manylinux2014_x86_64.whl (763 kB)\n",
      "     |████████████████████████████████| 763 kB 11.4 MB/s            \n",
      "\u001b[?25hInstalling collected packages: tqdm, regex, joblib, click, nltk\n",
      "Successfully installed click-8.0.3 joblib-1.1.0 nltk-3.6.5 regex-2021.11.10 tqdm-4.62.3\n"
     ]
    }
   ],
   "source": [
    "!mkdir repos\n",
    "!pip install pydriller\n",
    "!pip install pandas"
   ]
  },
  {
   "cell_type": "code",
   "execution_count": 1,
   "id": "72e76292",
   "metadata": {},
   "outputs": [],
   "source": [
    "from pydriller import *\n",
    "import pandas as pd"
   ]
  },
  {
   "cell_type": "code",
   "execution_count": 2,
   "id": "845d5eb7",
   "metadata": {},
   "outputs": [
    {
     "name": "stdout",
     "output_type": "stream",
     "text": [
      "(13590, 1)\n"
     ]
    }
   ],
   "source": [
    "repodf = pd.read_pickle(\"repos.pkl\")\n",
    "print(repodf.shape)"
   ]
  },
  {
   "cell_type": "code",
   "execution_count": 3,
   "id": "449680fc",
   "metadata": {},
   "outputs": [],
   "source": [
    "def parse_repo_commits(repo_name, commit_limit=50):\n",
    "    data = []\n",
    "    verbs = set([\"add\", \"fix\", \"use\", \"update\", \"remove\", \"make\",\n",
    "                 \"change\", \"move\", \"allow\", \"improve\", \"implement\", \"create\", \"upgrade\"])\n",
    "    commit_count = 0\n",
    "    for commit in Repository(\n",
    "        f\"https://github.com/{repo_name}\",\n",
    "        only_modifications_with_file_types=[\".py\"],\n",
    "        only_no_merge=True,\n",
    "        order='reverse'\n",
    "    ).traverse_commits():\n",
    "        if (commit_count >= commit_limit): break\n",
    "        commit_line = commit.msg.split('\\n', 1)[0].lower()\n",
    "        if commit_line[-1] == '.':\n",
    "            commit_line = commit_line[:-1]\n",
    "        if not all(x.isalpha() or x.isspace() for x in commit_line):\n",
    "            continue\n",
    "        '''\n",
    "        if ('#' in commit_line or '@' in commit_line): # ignore issue and mention\n",
    "            continue\n",
    "        if (not commit_line.isascii()):                # ignore non-english\n",
    "            continue\n",
    "        '''\n",
    "        tokens = commit_line.split()\n",
    "        if (len(tokens) <= 2):\n",
    "            continue\n",
    "        if (not tokens[0] in verbs):\n",
    "            continue\n",
    "        \n",
    "        file_failed = False\n",
    "        \n",
    "        if (len(commit.modified_files) > 2):\n",
    "            continue\n",
    "        \n",
    "        for mf in commit.modified_files:\n",
    "            if (not mf.filename.endswith(\".py\")):\n",
    "                file_failed = True\n",
    "                break\n",
    "        \n",
    "        if (file_failed):\n",
    "            continue\n",
    "        diff = ''.join(map(lambda x: x.diff, commit.modified_files))\n",
    "        \n",
    "        data.append([repo_name, commit.hash, commit_line, diff])\n",
    "        commit_count += 1\n",
    "    \n",
    "    return pd.DataFrame(data, columns=[\"repo\", \"hash\", \"commit_messsage\", \"diff\"])"
   ]
  },
  {
   "cell_type": "code",
   "execution_count": 4,
   "id": "b2854419",
   "metadata": {},
   "outputs": [
    {
     "name": "stdout",
     "output_type": "stream",
     "text": [
      "6.283020257949829\n"
     ]
    },
    {
     "data": {
      "text/html": [
       "<div>\n",
       "<style scoped>\n",
       "    .dataframe tbody tr th:only-of-type {\n",
       "        vertical-align: middle;\n",
       "    }\n",
       "\n",
       "    .dataframe tbody tr th {\n",
       "        vertical-align: top;\n",
       "    }\n",
       "\n",
       "    .dataframe thead th {\n",
       "        text-align: right;\n",
       "    }\n",
       "</style>\n",
       "<table border=\"1\" class=\"dataframe\">\n",
       "  <thead>\n",
       "    <tr style=\"text-align: right;\">\n",
       "      <th></th>\n",
       "      <th>repo</th>\n",
       "      <th>hash</th>\n",
       "      <th>commit_messsage</th>\n",
       "      <th>diff</th>\n",
       "    </tr>\n",
       "  </thead>\n",
       "  <tbody>\n",
       "    <tr>\n",
       "      <th>0</th>\n",
       "      <td>soimort/you-get</td>\n",
       "      <td>d28a2abe07fe5e2ce452540c0c3bc7f566b2828c</td>\n",
       "      <td>fix incorrect range response issue</td>\n",
       "      <td>@@ -161,7 +161,10 @@ def url_save(url, filepat...</td>\n",
       "    </tr>\n",
       "    <tr>\n",
       "      <th>1</th>\n",
       "      <td>soimort/you-get</td>\n",
       "      <td>ff7ef4c09aec7af10d3317730fb4e0e140a4c4d0</td>\n",
       "      <td>fix blank line in terminal output</td>\n",
       "      <td>@@ -278,6 +278,7 @@ def download_urls(urls, ti...</td>\n",
       "    </tr>\n",
       "    <tr>\n",
       "      <th>2</th>\n",
       "      <td>soimort/you-get</td>\n",
       "      <td>b138f9399a4c72812f953623d0342b0c6cc6ee57</td>\n",
       "      <td>fix assert error of file extension</td>\n",
       "      <td>@@ -17,7 +17,7 @@ def w56_download_by_id(id, t...</td>\n",
       "    </tr>\n",
       "  </tbody>\n",
       "</table>\n",
       "</div>"
      ],
      "text/plain": [
       "              repo                                      hash  \\\n",
       "0  soimort/you-get  d28a2abe07fe5e2ce452540c0c3bc7f566b2828c   \n",
       "1  soimort/you-get  ff7ef4c09aec7af10d3317730fb4e0e140a4c4d0   \n",
       "2  soimort/you-get  b138f9399a4c72812f953623d0342b0c6cc6ee57   \n",
       "\n",
       "                      commit_messsage  \\\n",
       "0  fix incorrect range response issue   \n",
       "1   fix blank line in terminal output   \n",
       "2  fix assert error of file extension   \n",
       "\n",
       "                                                diff  \n",
       "0  @@ -161,7 +161,10 @@ def url_save(url, filepat...  \n",
       "1  @@ -278,6 +278,7 @@ def download_urls(urls, ti...  \n",
       "2  @@ -17,7 +17,7 @@ def w56_download_by_id(id, t...  "
      ]
     },
     "execution_count": 4,
     "metadata": {},
     "output_type": "execute_result"
    }
   ],
   "source": [
    "import time\n",
    "start = time.time()\n",
    "df = parse_repo_commits(\"soimort/you-get\")\n",
    "end = time.time()\n",
    "print(end - start)\n",
    "df.head(3)"
   ]
  },
  {
   "cell_type": "code",
   "execution_count": 4,
   "id": "0f65faf9",
   "metadata": {},
   "outputs": [
    {
     "name": "stdout",
     "output_type": "stream",
     "text": [
      "soimort/you-get Done\n",
      "pytorch/vision Done\n",
      "apache/airflow Done\n"
     ]
    }
   ],
   "source": [
    "import multiprocessing\n",
    "\n",
    "data = []\n",
    "\n",
    "def f(repo):\n",
    "    df = parse_repo_commits(repo)\n",
    "    df.to_pickle(f\"./repos/{repo.replace('/', '+')}.pkl\")\n",
    "    print(repo, \"Done\")\n",
    "    return df\n",
    "\n",
    "pool = multiprocessing.Pool()\n",
    "outputs = pool.map(f, repodf['repo'][:3])\n",
    "pd.concat(outputs).to_pickle(\"data.pkl\")"
   ]
  },
  {
   "cell_type": "code",
   "execution_count": 6,
   "id": "04bfe004",
   "metadata": {},
   "outputs": [
    {
     "data": {
      "text/html": [
       "<div>\n",
       "<style scoped>\n",
       "    .dataframe tbody tr th:only-of-type {\n",
       "        vertical-align: middle;\n",
       "    }\n",
       "\n",
       "    .dataframe tbody tr th {\n",
       "        vertical-align: top;\n",
       "    }\n",
       "\n",
       "    .dataframe thead th {\n",
       "        text-align: right;\n",
       "    }\n",
       "</style>\n",
       "<table border=\"1\" class=\"dataframe\">\n",
       "  <thead>\n",
       "    <tr style=\"text-align: right;\">\n",
       "      <th></th>\n",
       "      <th>repo</th>\n",
       "      <th>hash</th>\n",
       "      <th>commit_messsage</th>\n",
       "      <th>diff</th>\n",
       "    </tr>\n",
       "  </thead>\n",
       "  <tbody>\n",
       "    <tr>\n",
       "      <th>0</th>\n",
       "      <td>soimort/you-get</td>\n",
       "      <td>439354e730d8b864de9401536c93220467ccb355</td>\n",
       "      <td>add hdr support for bilibili</td>\n",
       "      <td>@@ -12,6 +12,8 @@ class Bilibili(VideoExtracto...</td>\n",
       "    </tr>\n",
       "    <tr>\n",
       "      <th>1</th>\n",
       "      <td>soimort/you-get</td>\n",
       "      <td>4a9d2c1e13b8918deba39af515d315b60e545422</td>\n",
       "      <td>add fake header</td>\n",
       "      <td>@@ -123,10 +123,10 @@ def netease_song_downloa...</td>\n",
       "    </tr>\n",
       "    <tr>\n",
       "      <th>2</th>\n",
       "      <td>soimort/you-get</td>\n",
       "      <td>1b1f1dd1181bb15dabd04f928842891ac635f49c</td>\n",
       "      <td>update regex to match vid for xinpianchang</td>\n",
       "      <td>@@ -20,7 +20,7 @@ class Xinpianchang(VideoExtr...</td>\n",
       "    </tr>\n",
       "  </tbody>\n",
       "</table>\n",
       "</div>"
      ],
      "text/plain": [
       "              repo                                      hash  \\\n",
       "0  soimort/you-get  439354e730d8b864de9401536c93220467ccb355   \n",
       "1  soimort/you-get  4a9d2c1e13b8918deba39af515d315b60e545422   \n",
       "2  soimort/you-get  1b1f1dd1181bb15dabd04f928842891ac635f49c   \n",
       "\n",
       "                              commit_messsage  \\\n",
       "0                add hdr support for bilibili   \n",
       "1                             add fake header   \n",
       "2  update regex to match vid for xinpianchang   \n",
       "\n",
       "                                                diff  \n",
       "0  @@ -12,6 +12,8 @@ class Bilibili(VideoExtracto...  \n",
       "1  @@ -123,10 +123,10 @@ def netease_song_downloa...  \n",
       "2  @@ -20,7 +20,7 @@ class Xinpianchang(VideoExtr...  "
      ]
     },
     "execution_count": 6,
     "metadata": {},
     "output_type": "execute_result"
    }
   ],
   "source": [
    "df = pd.read_pickle(\"data.pkl\")\n",
    "df.head(3)"
   ]
  },
  {
   "cell_type": "code",
   "execution_count": null,
   "id": "fbdfa1a5",
   "metadata": {},
   "outputs": [],
   "source": []
  }
 ],
 "metadata": {
  "kernelspec": {
   "display_name": "Python 3 (ipykernel)",
   "language": "python",
   "name": "python3"
  },
  "language_info": {
   "codemirror_mode": {
    "name": "ipython",
    "version": 3
   },
   "file_extension": ".py",
   "mimetype": "text/x-python",
   "name": "python",
   "nbconvert_exporter": "python",
   "pygments_lexer": "ipython3",
   "version": "3.9.6"
  }
 },
 "nbformat": 4,
 "nbformat_minor": 5
}
