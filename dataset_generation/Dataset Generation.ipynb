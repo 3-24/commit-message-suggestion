{
  "nbformat": 4,
  "nbformat_minor": 5,
  "metadata": {
    "colab": {
      "name": "Dataset Generation.ipynb",
      "provenance": []
    },
    "kernelspec": {
      "display_name": "Python 3 (ipykernel)",
      "language": "python",
      "name": "python3"
    },
    "language_info": {
      "codemirror_mode": {
        "name": "ipython",
        "version": 3
      },
      "file_extension": ".py",
      "mimetype": "text/x-python",
      "name": "python",
      "nbconvert_exporter": "python",
      "pygments_lexer": "ipython3",
      "version": "3.9.6"
    }
  },
  "cells": [
    {
      "cell_type": "code",
      "metadata": {
        "colab": {
          "base_uri": "https://localhost:8080/"
        },
        "id": "TySV2A3KyKzL",
        "outputId": "5cf8dcf6-30e9-44fd-a9e0-32cf5675e7bb"
      },
      "source": [
        "# mount drive https://datascience.stackexchange.com/questions/29480/uploading-images-folder-from-my-system-into-google-colab\n",
        "# login with your google account and type authorization code to mount on your googlbie drive.\n",
        "from google.colab import drive\n",
        "drive.mount('/gdrive')\n",
        "root = '/gdrive/My Drive/CS492I/project'"
      ],
      "id": "TySV2A3KyKzL",
      "execution_count": 25,
      "outputs": [
        {
          "output_type": "stream",
          "name": "stdout",
          "text": [
            "Drive already mounted at /gdrive; to attempt to forcibly remount, call drive.mount(\"/gdrive\", force_remount=True).\n"
          ]
        }
      ]
    },
    {
      "cell_type": "code",
      "metadata": {
        "id": "87dd4f62"
      },
      "source": [
        "root = '.'"
      ],
      "id": "87dd4f62",
      "execution_count": null,
      "outputs": []
    },
    {
      "cell_type": "markdown",
      "metadata": {
        "id": "8a5ade31"
      },
      "source": [
        "## 1. Collect CodeSearchNet Repositories"
      ],
      "id": "8a5ade31"
    },
    {
      "cell_type": "code",
      "metadata": {
        "id": "c06bb109"
      },
      "source": [
        "import json\n",
        "\n",
        "import pandas as pd\n",
        "from pathlib import Path\n",
        "pd.set_option('max_colwidth',300)\n",
        "from pprint import pprint"
      ],
      "id": "c06bb109",
      "execution_count": null,
      "outputs": []
    },
    {
      "cell_type": "code",
      "metadata": {
        "colab": {
          "base_uri": "https://localhost:8080/"
        },
        "id": "4c50cf9b",
        "outputId": "62b49b1b-cc12-44cd-beae-68503a6886e1"
      },
      "source": [
        "!wget https://s3.amazonaws.com/code-search-net/CodeSearchNet/v2/python.zip\n",
        "!mkdir CodeSearchNet\n",
        "!unzip python.zip -d CodeSearchNet"
      ],
      "id": "4c50cf9b",
      "execution_count": null,
      "outputs": [
        {
          "name": "stdout",
          "output_type": "stream",
          "text": [
            "--2021-12-03 07:32:59--  https://s3.amazonaws.com/code-search-net/CodeSearchNet/v2/python.zip\n",
            "Resolving s3.amazonaws.com (s3.amazonaws.com)... 52.217.69.238\n",
            "Connecting to s3.amazonaws.com (s3.amazonaws.com)|52.217.69.238|:443... connected.\n",
            "HTTP request sent, awaiting response... 200 OK\n",
            "Length: 940909997 (897M) [application/zip]\n",
            "Saving to: ‘python.zip’\n",
            "\n",
            "python.zip          100%[===================>] 897.32M  65.4MB/s    in 13s     \n",
            "\n",
            "2021-12-03 07:33:12 (68.1 MB/s) - ‘python.zip’ saved [940909997/940909997]\n",
            "\n",
            "Archive:  python.zip\n",
            "   creating: CodeSearchNet/python/\n",
            "   creating: CodeSearchNet/python/final/\n",
            "   creating: CodeSearchNet/python/final/jsonl/\n",
            "   creating: CodeSearchNet/python/final/jsonl/train/\n",
            "  inflating: CodeSearchNet/python/final/jsonl/train/python_train_9.jsonl.gz  \n",
            "  inflating: CodeSearchNet/python/final/jsonl/train/python_train_12.jsonl.gz  \n",
            "  inflating: CodeSearchNet/python/final/jsonl/train/python_train_10.jsonl.gz  \n",
            "  inflating: CodeSearchNet/python/final/jsonl/train/python_train_0.jsonl.gz  \n",
            "  inflating: CodeSearchNet/python/final/jsonl/train/python_train_6.jsonl.gz  \n",
            "  inflating: CodeSearchNet/python/final/jsonl/train/python_train_2.jsonl.gz  \n",
            "  inflating: CodeSearchNet/python/final/jsonl/train/python_train_4.jsonl.gz  \n",
            "  inflating: CodeSearchNet/python/final/jsonl/train/python_train_8.jsonl.gz  \n",
            "  inflating: CodeSearchNet/python/final/jsonl/train/python_train_11.jsonl.gz  \n",
            "  inflating: CodeSearchNet/python/final/jsonl/train/python_train_5.jsonl.gz  \n",
            "  inflating: CodeSearchNet/python/final/jsonl/train/python_train_13.jsonl.gz  \n",
            "  inflating: CodeSearchNet/python/final/jsonl/train/python_train_3.jsonl.gz  \n",
            "  inflating: CodeSearchNet/python/final/jsonl/train/python_train_1.jsonl.gz  \n",
            "  inflating: CodeSearchNet/python/final/jsonl/train/python_train_7.jsonl.gz  \n",
            "   creating: CodeSearchNet/python/final/jsonl/test/\n",
            "  inflating: CodeSearchNet/python/final/jsonl/test/python_test_0.jsonl.gz  \n",
            "   creating: CodeSearchNet/python/final/jsonl/valid/\n",
            "  inflating: CodeSearchNet/python/final/jsonl/valid/python_valid_0.jsonl.gz  \n",
            "  inflating: CodeSearchNet/python_dedupe_definitions_v2.pkl  \n",
            "  inflating: CodeSearchNet/python_licenses.pkl  \n"
          ]
        }
      ]
    },
    {
      "cell_type": "code",
      "metadata": {
        "colab": {
          "base_uri": "https://localhost:8080/"
        },
        "id": "2847085c",
        "outputId": "b98d532c-a88f-43db-c790-a0986fdddffe"
      },
      "source": [
        "python_files = sorted(Path('CodeSearchNet/python').glob('**/*.gz'))\n",
        "print(python_files)"
      ],
      "id": "2847085c",
      "execution_count": null,
      "outputs": [
        {
          "name": "stdout",
          "output_type": "stream",
          "text": [
            "[PosixPath('CodeSearchNet/python/final/jsonl/test/python_test_0.jsonl.gz'), PosixPath('CodeSearchNet/python/final/jsonl/train/python_train_0.jsonl.gz'), PosixPath('CodeSearchNet/python/final/jsonl/train/python_train_1.jsonl.gz'), PosixPath('CodeSearchNet/python/final/jsonl/train/python_train_10.jsonl.gz'), PosixPath('CodeSearchNet/python/final/jsonl/train/python_train_11.jsonl.gz'), PosixPath('CodeSearchNet/python/final/jsonl/train/python_train_12.jsonl.gz'), PosixPath('CodeSearchNet/python/final/jsonl/train/python_train_13.jsonl.gz'), PosixPath('CodeSearchNet/python/final/jsonl/train/python_train_2.jsonl.gz'), PosixPath('CodeSearchNet/python/final/jsonl/train/python_train_3.jsonl.gz'), PosixPath('CodeSearchNet/python/final/jsonl/train/python_train_4.jsonl.gz'), PosixPath('CodeSearchNet/python/final/jsonl/train/python_train_5.jsonl.gz'), PosixPath('CodeSearchNet/python/final/jsonl/train/python_train_6.jsonl.gz'), PosixPath('CodeSearchNet/python/final/jsonl/train/python_train_7.jsonl.gz'), PosixPath('CodeSearchNet/python/final/jsonl/train/python_train_8.jsonl.gz'), PosixPath('CodeSearchNet/python/final/jsonl/train/python_train_9.jsonl.gz'), PosixPath('CodeSearchNet/python/final/jsonl/valid/python_valid_0.jsonl.gz')]\n"
          ]
        }
      ]
    },
    {
      "cell_type": "code",
      "metadata": {
        "id": "8aa7dbe1"
      },
      "source": [
        "columns_long_list = ['repo', 'path', 'url', 'code', \n",
        "                     'code_tokens', 'docstring', 'docstring_tokens', \n",
        "                     'language', 'partition']\n",
        "\n",
        "def jsonl_list_to_dataframe(file_list, columns=columns_long_list):\n",
        "    \"\"\"Load a list of jsonl.gz files into a pandas DataFrame.\"\"\"\n",
        "    return pd.concat([pd.read_json(f, \n",
        "                                   orient='records', \n",
        "                                   compression='gzip',\n",
        "                                   lines=True)[columns] \n",
        "                      for f in file_list], sort=False)"
      ],
      "id": "8aa7dbe1",
      "execution_count": null,
      "outputs": []
    },
    {
      "cell_type": "code",
      "metadata": {
        "id": "be6c1c77"
      },
      "source": [
        "pydf = jsonl_list_to_dataframe(python_files, columns=['repo'])\n",
        "pydf = pydf.drop_duplicates().reset_index(drop=True)\n",
        "pydf.to_pickle(f\"{root}/repos.pkl\")"
      ],
      "id": "be6c1c77",
      "execution_count": null,
      "outputs": []
    },
    {
      "cell_type": "markdown",
      "metadata": {
        "id": "1d0559c4"
      },
      "source": [
        "## 2. Collect diff and commits"
      ],
      "id": "1d0559c4"
    },
    {
      "cell_type": "code",
      "metadata": {
        "colab": {
          "base_uri": "https://localhost:8080/"
        },
        "id": "8ee24339",
        "outputId": "6d87298c-387e-479a-e0b5-1a7ebcb32c97"
      },
      "source": [
        "!pip install pydriller\n",
        "!pip install pandas\n",
        "!pip install nltk"
      ],
      "id": "8ee24339",
      "execution_count": 15,
      "outputs": [
        {
          "output_type": "stream",
          "name": "stdout",
          "text": [
            "Requirement already satisfied: pydriller in /usr/local/lib/python3.7/dist-packages (2.0)\n",
            "Requirement already satisfied: gitpython in /usr/local/lib/python3.7/dist-packages (from pydriller) (3.1.24)\n",
            "Requirement already satisfied: pytz in /usr/local/lib/python3.7/dist-packages (from pydriller) (2018.9)\n",
            "Requirement already satisfied: lizard in /usr/local/lib/python3.7/dist-packages (from pydriller) (1.17.9)\n",
            "Requirement already satisfied: gitdb<5,>=4.0.1 in /usr/local/lib/python3.7/dist-packages (from gitpython->pydriller) (4.0.9)\n",
            "Requirement already satisfied: typing-extensions>=3.7.4.3 in /usr/local/lib/python3.7/dist-packages (from gitpython->pydriller) (3.10.0.2)\n",
            "Requirement already satisfied: smmap<6,>=3.0.1 in /usr/local/lib/python3.7/dist-packages (from gitdb<5,>=4.0.1->gitpython->pydriller) (5.0.0)\n",
            "Requirement already satisfied: pandas in /usr/local/lib/python3.7/dist-packages (1.1.5)\n",
            "Requirement already satisfied: numpy>=1.15.4 in /usr/local/lib/python3.7/dist-packages (from pandas) (1.19.5)\n",
            "Requirement already satisfied: pytz>=2017.2 in /usr/local/lib/python3.7/dist-packages (from pandas) (2018.9)\n",
            "Requirement already satisfied: python-dateutil>=2.7.3 in /usr/local/lib/python3.7/dist-packages (from pandas) (2.8.2)\n",
            "Requirement already satisfied: six>=1.5 in /usr/local/lib/python3.7/dist-packages (from python-dateutil>=2.7.3->pandas) (1.15.0)\n",
            "Requirement already satisfied: nltk in /usr/local/lib/python3.7/dist-packages (3.2.5)\n",
            "Requirement already satisfied: six in /usr/local/lib/python3.7/dist-packages (from nltk) (1.15.0)\n"
          ]
        }
      ]
    },
    {
      "cell_type": "code",
      "metadata": {
        "id": "72e76292"
      },
      "source": [
        "from pydriller import *\n",
        "import pandas as pd\n",
        "from nltk.tokenize import regexp_tokenize\n",
        "import re\n",
        "from itertools import chain\n",
        "import json"
      ],
      "id": "72e76292",
      "execution_count": 16,
      "outputs": []
    },
    {
      "cell_type": "code",
      "metadata": {
        "colab": {
          "base_uri": "https://localhost:8080/"
        },
        "id": "845d5eb7",
        "outputId": "a229dce8-6f96-486e-a92d-efeb80a7de27"
      },
      "source": [
        "repodf = pd.read_pickle(f\"{root}/repos.pkl\")\n",
        "print(repodf.shape)\n",
        "print(repodf)"
      ],
      "id": "845d5eb7",
      "execution_count": 17,
      "outputs": [
        {
          "output_type": "stream",
          "name": "stdout",
          "text": [
            "(13590, 1)\n",
            "                                 repo\n",
            "0                     soimort/you-get\n",
            "1                      apache/airflow\n",
            "2                      pytorch/vision\n",
            "3                      asciimoo/searx\n",
            "4              tensorflow/probability\n",
            "...                               ...\n",
            "13585         praekelt/python-ambient\n",
            "13586                 zenreach/py-era\n",
            "13587  TakesxiSximada/custom_settings\n",
            "13588            openpermissions/bass\n",
            "13589               xnuinside/clifier\n",
            "\n",
            "[13590 rows x 1 columns]\n"
          ]
        }
      ]
    },
    {
      "cell_type": "code",
      "metadata": {
        "id": "449680fc"
      },
      "source": [
        "def basic_filter(message):\n",
        "    return message.split(\"\\n\", 1)[0].strip()\n",
        "\n",
        "# Remove [label] in front of commit if exists\n",
        "def label_filter(message):\n",
        "    if (message.startswith('[')):\n",
        "        end_bracket_index = message.find(']')\n",
        "        if (end_bracket_index == -1):\n",
        "            return None\n",
        "        return message[end_bracket_index+1:]\n",
        "    return message\n",
        "\n",
        "def camel_case_split(str):\n",
        "    return re.findall(r'[A-Z](?:[a-z]+|[A-Z]*(?=[A-Z]|$))', str)\n",
        "\n",
        "def case_splitter(token):\n",
        "    return list(map(lambda x: x.lower(), camel_case_split(token[0].upper() + token[1:]) if token[0].isalpha() else [token]))\n",
        "\n",
        "\n",
        "def split_by_quote(diff):\n",
        "    text_list = [(0,0)]\n",
        "    quote_state = 0 #[\"out\",\"single\",\"double\",\"Single\",\"Double\",\"quote\"]\n",
        "    i=0\n",
        "    while i<len(diff):\n",
        "      if diff[i] == \"\\\\\":i+=1\n",
        "      elif (diff[i] == \"\\n\" and quote_state == 5) or (diff[i] == '#' and quote_state == 0):\n",
        "        text_list.append((quote_state,i))\n",
        "        quote_state = abs(5-quote_state)\n",
        "      elif diff[i] == '\"':\n",
        "        if i+2<len(diff) and diff[i:i+3]=='\"\"\"' and (quote_state == 0 or quote_state ==4):\n",
        "          text_list.append((quote_state,i+max(quote_state-1,0)))\n",
        "          quote_state = abs(4-quote_state)\n",
        "          i+=2\n",
        "        elif quote_state == 0 or quote_state == 2:\n",
        "          text_list.append((quote_state,i+max(quote_state-1,0)))\n",
        "          quote_state = abs(2-quote_state)\n",
        "      elif diff[i] == \"'\":\n",
        "        if i+2<len(diff) and diff[i:i+3] == \"'''\" and (quote_state == 0 or quote_state == 3):\n",
        "          text_list.append((quote_state,i+quote_state))\n",
        "          quote_state = abs(3-quote_state)\n",
        "          i+=2\n",
        "        elif quote_state == 0 or quote_state == 1:\n",
        "          text_list.append((quote_state,i+quote_state))\n",
        "          quote_state = abs(1-quote_state)\n",
        "      i+=1\n",
        "    text_list.append((quote_state,i))\n",
        "    return [(text_list[i][0]==0,diff[text_list[i-1][1]:text_list[i][1]]) for i in range(1,len(text_list))]\n",
        "  \n",
        "\n",
        "token_regex = r\"\"\"(?x)\n",
        "<(?:add|del)>   #Filtered eariler\n",
        "|(?:[-+*/^&~|=%!<>@?$][\\s]*)+     #Sequence of symbols\n",
        "|[\\n]                    #Change row\n",
        "|[a-zA-Z]+               #General text\n",
        "|[0-9]+                  #Number\n",
        "\"\"\"\n",
        "string_regex = r\"\"\"(?x)\n",
        "<(?:add|del)>\n",
        "|[\\n]\n",
        "|[a-zA-Z]+\n",
        "\"\"\"\n",
        "def diff_tokenizer(diff_text):\n",
        "    diff = '\\n'.join(map(lambda x: x[1], filter(lambda y: y[0] % 2 == 0, enumerate(diff_text.split(\"@@\")))))\n",
        "    diff = diff.replace('\\n+', '\\n<add>').replace('\\n-', '\\n<del>')\n",
        "    diff = re.sub(r\"(?:\\n[ \\t\\r\\f\\v]*)+\",\"\\n\",diff) # Join continuous row change\n",
        "    quote_split = split_by_quote(diff)\n",
        "    token_initial = chain.from_iterable(map(lambda a: regexp_tokenize(a[1],(token_regex if a[0] else string_regex)), quote_split))\n",
        "    token_camel_case_split = chain.from_iterable(map(case_splitter, token_initial))\n",
        "    return token_camel_case_split\n",
        "\n",
        "\n",
        "def commit_msg_tokenizer(msg):\n",
        "    line = basic_filter(msg)\n",
        "    line = label_filter(line)\n",
        "    if (line is None):\n",
        "        return None\n",
        "    if line.count(\"`\")%2 == 1:\n",
        "        return None\n",
        "    \n",
        "    backtick_regex = r\"`[^`]+`|[^`]+\"\n",
        "    line_divided_by_backtick = re.findall(backtick_regex,line)\n",
        "    tokens = chain.from_iterable(map(lambda text: regexp_tokenize(text,(token_regex if text[0] == '`' else string_regex)),line_divided_by_backtick))\n",
        "    commit_tokens = list(chain.from_iterable(map(case_splitter, tokens)))\n",
        "    if (len(commit_tokens) < 3 or len(commit_tokens) > 30):\n",
        "        return None\n",
        "    if (\"version\" in commit_tokens):\n",
        "        return None\n",
        "    return commit_tokens\n",
        "\n",
        "def parse_repo_commits(repo_name, commit_limit=50):\n",
        "    data = []\n",
        "    commit_count = 0\n",
        "    commit_count_traversed = 0\n",
        "    try:\n",
        "      for commit in Repository(\n",
        "          f\"https://github.com/{repo_name}\",\n",
        "          only_modifications_with_file_types=[\".py\"],\n",
        "          only_no_merge=True,\n",
        "          order='reverse'\n",
        "      ).traverse_commits():\n",
        "          commit_count_traversed += 1\n",
        "          if (commit_count >= commit_limit): break\n",
        "          \n",
        "          commit_tokens = commit_msg_tokenizer(commit.msg)\n",
        "          if (commit_tokens is None):\n",
        "              continue\n",
        "          \n",
        "          # Check if changed files are python\n",
        "          file_failed = False\n",
        "          count_diff_lines = 0\n",
        "\n",
        "          for mf in commit.modified_files:\n",
        "              if (not mf.filename.endswith(\".py\")):\n",
        "                  file_failed = True\n",
        "                  break\n",
        "              count_diff_lines += mf.added_lines + mf.deleted_lines\n",
        "          \n",
        "          if (file_failed):\n",
        "              continue\n",
        "          \n",
        "          if (count_diff_lines > 50):\n",
        "              continue\n",
        "          \n",
        "          # Create diff tokens\n",
        "          diff_tokens = []\n",
        "          for f in commit.modified_files:\n",
        "            diff_tokens.append (['<file>'])\n",
        "            diff_tokens.append(diff_tokenizer(f.diff))\n",
        "\n",
        "          diff_whole_tokens = list(chain.from_iterable(diff_tokens))\n",
        "\n",
        "          data.append([repo_name, commit.hash, json.dumps(commit_tokens), json.dumps(diff_whole_tokens)])\n",
        "          commit_count += 1\n",
        "        \n",
        "      \n",
        "      print(f\"[DEBUG] {repo_name}: {len(data)} / {commit_count_traversed}\")\n",
        "      return pd.DataFrame(data, columns=[\"repo\", \"hash\", \"commit_messsage\", \"diff\"])\n",
        "    except Exception as e:\n",
        "      print(e)\n",
        "      print(repo_name)\n",
        "      return pd.DataFrame([], columns=[\"repo\", \"hash\", \"commit_messsage\", \"diff\"])\n"
      ],
      "id": "449680fc",
      "execution_count": 21,
      "outputs": []
    },
    {
      "cell_type": "code",
      "metadata": {
        "colab": {
          "base_uri": "https://localhost:8080/",
          "height": 398
        },
        "id": "b2854419",
        "outputId": "a8190f03-ed68-429c-9cff-c487667f83e8"
      },
      "source": [
        "import time\n",
        "start = time.time()\n",
        "#df = parse_repo_commits(\"soimort/you-get\")\n",
        "df = parse_repo_commits(\"openthread/openthread\")\n",
        "end = time.time()\n",
        "print(end - start)\n",
        "df.head(10)"
      ],
      "id": "b2854419",
      "execution_count": 22,
      "outputs": [
        {
          "output_type": "stream",
          "name": "stdout",
          "text": [
            "[DEBUG] openthread/openthread: 50 / 102\n",
            "20.160506010055542\n"
          ]
        },
        {
          "output_type": "execute_result",
          "data": {
            "text/html": [
              "<div>\n",
              "<style scoped>\n",
              "    .dataframe tbody tr th:only-of-type {\n",
              "        vertical-align: middle;\n",
              "    }\n",
              "\n",
              "    .dataframe tbody tr th {\n",
              "        vertical-align: top;\n",
              "    }\n",
              "\n",
              "    .dataframe thead th {\n",
              "        text-align: right;\n",
              "    }\n",
              "</style>\n",
              "<table border=\"1\" class=\"dataframe\">\n",
              "  <thead>\n",
              "    <tr style=\"text-align: right;\">\n",
              "      <th></th>\n",
              "      <th>repo</th>\n",
              "      <th>hash</th>\n",
              "      <th>commit_messsage</th>\n",
              "      <th>diff</th>\n",
              "    </tr>\n",
              "  </thead>\n",
              "  <tbody>\n",
              "    <tr>\n",
              "      <th>0</th>\n",
              "      <td>openthread/openthread</td>\n",
              "      <td>b2c0c1a2af710225949f35ceb2af94504808796e</td>\n",
              "      <td>[\"use\", \"xa\", \"instead\", \"of\", \"dd\", \"in\", \"th...</td>\n",
              "      <td>[\"&lt;file&gt;\", \"\\n\", \"class\", \"test\", \"dnssd\", \"se...</td>\n",
              "    </tr>\n",
              "    <tr>\n",
              "      <th>1</th>\n",
              "      <td>openthread/openthread</td>\n",
              "      <td>775c568286d22268def6ffd7da3723a938825259</td>\n",
              "      <td>[\"fix\", \"failing\", \"thread\", \"cert\", \"tests\"]</td>\n",
              "      <td>[\"&lt;file&gt;\", \"\\n\", \"class\", \"open\", \"thread\", \"t...</td>\n",
              "    </tr>\n",
              "    <tr>\n",
              "      <th>2</th>\n",
              "      <td>openthread/openthread</td>\n",
              "      <td>2d16fa25e4ec8ff1309400e1ae7548345a4335b9</td>\n",
              "      <td>[\"fix\", \"test\", \"publish\", \"meshcop\", \"service...</td>\n",
              "      <td>[\"&lt;file&gt;\", \"\\n\", \"class\", \"publish\", \"mesh\", \"...</td>\n",
              "    </tr>\n",
              "    <tr>\n",
              "      <th>3</th>\n",
              "      <td>openthread/openthread</td>\n",
              "      <td>02d29cd5e343c3eb17840251b7feaa9345892895</td>\n",
              "      <td>[\"update\", \"meshcop\", \"service\", \"test\", \"case\"]</td>\n",
              "      <td>[\"&lt;file&gt;\", \"\\n\", \"class\", \"publish\", \"mesh\", \"...</td>\n",
              "    </tr>\n",
              "    <tr>\n",
              "      <th>4</th>\n",
              "      <td>openthread/openthread</td>\n",
              "      <td>cf4b71d8b90122f753486215557af46b25bc2185</td>\n",
              "      <td>[\"fix\", \"issue\", \"with\", \"not\", \"initialized\",...</td>\n",
              "      <td>[\"&lt;file&gt;\", \"\\n\", \"class\", \"open\", \"thread\", \"t...</td>\n",
              "    </tr>\n",
              "    <tr>\n",
              "      <th>5</th>\n",
              "      <td>openthread/openthread</td>\n",
              "      <td>3dd184a0bc9577c2135f547fe16cd72454f6db26</td>\n",
              "      <td>[\"verify\", \"the\", \"number\", \"of\", \"published\",...</td>\n",
              "      <td>[\"&lt;file&gt;\", \"\\n\", \"class\", \"publish\", \"mesh\", \"...</td>\n",
              "    </tr>\n",
              "    <tr>\n",
              "      <th>6</th>\n",
              "      <td>openthread/openthread</td>\n",
              "      <td>0e8b6604cb256cef828a0ebb37bdd031cdf0677d</td>\n",
              "      <td>[\"add\", \"set\", \"ccm\", \"state\", \"method\", \"in\",...</td>\n",
              "      <td>[\"&lt;file&gt;\", \"\\n\", \"class\", \"open\", \"thread\", \"t...</td>\n",
              "    </tr>\n",
              "    <tr>\n",
              "      <th>7</th>\n",
              "      <td>openthread/openthread</td>\n",
              "      <td>e67f432284914aa6d2675a2df0507f44aa4a0e92</td>\n",
              "      <td>[\"fix\", \"for\", \"grl\", \"th\", \"leader\", \"leader\"]</td>\n",
              "      <td>[\"&lt;file&gt;\", \"\\n\", \"class\", \"open\", \"thread\", \"t...</td>\n",
              "    </tr>\n",
              "    <tr>\n",
              "      <th>8</th>\n",
              "      <td>openthread/openthread</td>\n",
              "      <td>130957d48981c1294c8fc90d51556134cf935d6f</td>\n",
              "      <td>[\"fix\", \"issue\", \"with\", \"is\", \"power\", \"down\"...</td>\n",
              "      <td>[\"&lt;file&gt;\", \"\\n\", \"class\", \"open\", \"thread\", \"t...</td>\n",
              "    </tr>\n",
              "    <tr>\n",
              "      <th>9</th>\n",
              "      <td>openthread/openthread</td>\n",
              "      <td>825227a71a6c70f8b046f5c66a91cde8abd14757</td>\n",
              "      <td>[\"fix\", \"mdns\", \"query\"]</td>\n",
              "      <td>[\"&lt;file&gt;\", \"\\n\", \"eof\", \"\\n\", \"print\", \"mdns\",...</td>\n",
              "    </tr>\n",
              "  </tbody>\n",
              "</table>\n",
              "</div>"
            ],
            "text/plain": [
              "                    repo  ...                                               diff\n",
              "0  openthread/openthread  ...  [\"<file>\", \"\\n\", \"class\", \"test\", \"dnssd\", \"se...\n",
              "1  openthread/openthread  ...  [\"<file>\", \"\\n\", \"class\", \"open\", \"thread\", \"t...\n",
              "2  openthread/openthread  ...  [\"<file>\", \"\\n\", \"class\", \"publish\", \"mesh\", \"...\n",
              "3  openthread/openthread  ...  [\"<file>\", \"\\n\", \"class\", \"publish\", \"mesh\", \"...\n",
              "4  openthread/openthread  ...  [\"<file>\", \"\\n\", \"class\", \"open\", \"thread\", \"t...\n",
              "5  openthread/openthread  ...  [\"<file>\", \"\\n\", \"class\", \"publish\", \"mesh\", \"...\n",
              "6  openthread/openthread  ...  [\"<file>\", \"\\n\", \"class\", \"open\", \"thread\", \"t...\n",
              "7  openthread/openthread  ...  [\"<file>\", \"\\n\", \"class\", \"open\", \"thread\", \"t...\n",
              "8  openthread/openthread  ...  [\"<file>\", \"\\n\", \"class\", \"open\", \"thread\", \"t...\n",
              "9  openthread/openthread  ...  [\"<file>\", \"\\n\", \"eof\", \"\\n\", \"print\", \"mdns\",...\n",
              "\n",
              "[10 rows x 4 columns]"
            ]
          },
          "metadata": {},
          "execution_count": 22
        }
      ]
    },
    {
      "cell_type": "markdown",
      "metadata": {
        "id": "3Dn9Co_Izwuf"
      },
      "source": [
        "# 3. Create whole dataset via Multiprocessing"
      ],
      "id": "3Dn9Co_Izwuf"
    },
    {
      "cell_type": "code",
      "metadata": {
        "colab": {
          "base_uri": "https://localhost:8080/",
          "height": 1000
        },
        "id": "0f65faf9",
        "outputId": "bb002820-6f24-4fb3-e52d-ea9367bdaadf"
      },
      "source": [
        "import multiprocessing\n",
        "import os\n",
        "\n",
        "data = []\n",
        "\n",
        "obj_len = len(repodf['repo']) // 2\n",
        "\n",
        "def f(repo):\n",
        "  start = time.time()\n",
        "  df = parse_repo_commits(repo)\n",
        "  end = time.time()\n",
        "  print(f\"{repo} took {end-start} seconds\")\n",
        "  return df\n",
        "\n",
        "pool = multiprocessing.Pool()\n",
        "\n",
        "outputs = pool.map(f, repodf['repo'][:obj_len])\n",
        "pd.concat(outputs).to_pickle(f\"{root}/data.pkl\")"
      ],
      "id": "0f65faf9",
      "execution_count": 27,
      "outputs": [
        {
          "output_type": "stream",
          "name": "stdout",
          "text": [
            "[DEBUG] pydanny/cookiecutter-django: 50 / 95\n",
            "pydanny/cookiecutter-django took 66.16606426239014 seconds\n",
            "[DEBUG] instagrambot/instabot: 50 / 136\n",
            "instagrambot/instabot took 30.212985038757324 seconds\n",
            "[DEBUG] kennethreitz/twitter-scraper: 50 / 72\n",
            "kennethreitz/twitter-scraper took 11.565507173538208 seconds\n"
          ]
        },
        {
          "output_type": "stream",
          "name": "stderr",
          "text": [
            "Process ForkPoolWorker-24:\n",
            "Traceback (most recent call last):\n",
            "Process ForkPoolWorker-25:\n",
            "Traceback (most recent call last):\n",
            "  File \"/usr/lib/python3.7/multiprocessing/process.py\", line 297, in _bootstrap\n",
            "    self.run()\n",
            "  File \"/usr/lib/python3.7/multiprocessing/process.py\", line 297, in _bootstrap\n",
            "    self.run()\n",
            "  File \"/usr/lib/python3.7/multiprocessing/process.py\", line 99, in run\n",
            "    self._target(*self._args, **self._kwargs)\n",
            "  File \"/usr/lib/python3.7/multiprocessing/process.py\", line 99, in run\n",
            "    self._target(*self._args, **self._kwargs)\n",
            "  File \"/usr/lib/python3.7/multiprocessing/pool.py\", line 121, in worker\n",
            "    result = (True, func(*args, **kwds))\n",
            "  File \"/usr/lib/python3.7/multiprocessing/pool.py\", line 121, in worker\n",
            "    result = (True, func(*args, **kwds))\n",
            "  File \"/usr/lib/python3.7/multiprocessing/pool.py\", line 44, in mapstar\n",
            "    return list(map(*args))\n",
            "  File \"/usr/lib/python3.7/multiprocessing/pool.py\", line 44, in mapstar\n",
            "    return list(map(*args))\n",
            "  File \"<ipython-input-27-c5d842d347a6>\", line 14, in f\n",
            "    df = parse_repo_commits(repo)\n",
            "  File \"<ipython-input-27-c5d842d347a6>\", line 14, in f\n",
            "    df = parse_repo_commits(repo)\n",
            "  File \"<ipython-input-21-2b28268c8725>\", line 99, in parse_repo_commits\n",
            "    order='reverse'\n",
            "  File \"<ipython-input-21-2b28268c8725>\", line 99, in parse_repo_commits\n",
            "    order='reverse'\n"
          ]
        },
        {
          "output_type": "error",
          "ename": "KeyboardInterrupt",
          "evalue": "ignored",
          "traceback": [
            "\u001b[0;31m---------------------------------------------------------------------------\u001b[0m",
            "\u001b[0;31mKeyboardInterrupt\u001b[0m                         Traceback (most recent call last)",
            "\u001b[0;32m<ipython-input-27-c5d842d347a6>\u001b[0m in \u001b[0;36m<module>\u001b[0;34m()\u001b[0m\n\u001b[1;32m     20\u001b[0m \u001b[0mpool\u001b[0m \u001b[0;34m=\u001b[0m \u001b[0mmultiprocessing\u001b[0m\u001b[0;34m.\u001b[0m\u001b[0mPool\u001b[0m\u001b[0;34m(\u001b[0m\u001b[0;34m)\u001b[0m\u001b[0;34m\u001b[0m\u001b[0;34m\u001b[0m\u001b[0m\n\u001b[1;32m     21\u001b[0m \u001b[0;34m\u001b[0m\u001b[0m\n\u001b[0;32m---> 22\u001b[0;31m \u001b[0moutputs\u001b[0m \u001b[0;34m=\u001b[0m \u001b[0mpool\u001b[0m\u001b[0;34m.\u001b[0m\u001b[0mmap\u001b[0m\u001b[0;34m(\u001b[0m\u001b[0mf\u001b[0m\u001b[0;34m,\u001b[0m \u001b[0mrepodf\u001b[0m\u001b[0;34m[\u001b[0m\u001b[0;34m'repo'\u001b[0m\u001b[0;34m]\u001b[0m\u001b[0;34m[\u001b[0m\u001b[0;34m:\u001b[0m\u001b[0mobj_len\u001b[0m\u001b[0;34m]\u001b[0m\u001b[0;34m)\u001b[0m\u001b[0;34m\u001b[0m\u001b[0;34m\u001b[0m\u001b[0m\n\u001b[0m\u001b[1;32m     23\u001b[0m \u001b[0mpd\u001b[0m\u001b[0;34m.\u001b[0m\u001b[0mconcat\u001b[0m\u001b[0;34m(\u001b[0m\u001b[0moutputs\u001b[0m\u001b[0;34m)\u001b[0m\u001b[0;34m.\u001b[0m\u001b[0mto_pickle\u001b[0m\u001b[0;34m(\u001b[0m\u001b[0;34mf\"{root}/data.pkl\"\u001b[0m\u001b[0;34m)\u001b[0m\u001b[0;34m\u001b[0m\u001b[0;34m\u001b[0m\u001b[0m\n",
            "\u001b[0;32m/usr/lib/python3.7/multiprocessing/pool.py\u001b[0m in \u001b[0;36mmap\u001b[0;34m(self, func, iterable, chunksize)\u001b[0m\n\u001b[1;32m    266\u001b[0m         \u001b[0;32min\u001b[0m \u001b[0ma\u001b[0m \u001b[0mlist\u001b[0m \u001b[0mthat\u001b[0m \u001b[0;32mis\u001b[0m \u001b[0mreturned\u001b[0m\u001b[0;34m.\u001b[0m\u001b[0;34m\u001b[0m\u001b[0;34m\u001b[0m\u001b[0m\n\u001b[1;32m    267\u001b[0m         '''\n\u001b[0;32m--> 268\u001b[0;31m         \u001b[0;32mreturn\u001b[0m \u001b[0mself\u001b[0m\u001b[0;34m.\u001b[0m\u001b[0m_map_async\u001b[0m\u001b[0;34m(\u001b[0m\u001b[0mfunc\u001b[0m\u001b[0;34m,\u001b[0m \u001b[0miterable\u001b[0m\u001b[0;34m,\u001b[0m \u001b[0mmapstar\u001b[0m\u001b[0;34m,\u001b[0m \u001b[0mchunksize\u001b[0m\u001b[0;34m)\u001b[0m\u001b[0;34m.\u001b[0m\u001b[0mget\u001b[0m\u001b[0;34m(\u001b[0m\u001b[0;34m)\u001b[0m\u001b[0;34m\u001b[0m\u001b[0;34m\u001b[0m\u001b[0m\n\u001b[0m\u001b[1;32m    269\u001b[0m \u001b[0;34m\u001b[0m\u001b[0m\n\u001b[1;32m    270\u001b[0m     \u001b[0;32mdef\u001b[0m \u001b[0mstarmap\u001b[0m\u001b[0;34m(\u001b[0m\u001b[0mself\u001b[0m\u001b[0;34m,\u001b[0m \u001b[0mfunc\u001b[0m\u001b[0;34m,\u001b[0m \u001b[0miterable\u001b[0m\u001b[0;34m,\u001b[0m \u001b[0mchunksize\u001b[0m\u001b[0;34m=\u001b[0m\u001b[0;32mNone\u001b[0m\u001b[0;34m)\u001b[0m\u001b[0;34m:\u001b[0m\u001b[0;34m\u001b[0m\u001b[0;34m\u001b[0m\u001b[0m\n",
            "\u001b[0;32m/usr/lib/python3.7/multiprocessing/pool.py\u001b[0m in \u001b[0;36mget\u001b[0;34m(self, timeout)\u001b[0m\n\u001b[1;32m    649\u001b[0m \u001b[0;34m\u001b[0m\u001b[0m\n\u001b[1;32m    650\u001b[0m     \u001b[0;32mdef\u001b[0m \u001b[0mget\u001b[0m\u001b[0;34m(\u001b[0m\u001b[0mself\u001b[0m\u001b[0;34m,\u001b[0m \u001b[0mtimeout\u001b[0m\u001b[0;34m=\u001b[0m\u001b[0;32mNone\u001b[0m\u001b[0;34m)\u001b[0m\u001b[0;34m:\u001b[0m\u001b[0;34m\u001b[0m\u001b[0;34m\u001b[0m\u001b[0m\n\u001b[0;32m--> 651\u001b[0;31m         \u001b[0mself\u001b[0m\u001b[0;34m.\u001b[0m\u001b[0mwait\u001b[0m\u001b[0;34m(\u001b[0m\u001b[0mtimeout\u001b[0m\u001b[0;34m)\u001b[0m\u001b[0;34m\u001b[0m\u001b[0;34m\u001b[0m\u001b[0m\n\u001b[0m\u001b[1;32m    652\u001b[0m         \u001b[0;32mif\u001b[0m \u001b[0;32mnot\u001b[0m \u001b[0mself\u001b[0m\u001b[0;34m.\u001b[0m\u001b[0mready\u001b[0m\u001b[0;34m(\u001b[0m\u001b[0;34m)\u001b[0m\u001b[0;34m:\u001b[0m\u001b[0;34m\u001b[0m\u001b[0;34m\u001b[0m\u001b[0m\n\u001b[1;32m    653\u001b[0m             \u001b[0;32mraise\u001b[0m \u001b[0mTimeoutError\u001b[0m\u001b[0;34m\u001b[0m\u001b[0;34m\u001b[0m\u001b[0m\n",
            "\u001b[0;32m/usr/lib/python3.7/multiprocessing/pool.py\u001b[0m in \u001b[0;36mwait\u001b[0;34m(self, timeout)\u001b[0m\n\u001b[1;32m    646\u001b[0m \u001b[0;34m\u001b[0m\u001b[0m\n\u001b[1;32m    647\u001b[0m     \u001b[0;32mdef\u001b[0m \u001b[0mwait\u001b[0m\u001b[0;34m(\u001b[0m\u001b[0mself\u001b[0m\u001b[0;34m,\u001b[0m \u001b[0mtimeout\u001b[0m\u001b[0;34m=\u001b[0m\u001b[0;32mNone\u001b[0m\u001b[0;34m)\u001b[0m\u001b[0;34m:\u001b[0m\u001b[0;34m\u001b[0m\u001b[0;34m\u001b[0m\u001b[0m\n\u001b[0;32m--> 648\u001b[0;31m         \u001b[0mself\u001b[0m\u001b[0;34m.\u001b[0m\u001b[0m_event\u001b[0m\u001b[0;34m.\u001b[0m\u001b[0mwait\u001b[0m\u001b[0;34m(\u001b[0m\u001b[0mtimeout\u001b[0m\u001b[0;34m)\u001b[0m\u001b[0;34m\u001b[0m\u001b[0;34m\u001b[0m\u001b[0m\n\u001b[0m\u001b[1;32m    649\u001b[0m \u001b[0;34m\u001b[0m\u001b[0m\n\u001b[1;32m    650\u001b[0m     \u001b[0;32mdef\u001b[0m \u001b[0mget\u001b[0m\u001b[0;34m(\u001b[0m\u001b[0mself\u001b[0m\u001b[0;34m,\u001b[0m \u001b[0mtimeout\u001b[0m\u001b[0;34m=\u001b[0m\u001b[0;32mNone\u001b[0m\u001b[0;34m)\u001b[0m\u001b[0;34m:\u001b[0m\u001b[0;34m\u001b[0m\u001b[0;34m\u001b[0m\u001b[0m\n",
            "\u001b[0;32m/usr/lib/python3.7/threading.py\u001b[0m in \u001b[0;36mwait\u001b[0;34m(self, timeout)\u001b[0m\n\u001b[1;32m    550\u001b[0m             \u001b[0msignaled\u001b[0m \u001b[0;34m=\u001b[0m \u001b[0mself\u001b[0m\u001b[0;34m.\u001b[0m\u001b[0m_flag\u001b[0m\u001b[0;34m\u001b[0m\u001b[0;34m\u001b[0m\u001b[0m\n\u001b[1;32m    551\u001b[0m             \u001b[0;32mif\u001b[0m \u001b[0;32mnot\u001b[0m \u001b[0msignaled\u001b[0m\u001b[0;34m:\u001b[0m\u001b[0;34m\u001b[0m\u001b[0;34m\u001b[0m\u001b[0m\n\u001b[0;32m--> 552\u001b[0;31m                 \u001b[0msignaled\u001b[0m \u001b[0;34m=\u001b[0m \u001b[0mself\u001b[0m\u001b[0;34m.\u001b[0m\u001b[0m_cond\u001b[0m\u001b[0;34m.\u001b[0m\u001b[0mwait\u001b[0m\u001b[0;34m(\u001b[0m\u001b[0mtimeout\u001b[0m\u001b[0;34m)\u001b[0m\u001b[0;34m\u001b[0m\u001b[0;34m\u001b[0m\u001b[0m\n\u001b[0m\u001b[1;32m    553\u001b[0m             \u001b[0;32mreturn\u001b[0m \u001b[0msignaled\u001b[0m\u001b[0;34m\u001b[0m\u001b[0;34m\u001b[0m\u001b[0m\n\u001b[1;32m    554\u001b[0m \u001b[0;34m\u001b[0m\u001b[0m\n",
            "\u001b[0;32m/usr/lib/python3.7/threading.py\u001b[0m in \u001b[0;36mwait\u001b[0;34m(self, timeout)\u001b[0m\n\u001b[1;32m    294\u001b[0m         \u001b[0;32mtry\u001b[0m\u001b[0;34m:\u001b[0m    \u001b[0;31m# restore state no matter what (e.g., KeyboardInterrupt)\u001b[0m\u001b[0;34m\u001b[0m\u001b[0;34m\u001b[0m\u001b[0m\n\u001b[1;32m    295\u001b[0m             \u001b[0;32mif\u001b[0m \u001b[0mtimeout\u001b[0m \u001b[0;32mis\u001b[0m \u001b[0;32mNone\u001b[0m\u001b[0;34m:\u001b[0m\u001b[0;34m\u001b[0m\u001b[0;34m\u001b[0m\u001b[0m\n\u001b[0;32m--> 296\u001b[0;31m                 \u001b[0mwaiter\u001b[0m\u001b[0;34m.\u001b[0m\u001b[0macquire\u001b[0m\u001b[0;34m(\u001b[0m\u001b[0;34m)\u001b[0m\u001b[0;34m\u001b[0m\u001b[0;34m\u001b[0m\u001b[0m\n\u001b[0m\u001b[1;32m    297\u001b[0m                 \u001b[0mgotit\u001b[0m \u001b[0;34m=\u001b[0m \u001b[0;32mTrue\u001b[0m\u001b[0;34m\u001b[0m\u001b[0;34m\u001b[0m\u001b[0m\n\u001b[1;32m    298\u001b[0m             \u001b[0;32melse\u001b[0m\u001b[0;34m:\u001b[0m\u001b[0;34m\u001b[0m\u001b[0;34m\u001b[0m\u001b[0m\n",
            "\u001b[0;31mKeyboardInterrupt\u001b[0m: "
          ]
        },
        {
          "output_type": "stream",
          "name": "stderr",
          "text": [
            "  File \"/usr/local/lib/python3.7/dist-packages/pydriller/repository.py\", line 233, in traverse_commits\n",
            "    for commit in job.result():\n",
            "  File \"/usr/local/lib/python3.7/dist-packages/pydriller/repository.py\", line 233, in traverse_commits\n",
            "    for commit in job.result():\n",
            "  File \"/usr/local/lib/python3.7/dist-packages/pydriller/repository.py\", line 240, in _iter_commits\n",
            "    if self._conf.is_commit_filtered(commit):\n",
            "  File \"/usr/local/lib/python3.7/dist-packages/pydriller/utils/conf.py\", line 267, in is_commit_filtered\n",
            "    if not self._has_modification_with_file_type(commit):\n",
            "  File \"/usr/local/lib/python3.7/dist-packages/pydriller/repository.py\", line 240, in _iter_commits\n",
            "    if self._conf.is_commit_filtered(commit):\n",
            "  File \"/usr/local/lib/python3.7/dist-packages/pydriller/utils/conf.py\", line 267, in is_commit_filtered\n",
            "    if not self._has_modification_with_file_type(commit):\n",
            "  File \"/usr/local/lib/python3.7/dist-packages/pydriller/utils/conf.py\", line 282, in _has_modification_with_file_type\n",
            "    for mod in commit.modified_files:\n",
            "  File \"/usr/local/lib/python3.7/dist-packages/pydriller/utils/conf.py\", line 282, in _has_modification_with_file_type\n",
            "    for mod in commit.modified_files:\n",
            "  File \"/usr/local/lib/python3.7/dist-packages/pydriller/domain/commit.py\", line 668, in modified_files\n",
            "    self._modifications = self._get_modifications()\n",
            "  File \"/usr/local/lib/python3.7/dist-packages/pydriller/domain/commit.py\", line 668, in modified_files\n",
            "    self._modifications = self._get_modifications()\n",
            "  File \"/usr/local/lib/python3.7/dist-packages/pydriller/domain/commit.py\", line 705, in _get_modifications\n",
            "    return self._parse_diff(diff_index)\n",
            "  File \"/usr/local/lib/python3.7/dist-packages/pydriller/domain/commit.py\", line 684, in _get_modifications\n",
            "    self._c_object, create_patch=True, **options\n",
            "  File \"/usr/local/lib/python3.7/dist-packages/pydriller/domain/commit.py\", line 717, in _parse_diff\n",
            "    \"source_code\": self._get_decoded_sc_str(diff.b_blob),\n",
            "  File \"/usr/local/lib/python3.7/dist-packages/git/diff.py\", line 175, in diff\n",
            "    index = diff_method(self.repo, proc)\n",
            "  File \"/usr/local/lib/python3.7/dist-packages/pydriller/domain/commit.py\", line 738, in _get_decoded_sc_str\n",
            "    return diff.data_stream.read().decode(\"utf-8\", \"ignore\")\n",
            "  File \"/usr/local/lib/python3.7/dist-packages/git/diff.py\", line 454, in _index_from_patch_format\n",
            "    handle_process_output(proc, text_list.append, None, finalize_process, decode_streams=False)\n",
            "  File \"/usr/local/lib/python3.7/dist-packages/git/objects/base.py\", line 133, in data_stream\n",
            "    return self.repo.odb.stream(self.binsha)\n",
            "  File \"/usr/local/lib/python3.7/dist-packages/git/cmd.py\", line 155, in handle_process_output\n",
            "    t.join(timeout=kill_after_timeout)\n",
            "  File \"/usr/local/lib/python3.7/dist-packages/git/db.py\", line 48, in stream\n",
            "    hexsha, typename, size, stream = self._git.stream_object_data(bin_to_hex(binsha))\n",
            "  File \"/usr/lib/python3.7/threading.py\", line 1044, in join\n",
            "    self._wait_for_tstate_lock()\n",
            "  File \"/usr/local/lib/python3.7/dist-packages/git/cmd.py\", line 1269, in stream_object_data\n",
            "    hexsha, typename, size = self.__get_object_header(cmd, ref)\n",
            "  File \"/usr/lib/python3.7/threading.py\", line 1060, in _wait_for_tstate_lock\n",
            "    elif lock.acquire(block, timeout):\n",
            "  File \"/usr/local/lib/python3.7/dist-packages/git/cmd.py\", line 1238, in __get_object_header\n",
            "    cmd.stdin.flush()\n",
            "KeyboardInterrupt\n",
            "KeyboardInterrupt\n"
          ]
        }
      ]
    },
    {
      "cell_type": "code",
      "metadata": {
        "colab": {
          "base_uri": "https://localhost:8080/",
          "height": 143
        },
        "id": "04bfe004",
        "outputId": "9b89d00f-ec36-4eb7-eaca-240bff0d78b3"
      },
      "source": [
        "df = pd.read_pickle(f\"{root}/data.pkl\")\n",
        "df.head(3)"
      ],
      "id": "04bfe004",
      "execution_count": null,
      "outputs": [
        {
          "data": {
            "text/html": [
              "<div>\n",
              "<style scoped>\n",
              "    .dataframe tbody tr th:only-of-type {\n",
              "        vertical-align: middle;\n",
              "    }\n",
              "\n",
              "    .dataframe tbody tr th {\n",
              "        vertical-align: top;\n",
              "    }\n",
              "\n",
              "    .dataframe thead th {\n",
              "        text-align: right;\n",
              "    }\n",
              "</style>\n",
              "<table border=\"1\" class=\"dataframe\">\n",
              "  <thead>\n",
              "    <tr style=\"text-align: right;\">\n",
              "      <th></th>\n",
              "      <th>repo</th>\n",
              "      <th>hash</th>\n",
              "      <th>commit_messsage</th>\n",
              "      <th>diff</th>\n",
              "    </tr>\n",
              "  </thead>\n",
              "  <tbody>\n",
              "    <tr>\n",
              "      <th>0</th>\n",
              "      <td>soimort/you-get</td>\n",
              "      <td>5a12118c836b0b9a7a2f8bdbed25be9aa2ca7831</td>\n",
              "      <td>[\"add\", \"param\", \"postfix\", \"to\", \"postfix\", \"...</td>\n",
              "      <td>[\"&lt;file&gt;\", \"\\n\", \"output\", \"filename\", \"= \", \"...</td>\n",
              "    </tr>\n",
              "    <tr>\n",
              "      <th>1</th>\n",
              "      <td>soimort/you-get</td>\n",
              "      <td>3f47a215bf5f73e73cd7aa607b340a7b68b9bd3d</td>\n",
              "      <td>[\"fix\", \"the\", \"name\", \"m\", \"u\", \"is\", \"not\", ...</td>\n",
              "      <td>[\"&lt;file&gt;\", \"\\n\", \"cookies\", \"= \", \"none\", \"\\n\"...</td>\n",
              "    </tr>\n",
              "    <tr>\n",
              "      <th>2</th>\n",
              "      <td>soimort/you-get</td>\n",
              "      <td>424b555500e65da0533d369a80562bb93907ec9a</td>\n",
              "      <td>[\"fix\", \"zhihu\", \"extractor\", \"comment\", \"ld\"]</td>\n",
              "      <td>[\"&lt;file&gt;\", \"\\n\", \"def\", \"zhihu\", \"download\", \"...</td>\n",
              "    </tr>\n",
              "  </tbody>\n",
              "</table>\n",
              "</div>"
            ],
            "text/plain": [
              "              repo  ...                                               diff\n",
              "0  soimort/you-get  ...  [\"<file>\", \"\\n\", \"output\", \"filename\", \"= \", \"...\n",
              "1  soimort/you-get  ...  [\"<file>\", \"\\n\", \"cookies\", \"= \", \"none\", \"\\n\"...\n",
              "2  soimort/you-get  ...  [\"<file>\", \"\\n\", \"def\", \"zhihu\", \"download\", \"...\n",
              "\n",
              "[3 rows x 4 columns]"
            ]
          },
          "execution_count": 11,
          "metadata": {},
          "output_type": "execute_result"
        }
      ]
    },
    {
      "cell_type": "code",
      "metadata": {
        "id": "FmB-28AA2Vh6"
      },
      "source": [
        ""
      ],
      "id": "FmB-28AA2Vh6",
      "execution_count": null,
      "outputs": []
    }
  ]
}