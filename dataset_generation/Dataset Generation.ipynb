{
 "cells": [
  {
   "cell_type": "markdown",
   "id": "8a5ade31",
   "metadata": {},
   "source": [
    "## 1. Collect CodeSearchNet Repositories"
   ]
  },
  {
   "cell_type": "code",
   "execution_count": 1,
   "id": "c06bb109",
   "metadata": {},
   "outputs": [],
   "source": [
    "import json\n",
    "\n",
    "import pandas as pd\n",
    "from pathlib import Path\n",
    "pd.set_option('max_colwidth',300)\n",
    "from pprint import pprint"
   ]
  },
  {
   "cell_type": "code",
   "execution_count": null,
   "id": "4c50cf9b",
   "metadata": {},
   "outputs": [],
   "source": [
    "!wget https://s3.amazonaws.com/code-search-net/CodeSearchNet/v2/python.zip\n",
    "!mkdir CodeSearchNet\n",
    "!unzip python.zip -d CodeSearchNet"
   ]
  },
  {
   "cell_type": "code",
   "execution_count": 3,
   "id": "2847085c",
   "metadata": {},
   "outputs": [],
   "source": [
    "python_files = sorted(Path('CodeSearchNet/python').glob('**/*.gz'))"
   ]
  },
  {
   "cell_type": "code",
   "execution_count": 4,
   "id": "a2e15382",
   "metadata": {},
   "outputs": [
    {
     "name": "stdout",
     "output_type": "stream",
     "text": [
      "[PosixPath('CodeSearchNet/python/final/jsonl/test/python_test_0.jsonl.gz'), PosixPath('CodeSearchNet/python/final/jsonl/train/python_train_0.jsonl.gz'), PosixPath('CodeSearchNet/python/final/jsonl/train/python_train_1.jsonl.gz'), PosixPath('CodeSearchNet/python/final/jsonl/train/python_train_10.jsonl.gz'), PosixPath('CodeSearchNet/python/final/jsonl/train/python_train_11.jsonl.gz'), PosixPath('CodeSearchNet/python/final/jsonl/train/python_train_12.jsonl.gz'), PosixPath('CodeSearchNet/python/final/jsonl/train/python_train_13.jsonl.gz'), PosixPath('CodeSearchNet/python/final/jsonl/train/python_train_2.jsonl.gz'), PosixPath('CodeSearchNet/python/final/jsonl/train/python_train_3.jsonl.gz'), PosixPath('CodeSearchNet/python/final/jsonl/train/python_train_4.jsonl.gz'), PosixPath('CodeSearchNet/python/final/jsonl/train/python_train_5.jsonl.gz'), PosixPath('CodeSearchNet/python/final/jsonl/train/python_train_6.jsonl.gz'), PosixPath('CodeSearchNet/python/final/jsonl/train/python_train_7.jsonl.gz'), PosixPath('CodeSearchNet/python/final/jsonl/train/python_train_8.jsonl.gz'), PosixPath('CodeSearchNet/python/final/jsonl/train/python_train_9.jsonl.gz'), PosixPath('CodeSearchNet/python/final/jsonl/valid/python_valid_0.jsonl.gz')]\n"
     ]
    }
   ],
   "source": [
    "print(python_files)"
   ]
  },
  {
   "cell_type": "code",
   "execution_count": 5,
   "id": "8aa7dbe1",
   "metadata": {},
   "outputs": [],
   "source": [
    "columns_long_list = ['repo', 'path', 'url', 'code', \n",
    "                     'code_tokens', 'docstring', 'docstring_tokens', \n",
    "                     'language', 'partition']\n",
    "\n",
    "def jsonl_list_to_dataframe(file_list, columns=columns_long_list):\n",
    "    \"\"\"Load a list of jsonl.gz files into a pandas DataFrame.\"\"\"\n",
    "    return pd.concat([pd.read_json(f, \n",
    "                                   orient='records', \n",
    "                                   compression='gzip',\n",
    "                                   lines=True)[columns] \n",
    "                      for f in file_list], sort=False)"
   ]
  },
  {
   "cell_type": "code",
   "execution_count": 10,
   "id": "be6c1c77",
   "metadata": {},
   "outputs": [],
   "source": [
    "columns_repo = ['repo']\n",
    "\n",
    "pydf = jsonl_list_to_dataframe(python_files, columns=columns_repo)"
   ]
  },
  {
   "cell_type": "code",
   "execution_count": 18,
   "id": "e19c0d36",
   "metadata": {},
   "outputs": [],
   "source": [
    "pydf = pydf.drop_duplicates().reset_index(drop=True)"
   ]
  },
  {
   "cell_type": "code",
   "execution_count": 20,
   "id": "ea71c7ad",
   "metadata": {},
   "outputs": [
    {
     "name": "stdout",
     "output_type": "stream",
     "text": [
      "(13590, 1)\n"
     ]
    },
    {
     "data": {
      "text/html": [
       "<div>\n",
       "<style scoped>\n",
       "    .dataframe tbody tr th:only-of-type {\n",
       "        vertical-align: middle;\n",
       "    }\n",
       "\n",
       "    .dataframe tbody tr th {\n",
       "        vertical-align: top;\n",
       "    }\n",
       "\n",
       "    .dataframe thead th {\n",
       "        text-align: right;\n",
       "    }\n",
       "</style>\n",
       "<table border=\"1\" class=\"dataframe\">\n",
       "  <thead>\n",
       "    <tr style=\"text-align: right;\">\n",
       "      <th></th>\n",
       "      <th>repo</th>\n",
       "    </tr>\n",
       "  </thead>\n",
       "  <tbody>\n",
       "    <tr>\n",
       "      <th>0</th>\n",
       "      <td>soimort/you-get</td>\n",
       "    </tr>\n",
       "    <tr>\n",
       "      <th>1</th>\n",
       "      <td>apache/airflow</td>\n",
       "    </tr>\n",
       "    <tr>\n",
       "      <th>2</th>\n",
       "      <td>pytorch/vision</td>\n",
       "    </tr>\n",
       "    <tr>\n",
       "      <th>3</th>\n",
       "      <td>asciimoo/searx</td>\n",
       "    </tr>\n",
       "    <tr>\n",
       "      <th>4</th>\n",
       "      <td>tensorflow/probability</td>\n",
       "    </tr>\n",
       "    <tr>\n",
       "      <th>...</th>\n",
       "      <td>...</td>\n",
       "    </tr>\n",
       "    <tr>\n",
       "      <th>13585</th>\n",
       "      <td>praekelt/python-ambient</td>\n",
       "    </tr>\n",
       "    <tr>\n",
       "      <th>13586</th>\n",
       "      <td>zenreach/py-era</td>\n",
       "    </tr>\n",
       "    <tr>\n",
       "      <th>13587</th>\n",
       "      <td>TakesxiSximada/custom_settings</td>\n",
       "    </tr>\n",
       "    <tr>\n",
       "      <th>13588</th>\n",
       "      <td>openpermissions/bass</td>\n",
       "    </tr>\n",
       "    <tr>\n",
       "      <th>13589</th>\n",
       "      <td>xnuinside/clifier</td>\n",
       "    </tr>\n",
       "  </tbody>\n",
       "</table>\n",
       "<p>13590 rows × 1 columns</p>\n",
       "</div>"
      ],
      "text/plain": [
       "                                 repo\n",
       "0                     soimort/you-get\n",
       "1                      apache/airflow\n",
       "2                      pytorch/vision\n",
       "3                      asciimoo/searx\n",
       "4              tensorflow/probability\n",
       "...                               ...\n",
       "13585         praekelt/python-ambient\n",
       "13586                 zenreach/py-era\n",
       "13587  TakesxiSximada/custom_settings\n",
       "13588            openpermissions/bass\n",
       "13589               xnuinside/clifier\n",
       "\n",
       "[13590 rows x 1 columns]"
      ]
     },
     "execution_count": 20,
     "metadata": {},
     "output_type": "execute_result"
    }
   ],
   "source": [
    "print(pydf.shape)\n",
    "pydf.head(13590)"
   ]
  },
  {
   "cell_type": "code",
   "execution_count": 17,
   "id": "b07e592d",
   "metadata": {},
   "outputs": [
    {
     "name": "stdout",
     "output_type": "stream",
     "text": [
      "(13590, 1)\n"
     ]
    }
   ],
   "source": [
    "pydf.to_pickle(\"repos.pkl\")"
   ]
  },
  {
   "cell_type": "markdown",
   "id": "1d0559c4",
   "metadata": {},
   "source": [
    "## 2. Collect diff and commits"
   ]
  },
  {
   "cell_type": "code",
   "execution_count": 4,
   "id": "8ee24339",
   "metadata": {},
   "outputs": [
    {
     "name": "stdout",
     "output_type": "stream",
     "text": [
      "mkdir: cannot create directory ‘repos’: File exists\n",
      "Requirement already satisfied: pydriller in ./.venv/lib/python3.9/site-packages (2.0)\n",
      "Requirement already satisfied: pytz in ./.venv/lib/python3.9/site-packages (from pydriller) (2021.3)\n",
      "Requirement already satisfied: gitpython in ./.venv/lib/python3.9/site-packages (from pydriller) (3.1.24)\n",
      "Requirement already satisfied: lizard in ./.venv/lib/python3.9/site-packages (from pydriller) (1.17.9)\n",
      "Requirement already satisfied: gitdb<5,>=4.0.1 in ./.venv/lib/python3.9/site-packages (from gitpython->pydriller) (4.0.9)\n",
      "Requirement already satisfied: typing-extensions>=3.7.4.3 in ./.venv/lib/python3.9/site-packages (from gitpython->pydriller) (4.0.0)\n",
      "Requirement already satisfied: smmap<6,>=3.0.1 in ./.venv/lib/python3.9/site-packages (from gitdb<5,>=4.0.1->gitpython->pydriller) (5.0.0)\n",
      "Requirement already satisfied: pandas in ./.venv/lib/python3.9/site-packages (1.3.4)\n",
      "Requirement already satisfied: numpy>=1.17.3 in ./.venv/lib/python3.9/site-packages (from pandas) (1.21.4)\n",
      "Requirement already satisfied: pytz>=2017.3 in ./.venv/lib/python3.9/site-packages (from pandas) (2021.3)\n",
      "Requirement already satisfied: python-dateutil>=2.7.3 in ./.venv/lib/python3.9/site-packages (from pandas) (2.8.2)\n",
      "Requirement already satisfied: six>=1.5 in ./.venv/lib/python3.9/site-packages (from python-dateutil>=2.7.3->pandas) (1.16.0)\n",
      "Requirement already satisfied: spacy in ./.venv/lib/python3.9/site-packages (3.2.0)\n",
      "Requirement already satisfied: cymem<2.1.0,>=2.0.2 in ./.venv/lib/python3.9/site-packages (from spacy) (2.0.6)\n",
      "Requirement already satisfied: numpy>=1.15.0 in ./.venv/lib/python3.9/site-packages (from spacy) (1.21.4)\n",
      "Requirement already satisfied: spacy-legacy<3.1.0,>=3.0.8 in ./.venv/lib/python3.9/site-packages (from spacy) (3.0.8)\n",
      "Requirement already satisfied: pathy>=0.3.5 in ./.venv/lib/python3.9/site-packages (from spacy) (0.6.1)\n",
      "Requirement already satisfied: blis<0.8.0,>=0.4.0 in ./.venv/lib/python3.9/site-packages (from spacy) (0.7.5)\n",
      "Requirement already satisfied: wasabi<1.1.0,>=0.8.1 in ./.venv/lib/python3.9/site-packages (from spacy) (0.8.2)\n",
      "Requirement already satisfied: murmurhash<1.1.0,>=0.28.0 in ./.venv/lib/python3.9/site-packages (from spacy) (1.0.6)\n",
      "Requirement already satisfied: langcodes<4.0.0,>=3.2.0 in ./.venv/lib/python3.9/site-packages (from spacy) (3.3.0)\n",
      "Requirement already satisfied: pydantic!=1.8,!=1.8.1,<1.9.0,>=1.7.4 in ./.venv/lib/python3.9/site-packages (from spacy) (1.8.2)\n",
      "Requirement already satisfied: jinja2 in ./.venv/lib/python3.9/site-packages (from spacy) (3.0.3)\n",
      "Requirement already satisfied: spacy-loggers<2.0.0,>=1.0.0 in ./.venv/lib/python3.9/site-packages (from spacy) (1.0.1)\n",
      "Requirement already satisfied: thinc<8.1.0,>=8.0.12 in ./.venv/lib/python3.9/site-packages (from spacy) (8.0.13)\n",
      "Requirement already satisfied: packaging>=20.0 in ./.venv/lib/python3.9/site-packages (from spacy) (21.3)\n",
      "Requirement already satisfied: preshed<3.1.0,>=3.0.2 in ./.venv/lib/python3.9/site-packages (from spacy) (3.0.6)\n",
      "Requirement already satisfied: catalogue<2.1.0,>=2.0.6 in ./.venv/lib/python3.9/site-packages (from spacy) (2.0.6)\n",
      "Requirement already satisfied: typer<0.5.0,>=0.3.0 in ./.venv/lib/python3.9/site-packages (from spacy) (0.4.0)\n",
      "Requirement already satisfied: tqdm<5.0.0,>=4.38.0 in ./.venv/lib/python3.9/site-packages (from spacy) (4.62.3)\n",
      "Requirement already satisfied: setuptools in ./.venv/lib/python3.9/site-packages (from spacy) (58.3.0)\n",
      "Requirement already satisfied: requests<3.0.0,>=2.13.0 in ./.venv/lib/python3.9/site-packages (from spacy) (2.26.0)\n",
      "Requirement already satisfied: srsly<3.0.0,>=2.4.1 in ./.venv/lib/python3.9/site-packages (from spacy) (2.4.2)\n",
      "Requirement already satisfied: pyparsing!=3.0.5,>=2.0.2 in ./.venv/lib/python3.9/site-packages (from packaging>=20.0->spacy) (3.0.6)\n",
      "Requirement already satisfied: smart-open<6.0.0,>=5.0.0 in ./.venv/lib/python3.9/site-packages (from pathy>=0.3.5->spacy) (5.2.1)\n",
      "Requirement already satisfied: typing-extensions>=3.7.4.3 in ./.venv/lib/python3.9/site-packages (from pydantic!=1.8,!=1.8.1,<1.9.0,>=1.7.4->spacy) (4.0.0)\n",
      "Requirement already satisfied: urllib3<1.27,>=1.21.1 in ./.venv/lib/python3.9/site-packages (from requests<3.0.0,>=2.13.0->spacy) (1.26.7)\n",
      "Requirement already satisfied: charset-normalizer~=2.0.0 in ./.venv/lib/python3.9/site-packages (from requests<3.0.0,>=2.13.0->spacy) (2.0.8)\n",
      "Requirement already satisfied: certifi>=2017.4.17 in ./.venv/lib/python3.9/site-packages (from requests<3.0.0,>=2.13.0->spacy) (2021.10.8)\n",
      "Requirement already satisfied: idna<4,>=2.5 in ./.venv/lib/python3.9/site-packages (from requests<3.0.0,>=2.13.0->spacy) (3.3)\n",
      "Requirement already satisfied: click<9.0.0,>=7.1.1 in ./.venv/lib/python3.9/site-packages (from typer<0.5.0,>=0.3.0->spacy) (8.0.3)\n",
      "Requirement already satisfied: MarkupSafe>=2.0 in ./.venv/lib/python3.9/site-packages (from jinja2->spacy) (2.0.1)\n"
     ]
    },
    {
     "ename": "NameError",
     "evalue": "name 'spacy' is not defined",
     "output_type": "error",
     "traceback": [
      "\u001b[0;31m---------------------------------------------------------------------------\u001b[0m",
      "\u001b[0;31mNameError\u001b[0m                                 Traceback (most recent call last)",
      "\u001b[0;32m/tmp/ipykernel_4558/1521182470.py\u001b[0m in \u001b[0;36m<module>\u001b[0;34m\u001b[0m\n\u001b[1;32m      3\u001b[0m \u001b[0mget_ipython\u001b[0m\u001b[0;34m(\u001b[0m\u001b[0;34m)\u001b[0m\u001b[0;34m.\u001b[0m\u001b[0msystem\u001b[0m\u001b[0;34m(\u001b[0m\u001b[0;34m'pip install pandas'\u001b[0m\u001b[0;34m)\u001b[0m\u001b[0;34m\u001b[0m\u001b[0;34m\u001b[0m\u001b[0m\n\u001b[1;32m      4\u001b[0m \u001b[0mget_ipython\u001b[0m\u001b[0;34m(\u001b[0m\u001b[0;34m)\u001b[0m\u001b[0;34m.\u001b[0m\u001b[0msystem\u001b[0m\u001b[0;34m(\u001b[0m\u001b[0;34m'pip install spacy'\u001b[0m\u001b[0;34m)\u001b[0m\u001b[0;34m\u001b[0m\u001b[0;34m\u001b[0m\u001b[0m\n\u001b[0;32m----> 5\u001b[0;31m \u001b[0mspacy\u001b[0m\u001b[0;34m.\u001b[0m\u001b[0mcli\u001b[0m\u001b[0;34m.\u001b[0m\u001b[0mdownload\u001b[0m\u001b[0;34m(\u001b[0m\u001b[0;34m\"en_core_web_sm\"\u001b[0m\u001b[0;34m)\u001b[0m\u001b[0;34m\u001b[0m\u001b[0;34m\u001b[0m\u001b[0m\n\u001b[0m",
      "\u001b[0;31mNameError\u001b[0m: name 'spacy' is not defined"
     ]
    }
   ],
   "source": [
    "!mkdir repos\n",
    "!pip install pydriller\n",
    "!pip install pandas\n",
    "!pip install spacy"
   ]
  },
  {
   "cell_type": "code",
   "execution_count": 51,
   "id": "72e76292",
   "metadata": {},
   "outputs": [],
   "source": [
    "from pydriller import *\n",
    "import pandas as pd\n",
    "import nltk\n",
    "import spacy\n",
    "import re\n",
    "from functools import reduce\n",
    "# spacy.cli.download(\"en_core_web_sm\")"
   ]
  },
  {
   "cell_type": "code",
   "execution_count": 19,
   "id": "845d5eb7",
   "metadata": {},
   "outputs": [
    {
     "name": "stdout",
     "output_type": "stream",
     "text": [
      "(13590, 1)\n"
     ]
    }
   ],
   "source": [
    "repodf = pd.read_pickle(\"repos.pkl\")\n",
    "print(repodf.shape)\n",
    "spacy_tokenizer = spacy.load(\"en_core_web_sm\")\n",
    "diff_tokenizer = nltk.tokenize.WordPunctTokenizer()"
   ]
  },
  {
   "cell_type": "code",
   "execution_count": 86,
   "id": "449680fc",
   "metadata": {},
   "outputs": [],
   "source": [
    "def basic_filter(message):\n",
    "    return message.split(\"\\n\", 1)[0].strip()\n",
    "\n",
    "# Remove [label] in front of commit if exists\n",
    "def label_filter(message):\n",
    "    if (message.startswith('[')):\n",
    "        end_bracket_index = message.find(']')\n",
    "        if (end_bracket_index == -1):\n",
    "            return None\n",
    "        return message[:end_bracket_index+1]\n",
    "    return message\n",
    "\n",
    "def camel_case_split(str):\n",
    "    return re.findall(r'[A-Z](?:[a-z]+|[A-Z]*(?=[A-Z]|$))', str)\n",
    "\n",
    "\n",
    "def case_splitter(token):\n",
    "    return list(map(lambda x: x.lower(), camel_case_split(token[0].upper() + token[1:])))\n",
    "    \n",
    "\n",
    "def parse_repo_commits(repo_name, commit_limit=50):\n",
    "    data = []\n",
    "    commit_count = 0\n",
    "    for commit in Repository(\n",
    "        f\"https://github.com/{repo_name}\",\n",
    "        only_modifications_with_file_types=[\".py\"],\n",
    "        only_no_merge=True,\n",
    "        order='reverse'\n",
    "    ).traverse_commits():\n",
    "        if (commit_count >= commit_limit): break\n",
    "        line = basic_filter(commit.msg)\n",
    "        line = label_filter(line)\n",
    "        \n",
    "        if (line is None):\n",
    "            print(f\"[DEBUG] Label filter return None for repo {repo} and hash {commit.hash}\")\n",
    "        \n",
    "        line = line.replace('_', ' ')\n",
    "        \n",
    "        # Only alphabet and blank characters\n",
    "        if (not line.isascii() or not all([c.isalpha() or c.isspace() for c in line])):\n",
    "            continue\n",
    "        \n",
    "        '''\n",
    "        if (not line.isascii()):                     # Ignore non-English\n",
    "            continue\n",
    "        \n",
    "        if ('@' in line and not 'decorat' in line):  # Ignore Github mentions\n",
    "            continue\n",
    "        \n",
    "        if ('#' in line):                            # Ignore Github issue\n",
    "            continue\n",
    "        '''\n",
    "        \n",
    "        tokens = spacy_tokenizer(line)\n",
    "        \n",
    "        # VERB filter\n",
    "        if (tokens[0].pos_ != 'VERB'):\n",
    "            continue\n",
    "        \n",
    "        tokens = reduce(lambda a,b: a+b, map(case_splitter, [token.text for token in tokens]), [])\n",
    "        \n",
    "        if (len(tokens) < 3 or len(tokens) > 30):\n",
    "            continue\n",
    "        \n",
    "        # Check if changed files are python\n",
    "        file_failed = False\n",
    "        \n",
    "        for mf in commit.modified_files:\n",
    "            if (not mf.filename.endswith(\".py\")):\n",
    "                file_failed = True\n",
    "                break\n",
    "        \n",
    "        if (file_failed):\n",
    "            continue\n",
    "        \n",
    "        def diff_processing(mf):\n",
    "            diff = '\\n'.join(map(lambda x: x[1], filter(lambda y: y[0] % 2 == 0, enumerate(mf.diff.split(\"@@\")))))\n",
    "            diff = diff.replace('\\n+', '\\n<add>').replace('\\n-', '\\n<del>')\n",
    "            #tokens = nltk.tokenize.wordpunct_tokenize(diff)\n",
    "            #print(diff)\n",
    "            #print(tokens)\n",
    "            return diff\n",
    "        \n",
    "        print(tokens)\n",
    "        diff = ''.join(map(diff_processing, commit.modified_files))\n",
    "        \n",
    "        data.append([repo_name, commit.hash, ' '.join(tokens), diff])\n",
    "        commit_count += 1\n",
    "    \n",
    "    return pd.DataFrame(data, columns=[\"repo\", \"hash\", \"commit_messsage\", \"diff\"])"
   ]
  },
  {
   "cell_type": "code",
   "execution_count": 87,
   "id": "b2854419",
   "metadata": {},
   "outputs": [
    {
     "name": "stdout",
     "output_type": "stream",
     "text": [
      "['skip', 'private', 'video']\n",
      "['add', 'hdr', 'support', 'for', 'bilibili']\n",
      "['add', 'fake', 'header']\n",
      "['update', 'regex', 'to', 'match', 'vid', 'for', 'xinpianchang']\n",
      "['fix', 'bilibili', 'space', 'videos']\n",
      "['add', 'format', 'selection', 'for', 'ac', 'fun']\n",
      "['fixed', 'tiktok', 'extraction']\n",
      "['fix', 'iqiyi', 'playlist', 'extrator']\n",
      "['fix', 'acfun', 'download', 'fail']\n",
      "['fix', 'resuming', 'when', 'downloading', 'in', 'chunked', 'mode']\n",
      "['fix', 'wrong', 'range', 'usage']\n",
      "['fix', 'bilibili', 'favlist', 'download']\n",
      "['add', 'support', 'for', 'bvid', 'in', 'playlist', 'mode', 'of', 'bilibili']\n",
      "['add', 'support', 'for', 'bvid', 'of', 'bilibili']\n",
      "['added', 'py', 'socks', 'extra', 'requirement']\n",
      "['use', 'urllib', 'instead', 'of', 'requests']\n",
      "['fix', 'issue', 'on', 'itag']\n",
      "['fix', 'coub', 'with', 'quotes']\n",
      "['get', 'all', 'streams', 'we', 'can', 'download']\n",
      "['modify', 'encoding', 'with', 'open', 'cookies', 'file']\n",
      "['fix', 'wrong', 'video', 'title', 'for', 'ixigua']\n",
      "['pick', 'best', 'video', 'quality', 'for', 'ixigua']\n",
      "['replace', 'broken', 'api', 'to', 'get', 'correct', 'video', 'title']\n",
      "['fix', 'acfun', 'bangumi', 'title']\n",
      "['fix', 'toutiao', 'errors']\n",
      "['fix', 'coub', 'ffmpeg']\n",
      "['use', 'copy', 'when', 'merging', 'audio', 'and', 'video']\n",
      "['check', 'if', 'the', 'player', 'exist', 'or', 'not']\n",
      "['fix', 'ixigua', 'downloading', 'failure']\n",
      "['fix', 'bilibili', 'bangumi', 'page']\n",
      "['support', 'bilibili', 'audio']\n",
      "['fix', 'acfun', 'flv', 'support']\n",
      "['fix', 'acfun', 'bangumi', 'page']\n",
      "['fix', 'bilibili', 'title', 'regex']\n",
      "['update', 'miapai', 'api']\n",
      "['remove', 'retry', 'for', 'testing', 'bilibili']\n",
      "['reduce', 'logging', 'message']\n",
      "['fix', 'cid', 'match']\n",
      "['fix', 'bilibili', 'download', 'fail']\n",
      "['added', 'an', 'auto', 'rename', 'option', 'and', 'fixed', 'the', 'force', 'option']\n",
      "['fix', 'bilibili', 'title', 'regex']\n",
      "['update', 'the', 'test']\n",
      "['fix', 'urlopen', 'with', 'retry', 'may', 'return', 'none']\n",
      "['modify', 'bilibili', 'title', 'fetch']\n",
      "['fix', 'wrong', 'local', 'name']\n",
      "['update', 'help', 'message']\n",
      "['comment', 'the', 'wip', 'code', 'to', 'silent', 'lint']\n",
      "['use', 'argparse', 'instead', 'of', 'getopt']\n",
      "['add', 'support', 'for', 'send', 'the', 'password', 'from', 'cli']\n",
      "['fix', 'get', 'douyu', 'real', 'stream', 'address']\n",
      "13.26169228553772\n"
     ]
    },
    {
     "data": {
      "text/html": [
       "<div>\n",
       "<style scoped>\n",
       "    .dataframe tbody tr th:only-of-type {\n",
       "        vertical-align: middle;\n",
       "    }\n",
       "\n",
       "    .dataframe tbody tr th {\n",
       "        vertical-align: top;\n",
       "    }\n",
       "\n",
       "    .dataframe thead th {\n",
       "        text-align: right;\n",
       "    }\n",
       "</style>\n",
       "<table border=\"1\" class=\"dataframe\">\n",
       "  <thead>\n",
       "    <tr style=\"text-align: right;\">\n",
       "      <th></th>\n",
       "      <th>repo</th>\n",
       "      <th>hash</th>\n",
       "      <th>commit_messsage</th>\n",
       "      <th>diff</th>\n",
       "    </tr>\n",
       "  </thead>\n",
       "  <tbody>\n",
       "    <tr>\n",
       "      <th>0</th>\n",
       "      <td>soimort/you-get</td>\n",
       "      <td>144886840212d5d0ee059858e6493dd265927376</td>\n",
       "      <td>skip private video</td>\n",
       "      <td>\\n def iwara_download(url, output_dir='.', mer...</td>\n",
       "    </tr>\n",
       "    <tr>\n",
       "      <th>1</th>\n",
       "      <td>soimort/you-get</td>\n",
       "      <td>439354e730d8b864de9401536c93220467ccb355</td>\n",
       "      <td>add hdr support for bilibili</td>\n",
       "      <td>\\n class Bilibili(VideoExtractor):\\n \\n     # ...</td>\n",
       "    </tr>\n",
       "    <tr>\n",
       "      <th>2</th>\n",
       "      <td>soimort/you-get</td>\n",
       "      <td>4a9d2c1e13b8918deba39af515d315b60e545422</td>\n",
       "      <td>add fake header</td>\n",
       "      <td>\\n def netease_song_download(song, output_dir=...</td>\n",
       "    </tr>\n",
       "  </tbody>\n",
       "</table>\n",
       "</div>"
      ],
      "text/plain": [
       "              repo                                      hash  \\\n",
       "0  soimort/you-get  144886840212d5d0ee059858e6493dd265927376   \n",
       "1  soimort/you-get  439354e730d8b864de9401536c93220467ccb355   \n",
       "2  soimort/you-get  4a9d2c1e13b8918deba39af515d315b60e545422   \n",
       "\n",
       "                commit_messsage  \\\n",
       "0            skip private video   \n",
       "1  add hdr support for bilibili   \n",
       "2               add fake header   \n",
       "\n",
       "                                                diff  \n",
       "0  \\n def iwara_download(url, output_dir='.', mer...  \n",
       "1  \\n class Bilibili(VideoExtractor):\\n \\n     # ...  \n",
       "2  \\n def netease_song_download(song, output_dir=...  "
      ]
     },
     "execution_count": 87,
     "metadata": {},
     "output_type": "execute_result"
    }
   ],
   "source": [
    "import time\n",
    "start = time.time()\n",
    "df = parse_repo_commits(\"soimort/you-get\")\n",
    "end = time.time()\n",
    "print(end - start)\n",
    "df.head(3)"
   ]
  },
  {
   "cell_type": "code",
   "execution_count": 4,
   "id": "0f65faf9",
   "metadata": {},
   "outputs": [
    {
     "name": "stdout",
     "output_type": "stream",
     "text": [
      "soimort/you-get Done\n",
      "pytorch/vision Done\n",
      "apache/airflow Done\n"
     ]
    }
   ],
   "source": [
    "import multiprocessing\n",
    "\n",
    "data = []\n",
    "\n",
    "def f(repo):\n",
    "    df = parse_repo_commits(repo)\n",
    "    df.to_pickle(f\"./repos/{repo.replace('/', '+')}.pkl\")\n",
    "    print(repo, \"Done\")\n",
    "    return df\n",
    "\n",
    "pool = multiprocessing.Pool()\n",
    "outputs = pool.map(f, repodf['repo'][:3])\n",
    "pd.concat(outputs).to_pickle(\"data.pkl\")"
   ]
  },
  {
   "cell_type": "code",
   "execution_count": 6,
   "id": "04bfe004",
   "metadata": {},
   "outputs": [
    {
     "data": {
      "text/html": [
       "<div>\n",
       "<style scoped>\n",
       "    .dataframe tbody tr th:only-of-type {\n",
       "        vertical-align: middle;\n",
       "    }\n",
       "\n",
       "    .dataframe tbody tr th {\n",
       "        vertical-align: top;\n",
       "    }\n",
       "\n",
       "    .dataframe thead th {\n",
       "        text-align: right;\n",
       "    }\n",
       "</style>\n",
       "<table border=\"1\" class=\"dataframe\">\n",
       "  <thead>\n",
       "    <tr style=\"text-align: right;\">\n",
       "      <th></th>\n",
       "      <th>repo</th>\n",
       "      <th>hash</th>\n",
       "      <th>commit_messsage</th>\n",
       "      <th>diff</th>\n",
       "    </tr>\n",
       "  </thead>\n",
       "  <tbody>\n",
       "    <tr>\n",
       "      <th>0</th>\n",
       "      <td>soimort/you-get</td>\n",
       "      <td>439354e730d8b864de9401536c93220467ccb355</td>\n",
       "      <td>add hdr support for bilibili</td>\n",
       "      <td>@@ -12,6 +12,8 @@ class Bilibili(VideoExtracto...</td>\n",
       "    </tr>\n",
       "    <tr>\n",
       "      <th>1</th>\n",
       "      <td>soimort/you-get</td>\n",
       "      <td>4a9d2c1e13b8918deba39af515d315b60e545422</td>\n",
       "      <td>add fake header</td>\n",
       "      <td>@@ -123,10 +123,10 @@ def netease_song_downloa...</td>\n",
       "    </tr>\n",
       "    <tr>\n",
       "      <th>2</th>\n",
       "      <td>soimort/you-get</td>\n",
       "      <td>1b1f1dd1181bb15dabd04f928842891ac635f49c</td>\n",
       "      <td>update regex to match vid for xinpianchang</td>\n",
       "      <td>@@ -20,7 +20,7 @@ class Xinpianchang(VideoExtr...</td>\n",
       "    </tr>\n",
       "  </tbody>\n",
       "</table>\n",
       "</div>"
      ],
      "text/plain": [
       "              repo                                      hash  \\\n",
       "0  soimort/you-get  439354e730d8b864de9401536c93220467ccb355   \n",
       "1  soimort/you-get  4a9d2c1e13b8918deba39af515d315b60e545422   \n",
       "2  soimort/you-get  1b1f1dd1181bb15dabd04f928842891ac635f49c   \n",
       "\n",
       "                              commit_messsage  \\\n",
       "0                add hdr support for bilibili   \n",
       "1                             add fake header   \n",
       "2  update regex to match vid for xinpianchang   \n",
       "\n",
       "                                                diff  \n",
       "0  @@ -12,6 +12,8 @@ class Bilibili(VideoExtracto...  \n",
       "1  @@ -123,10 +123,10 @@ def netease_song_downloa...  \n",
       "2  @@ -20,7 +20,7 @@ class Xinpianchang(VideoExtr...  "
      ]
     },
     "execution_count": 6,
     "metadata": {},
     "output_type": "execute_result"
    }
   ],
   "source": [
    "df = pd.read_pickle(\"data.pkl\")\n",
    "df.head(3)"
   ]
  },
  {
   "cell_type": "code",
   "execution_count": null,
   "id": "fbdfa1a5",
   "metadata": {},
   "outputs": [],
   "source": []
  }
 ],
 "metadata": {
  "kernelspec": {
   "display_name": "dataset_gen",
   "language": "python",
   "name": "dataset_gen"
  },
  "language_info": {
   "codemirror_mode": {
    "name": "ipython",
    "version": 3
   },
   "file_extension": ".py",
   "mimetype": "text/x-python",
   "name": "python",
   "nbconvert_exporter": "python",
   "pygments_lexer": "ipython3",
   "version": "3.9.6"
  }
 },
 "nbformat": 4,
 "nbformat_minor": 5
}
