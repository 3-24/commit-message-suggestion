{
  "nbformat": 4,
  "nbformat_minor": 5,
  "metadata": {
    "kernelspec": {
      "name": "python3",
      "display_name": "Python 3"
    },
    "colab": {
      "name": "Dataset Generation.ipynb",
      "provenance": []
    },
    "language_info": {
      "name": "python"
    }
  },
  "cells": [
    {
      "cell_type": "code",
      "metadata": {
        "colab": {
          "base_uri": "https://localhost:8080/"
        },
        "id": "TySV2A3KyKzL",
        "outputId": "c8925147-2612-459a-d2e0-706610fb3a56"
      },
      "source": [
        "# mount drive https://datascience.stackexchange.com/questions/29480/uploading-images-folder-from-my-system-into-google-colab\n",
        "# login with your google account and type authorization code to mount on your googlbie drive.\n",
        "from google.colab import drive\n",
        "drive.mount('/gdrive')\n",
        "root = '/gdrive/My Drive/CS492I/project'"
      ],
      "id": "TySV2A3KyKzL",
      "execution_count": 1,
      "outputs": [
        {
          "output_type": "stream",
          "name": "stdout",
          "text": [
            "Mounted at /gdrive\n"
          ]
        }
      ]
    },
    {
      "cell_type": "markdown",
      "metadata": {
        "id": "8a5ade31"
      },
      "source": [
        "## 1. Collect CodeSearchNet Repositories"
      ],
      "id": "8a5ade31"
    },
    {
      "cell_type": "code",
      "metadata": {
        "id": "c06bb109"
      },
      "source": [
        "import json\n",
        "\n",
        "import pandas as pd\n",
        "from pathlib import Path\n",
        "pd.set_option('max_colwidth',300)\n",
        "from pprint import pprint"
      ],
      "id": "c06bb109",
      "execution_count": null,
      "outputs": []
    },
    {
      "cell_type": "code",
      "metadata": {
        "colab": {
          "base_uri": "https://localhost:8080/"
        },
        "id": "4c50cf9b",
        "outputId": "62b49b1b-cc12-44cd-beae-68503a6886e1"
      },
      "source": [
        "!wget https://s3.amazonaws.com/code-search-net/CodeSearchNet/v2/python.zip\n",
        "!mkdir CodeSearchNet\n",
        "!unzip python.zip -d CodeSearchNet"
      ],
      "id": "4c50cf9b",
      "execution_count": null,
      "outputs": [
        {
          "output_type": "stream",
          "name": "stdout",
          "text": [
            "--2021-12-03 07:32:59--  https://s3.amazonaws.com/code-search-net/CodeSearchNet/v2/python.zip\n",
            "Resolving s3.amazonaws.com (s3.amazonaws.com)... 52.217.69.238\n",
            "Connecting to s3.amazonaws.com (s3.amazonaws.com)|52.217.69.238|:443... connected.\n",
            "HTTP request sent, awaiting response... 200 OK\n",
            "Length: 940909997 (897M) [application/zip]\n",
            "Saving to: ‘python.zip’\n",
            "\n",
            "python.zip          100%[===================>] 897.32M  65.4MB/s    in 13s     \n",
            "\n",
            "2021-12-03 07:33:12 (68.1 MB/s) - ‘python.zip’ saved [940909997/940909997]\n",
            "\n",
            "Archive:  python.zip\n",
            "   creating: CodeSearchNet/python/\n",
            "   creating: CodeSearchNet/python/final/\n",
            "   creating: CodeSearchNet/python/final/jsonl/\n",
            "   creating: CodeSearchNet/python/final/jsonl/train/\n",
            "  inflating: CodeSearchNet/python/final/jsonl/train/python_train_9.jsonl.gz  \n",
            "  inflating: CodeSearchNet/python/final/jsonl/train/python_train_12.jsonl.gz  \n",
            "  inflating: CodeSearchNet/python/final/jsonl/train/python_train_10.jsonl.gz  \n",
            "  inflating: CodeSearchNet/python/final/jsonl/train/python_train_0.jsonl.gz  \n",
            "  inflating: CodeSearchNet/python/final/jsonl/train/python_train_6.jsonl.gz  \n",
            "  inflating: CodeSearchNet/python/final/jsonl/train/python_train_2.jsonl.gz  \n",
            "  inflating: CodeSearchNet/python/final/jsonl/train/python_train_4.jsonl.gz  \n",
            "  inflating: CodeSearchNet/python/final/jsonl/train/python_train_8.jsonl.gz  \n",
            "  inflating: CodeSearchNet/python/final/jsonl/train/python_train_11.jsonl.gz  \n",
            "  inflating: CodeSearchNet/python/final/jsonl/train/python_train_5.jsonl.gz  \n",
            "  inflating: CodeSearchNet/python/final/jsonl/train/python_train_13.jsonl.gz  \n",
            "  inflating: CodeSearchNet/python/final/jsonl/train/python_train_3.jsonl.gz  \n",
            "  inflating: CodeSearchNet/python/final/jsonl/train/python_train_1.jsonl.gz  \n",
            "  inflating: CodeSearchNet/python/final/jsonl/train/python_train_7.jsonl.gz  \n",
            "   creating: CodeSearchNet/python/final/jsonl/test/\n",
            "  inflating: CodeSearchNet/python/final/jsonl/test/python_test_0.jsonl.gz  \n",
            "   creating: CodeSearchNet/python/final/jsonl/valid/\n",
            "  inflating: CodeSearchNet/python/final/jsonl/valid/python_valid_0.jsonl.gz  \n",
            "  inflating: CodeSearchNet/python_dedupe_definitions_v2.pkl  \n",
            "  inflating: CodeSearchNet/python_licenses.pkl  \n"
          ]
        }
      ]
    },
    {
      "cell_type": "code",
      "metadata": {
        "id": "2847085c",
        "colab": {
          "base_uri": "https://localhost:8080/"
        },
        "outputId": "b98d532c-a88f-43db-c790-a0986fdddffe"
      },
      "source": [
        "python_files = sorted(Path('CodeSearchNet/python').glob('**/*.gz'))\n",
        "print(python_files)"
      ],
      "id": "2847085c",
      "execution_count": null,
      "outputs": [
        {
          "output_type": "stream",
          "name": "stdout",
          "text": [
            "[PosixPath('CodeSearchNet/python/final/jsonl/test/python_test_0.jsonl.gz'), PosixPath('CodeSearchNet/python/final/jsonl/train/python_train_0.jsonl.gz'), PosixPath('CodeSearchNet/python/final/jsonl/train/python_train_1.jsonl.gz'), PosixPath('CodeSearchNet/python/final/jsonl/train/python_train_10.jsonl.gz'), PosixPath('CodeSearchNet/python/final/jsonl/train/python_train_11.jsonl.gz'), PosixPath('CodeSearchNet/python/final/jsonl/train/python_train_12.jsonl.gz'), PosixPath('CodeSearchNet/python/final/jsonl/train/python_train_13.jsonl.gz'), PosixPath('CodeSearchNet/python/final/jsonl/train/python_train_2.jsonl.gz'), PosixPath('CodeSearchNet/python/final/jsonl/train/python_train_3.jsonl.gz'), PosixPath('CodeSearchNet/python/final/jsonl/train/python_train_4.jsonl.gz'), PosixPath('CodeSearchNet/python/final/jsonl/train/python_train_5.jsonl.gz'), PosixPath('CodeSearchNet/python/final/jsonl/train/python_train_6.jsonl.gz'), PosixPath('CodeSearchNet/python/final/jsonl/train/python_train_7.jsonl.gz'), PosixPath('CodeSearchNet/python/final/jsonl/train/python_train_8.jsonl.gz'), PosixPath('CodeSearchNet/python/final/jsonl/train/python_train_9.jsonl.gz'), PosixPath('CodeSearchNet/python/final/jsonl/valid/python_valid_0.jsonl.gz')]\n"
          ]
        }
      ]
    },
    {
      "cell_type": "code",
      "metadata": {
        "id": "8aa7dbe1"
      },
      "source": [
        "columns_long_list = ['repo', 'path', 'url', 'code', \n",
        "                     'code_tokens', 'docstring', 'docstring_tokens', \n",
        "                     'language', 'partition']\n",
        "\n",
        "def jsonl_list_to_dataframe(file_list, columns=columns_long_list):\n",
        "    \"\"\"Load a list of jsonl.gz files into a pandas DataFrame.\"\"\"\n",
        "    return pd.concat([pd.read_json(f, \n",
        "                                   orient='records', \n",
        "                                   compression='gzip',\n",
        "                                   lines=True)[columns] \n",
        "                      for f in file_list], sort=False)"
      ],
      "id": "8aa7dbe1",
      "execution_count": null,
      "outputs": []
    },
    {
      "cell_type": "code",
      "metadata": {
        "id": "be6c1c77"
      },
      "source": [
        "pydf = jsonl_list_to_dataframe(python_files, columns=['repo'])\n",
        "pydf = pydf.drop_duplicates().reset_index(drop=True)\n",
        "pydf.to_pickle(f\"{root}/repos.pkl\")"
      ],
      "id": "be6c1c77",
      "execution_count": null,
      "outputs": []
    },
    {
      "cell_type": "markdown",
      "metadata": {
        "id": "1d0559c4"
      },
      "source": [
        "## 2. Collect diff and commits"
      ],
      "id": "1d0559c4"
    },
    {
      "cell_type": "code",
      "metadata": {
        "colab": {
          "base_uri": "https://localhost:8080/"
        },
        "id": "8ee24339",
        "outputId": "f81ca97a-b637-4ea1-f52d-e67c8bb79993"
      },
      "source": [
        "!pip install pydriller\n",
        "!pip install pandas"
      ],
      "id": "8ee24339",
      "execution_count": 6,
      "outputs": [
        {
          "output_type": "stream",
          "name": "stdout",
          "text": [
            "Collecting pydriller\n",
            "  Downloading PyDriller-2.0-py3-none-any.whl (65 kB)\n",
            "\u001b[K     |████████████████████████████████| 65 kB 3.0 MB/s \n",
            "\u001b[?25hCollecting lizard\n",
            "  Downloading lizard-1.17.9-py2.py3-none-any.whl (64 kB)\n",
            "\u001b[K     |████████████████████████████████| 64 kB 2.7 MB/s \n",
            "\u001b[?25hRequirement already satisfied: pytz in /usr/local/lib/python3.7/dist-packages (from pydriller) (2018.9)\n",
            "Collecting gitpython\n",
            "  Downloading GitPython-3.1.24-py3-none-any.whl (180 kB)\n",
            "\u001b[K     |████████████████████████████████| 180 kB 65.4 MB/s \n",
            "\u001b[?25hCollecting gitdb<5,>=4.0.1\n",
            "  Downloading gitdb-4.0.9-py3-none-any.whl (63 kB)\n",
            "\u001b[K     |████████████████████████████████| 63 kB 1.3 MB/s \n",
            "\u001b[?25hRequirement already satisfied: typing-extensions>=3.7.4.3 in /usr/local/lib/python3.7/dist-packages (from gitpython->pydriller) (3.10.0.2)\n",
            "Collecting smmap<6,>=3.0.1\n",
            "  Downloading smmap-5.0.0-py3-none-any.whl (24 kB)\n",
            "Installing collected packages: smmap, gitdb, lizard, gitpython, pydriller\n",
            "Successfully installed gitdb-4.0.9 gitpython-3.1.24 lizard-1.17.9 pydriller-2.0 smmap-5.0.0\n",
            "Requirement already satisfied: pandas in /usr/local/lib/python3.7/dist-packages (1.1.5)\n",
            "Requirement already satisfied: pytz>=2017.2 in /usr/local/lib/python3.7/dist-packages (from pandas) (2018.9)\n",
            "Requirement already satisfied: numpy>=1.15.4 in /usr/local/lib/python3.7/dist-packages (from pandas) (1.19.5)\n",
            "Requirement already satisfied: python-dateutil>=2.7.3 in /usr/local/lib/python3.7/dist-packages (from pandas) (2.8.2)\n",
            "Requirement already satisfied: six>=1.5 in /usr/local/lib/python3.7/dist-packages (from python-dateutil>=2.7.3->pandas) (1.15.0)\n"
          ]
        }
      ]
    },
    {
      "cell_type": "code",
      "metadata": {
        "id": "72e76292"
      },
      "source": [
        "from pydriller import *\n",
        "import pandas as pd\n",
        "from nltk.tokenize import regexp_tokenize\n",
        "import re\n",
        "from itertools import chain\n",
        "import json"
      ],
      "id": "72e76292",
      "execution_count": 7,
      "outputs": []
    },
    {
      "cell_type": "code",
      "metadata": {
        "colab": {
          "base_uri": "https://localhost:8080/"
        },
        "id": "845d5eb7",
        "outputId": "caa8a149-1a31-4bbd-ad38-032ebb4c2c2d"
      },
      "source": [
        "repodf = pd.read_pickle(f\"{root}/repos.pkl\")\n",
        "print(repodf.shape)\n",
        "print(repodf)"
      ],
      "id": "845d5eb7",
      "execution_count": 8,
      "outputs": [
        {
          "output_type": "stream",
          "name": "stdout",
          "text": [
            "(13590, 1)\n",
            "                                 repo\n",
            "0                     soimort/you-get\n",
            "1                      apache/airflow\n",
            "2                      pytorch/vision\n",
            "3                      asciimoo/searx\n",
            "4              tensorflow/probability\n",
            "...                               ...\n",
            "13585         praekelt/python-ambient\n",
            "13586                 zenreach/py-era\n",
            "13587  TakesxiSximada/custom_settings\n",
            "13588            openpermissions/bass\n",
            "13589               xnuinside/clifier\n",
            "\n",
            "[13590 rows x 1 columns]\n"
          ]
        }
      ]
    },
    {
      "cell_type": "code",
      "metadata": {
        "id": "449680fc"
      },
      "source": [
        "def basic_filter(message):\n",
        "    return message.split(\"\\n\", 1)[0].strip()\n",
        "\n",
        "# Remove [label] in front of commit if exists\n",
        "def label_filter(message):\n",
        "    if (message.startswith('[')):\n",
        "        end_bracket_index = message.find(']')\n",
        "        if (end_bracket_index == -1):\n",
        "            return None\n",
        "        return message[:end_bracket_index+1]\n",
        "    return message\n",
        "\n",
        "def camel_case_split(str):\n",
        "    return re.findall(r'[A-Z](?:[a-z]+|[A-Z]*(?=[A-Z]|$))', str)\n",
        "\n",
        "def case_splitter(token):\n",
        "    return list(map(lambda x: x.lower(), camel_case_split(token[0].upper() + token[1:]) if token[0].isalpha() else [token]))\n",
        "\n",
        "\n",
        "def split_by_quote(diff):\n",
        "    text_list = [(0,0)]\n",
        "    quote_state = 0 #[\"out\",\"single\",\"double\",\"Single\",\"Double\",\"quote\"]\n",
        "    i=0\n",
        "    while i<len(diff):\n",
        "      if diff[i] == \"\\\\\":i+=1\n",
        "      elif (diff[i] == \"\\n\" and quote_state == 5) or (diff[i] == '#' and quote_state == 0):\n",
        "        text_list.append((quote_state,i))\n",
        "        quote_state = abs(5-quote_state)\n",
        "      elif diff[i] == '\"':\n",
        "        if i+2<len(diff) and diff[i:i+3]=='\"\"\"' and (quote_state == 0 or quote_state ==4):\n",
        "          text_list.append((quote_state,i+max(quote_state-1,0)))\n",
        "          quote_state = abs(4-quote_state)\n",
        "          i+=2\n",
        "        elif quote_state == 0 or quote_state == 2:\n",
        "          text_list.append((quote_state,i+max(quote_state-1,0)))\n",
        "          quote_state = abs(2-quote_state)\n",
        "      elif diff[i] == \"'\":\n",
        "        if i+2<len(diff) and diff[i:i+3] == \"'''\" and (quote_state == 0 or quote_state == 3):\n",
        "          text_list.append((quote_state,i+quote_state))\n",
        "          quote_state = abs(3-quote_state)\n",
        "          i+=2\n",
        "        elif quote_state == 0 or quote_state == 1:\n",
        "          text_list.append((quote_state,i+quote_state))\n",
        "          quote_state = abs(1-quote_state)\n",
        "      i+=1\n",
        "    text_list.append((quote_state,i))\n",
        "    return [(text_list[i][0]==0,diff[text_list[i-1][1]:text_list[i][1]]) for i in range(1,len(text_list))]\n",
        "  \n",
        "\n",
        "token_regex = r\"\"\"(?x)\n",
        "<(?:add|del)>   #Filtered eariler\n",
        "|(?:[-+*/^&~|=%!<>@?$][\\s]*)+     #Sequence of symbols\n",
        "|[\\n]                    #Change row\n",
        "|[a-zA-Z]+               #General text\n",
        "|[0-9]+                  #Number\n",
        "\"\"\"\n",
        "string_regex = r\"\"\"(?x)\n",
        "<(?:add|del)>\n",
        "|[\\n]\n",
        "|[a-zA-Z]+\n",
        "\"\"\"\n",
        "def diff_tokenizer(diff_text):\n",
        "    diff = '\\n'.join(map(lambda x: x[1], filter(lambda y: y[0] % 2 == 0, enumerate(diff_text.split(\"@@\")))))\n",
        "    diff = diff.replace('\\n+', '\\n<add>').replace('\\n-', '\\n<del>')\n",
        "    diff = re.sub(r\"(?:\\n[ \\t\\r\\f\\v]*)+\",\"\\n\",diff) # Join continuous row change\n",
        "    quote_split = split_by_quote(diff)\n",
        "    token_initial = chain.from_iterable(map(lambda a: regexp_tokenize(a[1],(token_regex if a[0] else string_regex)), quote_split))\n",
        "    token_camel_case_split = chain.from_iterable(map(case_splitter, token_initial))\n",
        "    return token_camel_case_split\n",
        "\n",
        "\n",
        "def parse_repo_commits(repo_name, commit_limit=50):\n",
        "    data = []\n",
        "    commit_count = 0\n",
        "    commit_count_traversed = 0\n",
        "    for commit in Repository(\n",
        "        f\"https://github.com/{repo_name}\",\n",
        "        only_modifications_with_file_types=[\".py\"],\n",
        "        only_no_merge=True,\n",
        "        order='reverse'\n",
        "    ).traverse_commits():\n",
        "        commit_count_traversed += 1\n",
        "        if (commit_count >= commit_limit): break\n",
        "        line = basic_filter(commit.msg)\n",
        "        line = label_filter(line)\n",
        "        if (line is None):\n",
        "            continue\n",
        "        \n",
        "        if line.count(\"`\")%2 == 1:\n",
        "            continue\n",
        "        \n",
        "        backtick_regex = r\"`[^`]+`|[^`]+\"\n",
        "        line_divided_by_backtick = re.findall(backtick_regex,line)\n",
        "        tokens = chain.from_iterable(map(lambda text: regexp_tokenize(text,(token_regex if text[0] == '`' else string_regex)),line_divided_by_backtick))\n",
        "        \n",
        "        commit_tokens = list(chain.from_iterable(map(case_splitter, tokens)))\n",
        "\n",
        "        if (len(commit_tokens) < 3 or len(commit_tokens) > 30):\n",
        "            continue\n",
        "        if (\"version\" in commit_tokens):\n",
        "            continue\n",
        "\n",
        "        # Check if changed files are python\n",
        "        file_failed = False\n",
        "        count_diff_lines = 0\n",
        "\n",
        "        for mf in commit.modified_files:\n",
        "            if (not mf.filename.endswith(\".py\")):\n",
        "                file_failed = True\n",
        "                break\n",
        "            count_diff_lines += mf.added_lines + mf.deleted_lines\n",
        "        \n",
        "        if (file_failed):\n",
        "            continue\n",
        "        \n",
        "        if (count_diff_lines > 50):\n",
        "            continue\n",
        "        \n",
        "        # Create diff tokens\n",
        "        diff_tokens = []\n",
        "        for f in commit.modified_files:\n",
        "          diff_tokens.append (['<file>'])\n",
        "          diff_tokens.append(diff_tokenizer(f.diff))\n",
        "\n",
        "        diff_whole_tokens = list(chain.from_iterable(diff_tokens))\n",
        "\n",
        "        data.append([repo_name, commit.hash, json.dumps(commit_tokens), json.dumps(diff_whole_tokens)])\n",
        "        commit_count += 1\n",
        "      \n",
        "    \n",
        "    print(f\"[DEBUG] {repo_name}: {len(data)} / {commit_count_traversed}\")\n",
        "    return pd.DataFrame(data, columns=[\"repo\", \"hash\", \"commit_messsage\", \"diff\"])"
      ],
      "id": "449680fc",
      "execution_count": 12,
      "outputs": []
    },
    {
      "cell_type": "code",
      "metadata": {
        "colab": {
          "base_uri": "https://localhost:8080/",
          "height": 398
        },
        "id": "b2854419",
        "outputId": "dcd52d1c-730b-4ed0-e33b-1d60b7eef60f"
      },
      "source": [
        "import time\n",
        "start = time.time()\n",
        "#df = parse_repo_commits(\"soimort/you-get\")\n",
        "df = parse_repo_commits(\"tensorflow/probability\")\n",
        "end = time.time()\n",
        "print(end - start)\n",
        "df.head(10)"
      ],
      "id": "b2854419",
      "execution_count": 10,
      "outputs": [
        {
          "output_type": "stream",
          "name": "stdout",
          "text": [
            "[DEBUG] 119/50\n",
            "16.55552387237549\n"
          ]
        },
        {
          "output_type": "execute_result",
          "data": {
            "text/html": [
              "<div>\n",
              "<style scoped>\n",
              "    .dataframe tbody tr th:only-of-type {\n",
              "        vertical-align: middle;\n",
              "    }\n",
              "\n",
              "    .dataframe tbody tr th {\n",
              "        vertical-align: top;\n",
              "    }\n",
              "\n",
              "    .dataframe thead th {\n",
              "        text-align: right;\n",
              "    }\n",
              "</style>\n",
              "<table border=\"1\" class=\"dataframe\">\n",
              "  <thead>\n",
              "    <tr style=\"text-align: right;\">\n",
              "      <th></th>\n",
              "      <th>repo</th>\n",
              "      <th>hash</th>\n",
              "      <th>commit_messsage</th>\n",
              "      <th>diff</th>\n",
              "    </tr>\n",
              "  </thead>\n",
              "  <tbody>\n",
              "    <tr>\n",
              "      <th>0</th>\n",
              "      <td>tensorflow/probability</td>\n",
              "      <td>c2299ff88eaf1c3f29dc48ce5a80c3db8bc8625d</td>\n",
              "      <td>[\"ensure\", \"owens\", \"t\", \"special\", \"function\"...</td>\n",
              "      <td>[\"&lt;file&gt;\", \"\\n\", \"def\", \"owens\", \"t\", \"method\"...</td>\n",
              "    </tr>\n",
              "    <tr>\n",
              "      <th>1</th>\n",
              "      <td>tensorflow/probability</td>\n",
              "      <td>f5541be80d2e118a3875ec795285927f5580465a</td>\n",
              "      <td>[\"always\", \"return\", \"kalman\", \"filter\", \"resu...</td>\n",
              "      <td>[\"&lt;file&gt;\", \"\\n\", \"from\", \"tensorflow\", \"python...</td>\n",
              "    </tr>\n",
              "    <tr>\n",
              "      <th>2</th>\n",
              "      <td>tensorflow/probability</td>\n",
              "      <td>9990d6105450b43e2169968a397c0ce8d98598cb</td>\n",
              "      <td>[\"improves\", \"error\", \"message\", \"in\", \"dtype\"...</td>\n",
              "      <td>[\"&lt;file&gt;\", \"\\n\", \"def\", \"base\", \"equal\", \"a\", ...</td>\n",
              "    </tr>\n",
              "    <tr>\n",
              "      <th>3</th>\n",
              "      <td>tensorflow/probability</td>\n",
              "      <td>ae7117f37ac441bc7a888167ea23e5e620c5bcde</td>\n",
              "      <td>[\"hack\", \"convert\", \"to\", \"nested\", \"tensor\", ...</td>\n",
              "      <td>[\"&lt;file&gt;\", \"\\n\", \"class\", \"bijector\", \"caching...</td>\n",
              "    </tr>\n",
              "    <tr>\n",
              "      <th>4</th>\n",
              "      <td>tensorflow/probability</td>\n",
              "      <td>b305c9c66ae1b7f3f2446eeb9422fcff18eeb0e3</td>\n",
              "      <td>[\"restrain\", \"hypothesis\", \"from\", \"generating...</td>\n",
              "      <td>[\"&lt;file&gt;\", \"\\n\", \"def\", \"fix\", \"triangular\", \"...</td>\n",
              "    </tr>\n",
              "    <tr>\n",
              "      <th>5</th>\n",
              "      <td>tensorflow/probability</td>\n",
              "      <td>16c382e6ca2fd897c8023a4169eeab9b3575c134</td>\n",
              "      <td>[\"re\", \"narrow\", \"numerical\", \"tolerances\", \"p...</td>\n",
              "      <td>[\"&lt;file&gt;\", \"\\n\", \"autovectorization\", \"rtol\", ...</td>\n",
              "    </tr>\n",
              "    <tr>\n",
              "      <th>6</th>\n",
              "      <td>tensorflow/probability</td>\n",
              "      <td>8e03d0ce95154f0e4b495c69ed21e7b58641d705</td>\n",
              "      <td>[\"relax\", \"precision\", \"of\", \"truncated\", \"nor...</td>\n",
              "      <td>[\"&lt;file&gt;\", \"\\n\", \"event\", \"space\", \"bijector\",...</td>\n",
              "    </tr>\n",
              "    <tr>\n",
              "      <th>7</th>\n",
              "      <td>tensorflow/probability</td>\n",
              "      <td>40b18076b53d7c6e22e1fa5f95d805be0cfa0cc1</td>\n",
              "      <td>[\"enable\", \"test\", \"the\", \"use\", \"of\", \"pmax\",...</td>\n",
              "      <td>[\"&lt;file&gt;\", \"\\n\", \"def\", \"windowed\", \"adaptive\"...</td>\n",
              "    </tr>\n",
              "    <tr>\n",
              "      <th>8</th>\n",
              "      <td>tensorflow/probability</td>\n",
              "      <td>bb15d65fafb9311475878f518a328c8f9bdcf31e</td>\n",
              "      <td>[\"replace\", \"value\", \"in\", \"simple\", \"step\", \"...</td>\n",
              "      <td>[\"&lt;file&gt;\", \"\\n\", \"class\", \"simple\", \"step\", \"s...</td>\n",
              "    </tr>\n",
              "    <tr>\n",
              "      <th>9</th>\n",
              "      <td>tensorflow/probability</td>\n",
              "      <td>fe99538609c82abed2787d5cb3ef6ff1e23af673</td>\n",
              "      <td>[\"fix\", \"some\", \"documentation\", \"typos\"]</td>\n",
              "      <td>[\"&lt;file&gt;\", \"\\n\", \"class\", \"bijector\", \"cache\",...</td>\n",
              "    </tr>\n",
              "  </tbody>\n",
              "</table>\n",
              "</div>"
            ],
            "text/plain": [
              "                     repo  ...                                               diff\n",
              "0  tensorflow/probability  ...  [\"<file>\", \"\\n\", \"def\", \"owens\", \"t\", \"method\"...\n",
              "1  tensorflow/probability  ...  [\"<file>\", \"\\n\", \"from\", \"tensorflow\", \"python...\n",
              "2  tensorflow/probability  ...  [\"<file>\", \"\\n\", \"def\", \"base\", \"equal\", \"a\", ...\n",
              "3  tensorflow/probability  ...  [\"<file>\", \"\\n\", \"class\", \"bijector\", \"caching...\n",
              "4  tensorflow/probability  ...  [\"<file>\", \"\\n\", \"def\", \"fix\", \"triangular\", \"...\n",
              "5  tensorflow/probability  ...  [\"<file>\", \"\\n\", \"autovectorization\", \"rtol\", ...\n",
              "6  tensorflow/probability  ...  [\"<file>\", \"\\n\", \"event\", \"space\", \"bijector\",...\n",
              "7  tensorflow/probability  ...  [\"<file>\", \"\\n\", \"def\", \"windowed\", \"adaptive\"...\n",
              "8  tensorflow/probability  ...  [\"<file>\", \"\\n\", \"class\", \"simple\", \"step\", \"s...\n",
              "9  tensorflow/probability  ...  [\"<file>\", \"\\n\", \"class\", \"bijector\", \"cache\",...\n",
              "\n",
              "[10 rows x 4 columns]"
            ]
          },
          "metadata": {},
          "execution_count": 10
        }
      ]
    },
    {
      "cell_type": "markdown",
      "metadata": {
        "id": "3Dn9Co_Izwuf"
      },
      "source": [
        "# 3. Create whole dataset via Multiprocessing"
      ],
      "id": "3Dn9Co_Izwuf"
    },
    {
      "cell_type": "code",
      "metadata": {
        "id": "0f65faf9",
        "colab": {
          "base_uri": "https://localhost:8080/"
        },
        "outputId": "189d02ed-6e97-4707-addf-3461178eb052"
      },
      "source": [
        "import multiprocessing\n",
        "\n",
        "data = []\n",
        "\n",
        "obj_len = len(repodf['repo']) // 2\n",
        "\n",
        "def f(repo):\n",
        "    start = time.time()\n",
        "    df = parse_repo_commits(repo)\n",
        "    #df.to_pickle(f\"./repos/{repo.replace('/', '+')}.pkl\")\n",
        "    end = time.time()\n",
        "    print(f\"{repo} took {end-start} seconds\")\n",
        "    return df\n",
        "\n",
        "pool = multiprocessing.Pool()\n",
        "\n",
        "outputs = pool.map(f, repodf['repo'][:obj_len])\n",
        "pd.concat(outputs).to_pickle(f\"{root}/data.pkl\")"
      ],
      "id": "0f65faf9",
      "execution_count": null,
      "outputs": [
        {
          "output_type": "stream",
          "name": "stdout",
          "text": [
            "[DEBUG] waleedka/hiddenlayer: 24 / 47\n",
            "waleedka/hiddenlayer took 2.4295148849487305 seconds\n",
            "[DEBUG] soimort/you-get: 50 / 147\n",
            "soimort/you-get took 4.361461400985718 seconds\n",
            "[DEBUG] dpkp/kafka-python: 50 / 99\n",
            "dpkp/kafka-python took 3.832676887512207 seconds\n",
            "[DEBUG] davesque/django-rest-framework-simplejwt: 50 / 107\n",
            "davesque/django-rest-framework-simplejwt took 7.455304145812988 seconds\n",
            "[DEBUG] python-openxml/python-docx: 50 / 204\n",
            "python-openxml/python-docx took 8.924680709838867 seconds\n",
            "[DEBUG] apache/airflow: 50 / 93\n",
            "apache/airflow took 21.431981563568115 seconds\n",
            "[DEBUG] santosjorge/cufflinks: 50 / 84\n",
            "santosjorge/cufflinks took 8.110775709152222 seconds\n",
            "[DEBUG] HazyResearch/metal: 50 / 91\n",
            "HazyResearch/metal took 11.781491041183472 seconds\n",
            "[DEBUG] pytorch/vision: 50 / 112\n",
            "pytorch/vision took 22.541443824768066 seconds\n",
            "[DEBUG] gboeing/osmnx: 50 / 110\n",
            "gboeing/osmnx took 5.95318603515625 seconds\n",
            "[DEBUG] QuantEcon/QuantEcon.py: 50 / 84\n",
            "QuantEcon/QuantEcon.py took 5.399044513702393 seconds\n",
            "[DEBUG] miguelgrinberg/python-socketio: 50 / 150\n",
            "miguelgrinberg/python-socketio took 7.866117000579834 seconds\n",
            "[DEBUG] asciimoo/searx: 50 / 382\n",
            "asciimoo/searx took 21.88844656944275 seconds\n",
            "[DEBUG] pallets/flask-sqlalchemy: 50 / 136\n",
            "pallets/flask-sqlalchemy took 9.32278060913086 seconds\n",
            "[DEBUG] robertmartin8/PyPortfolioOpt: 50 / 132\n",
            "robertmartin8/PyPortfolioOpt took 9.849188566207886 seconds\n",
            "[DEBUG] miguelgrinberg/Flask-SocketIO: 50 / 108\n",
            "miguelgrinberg/Flask-SocketIO took 5.96581506729126 seconds\n",
            "[DEBUG] tensorflow/probability: 50 / 119\n",
            "tensorflow/probability took 19.616624355316162 seconds\n",
            "[DEBUG] intel-analytics/BigDL: 50 / 244\n",
            "intel-analytics/BigDL took 46.980412006378174 seconds\n",
            "[DEBUG] deepmipt/DeepPavlov: 50 / 165\n",
            "deepmipt/DeepPavlov took 15.661355018615723 seconds\n"
          ]
        }
      ]
    },
    {
      "cell_type": "code",
      "metadata": {
        "id": "04bfe004",
        "colab": {
          "base_uri": "https://localhost:8080/",
          "height": 143
        },
        "outputId": "9b89d00f-ec36-4eb7-eaca-240bff0d78b3"
      },
      "source": [
        "df = pd.read_pickle(f\"{root}/data.pkl\")\n",
        "df.head(3)"
      ],
      "id": "04bfe004",
      "execution_count": 11,
      "outputs": [
        {
          "output_type": "execute_result",
          "data": {
            "text/html": [
              "<div>\n",
              "<style scoped>\n",
              "    .dataframe tbody tr th:only-of-type {\n",
              "        vertical-align: middle;\n",
              "    }\n",
              "\n",
              "    .dataframe tbody tr th {\n",
              "        vertical-align: top;\n",
              "    }\n",
              "\n",
              "    .dataframe thead th {\n",
              "        text-align: right;\n",
              "    }\n",
              "</style>\n",
              "<table border=\"1\" class=\"dataframe\">\n",
              "  <thead>\n",
              "    <tr style=\"text-align: right;\">\n",
              "      <th></th>\n",
              "      <th>repo</th>\n",
              "      <th>hash</th>\n",
              "      <th>commit_messsage</th>\n",
              "      <th>diff</th>\n",
              "    </tr>\n",
              "  </thead>\n",
              "  <tbody>\n",
              "    <tr>\n",
              "      <th>0</th>\n",
              "      <td>soimort/you-get</td>\n",
              "      <td>5a12118c836b0b9a7a2f8bdbed25be9aa2ca7831</td>\n",
              "      <td>[\"add\", \"param\", \"postfix\", \"to\", \"postfix\", \"...</td>\n",
              "      <td>[\"&lt;file&gt;\", \"\\n\", \"output\", \"filename\", \"= \", \"...</td>\n",
              "    </tr>\n",
              "    <tr>\n",
              "      <th>1</th>\n",
              "      <td>soimort/you-get</td>\n",
              "      <td>3f47a215bf5f73e73cd7aa607b340a7b68b9bd3d</td>\n",
              "      <td>[\"fix\", \"the\", \"name\", \"m\", \"u\", \"is\", \"not\", ...</td>\n",
              "      <td>[\"&lt;file&gt;\", \"\\n\", \"cookies\", \"= \", \"none\", \"\\n\"...</td>\n",
              "    </tr>\n",
              "    <tr>\n",
              "      <th>2</th>\n",
              "      <td>soimort/you-get</td>\n",
              "      <td>424b555500e65da0533d369a80562bb93907ec9a</td>\n",
              "      <td>[\"fix\", \"zhihu\", \"extractor\", \"comment\", \"ld\"]</td>\n",
              "      <td>[\"&lt;file&gt;\", \"\\n\", \"def\", \"zhihu\", \"download\", \"...</td>\n",
              "    </tr>\n",
              "  </tbody>\n",
              "</table>\n",
              "</div>"
            ],
            "text/plain": [
              "              repo  ...                                               diff\n",
              "0  soimort/you-get  ...  [\"<file>\", \"\\n\", \"output\", \"filename\", \"= \", \"...\n",
              "1  soimort/you-get  ...  [\"<file>\", \"\\n\", \"cookies\", \"= \", \"none\", \"\\n\"...\n",
              "2  soimort/you-get  ...  [\"<file>\", \"\\n\", \"def\", \"zhihu\", \"download\", \"...\n",
              "\n",
              "[3 rows x 4 columns]"
            ]
          },
          "metadata": {},
          "execution_count": 11
        }
      ]
    },
    {
      "cell_type": "code",
      "metadata": {
        "id": "FmB-28AA2Vh6"
      },
      "source": [
        ""
      ],
      "id": "FmB-28AA2Vh6",
      "execution_count": null,
      "outputs": []
    }
  ]
}