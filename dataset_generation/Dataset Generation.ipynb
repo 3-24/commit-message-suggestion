{
  "nbformat": 4,
  "nbformat_minor": 5,
  "metadata": {
    "kernelspec": {
      "name": "python3",
      "display_name": "Python 3"
    },
    "colab": {
      "name": "Dataset Generation.ipynb",
      "provenance": []
    },
    "language_info": {
      "name": "python"
    }
  },
  "cells": [
    {
      "cell_type": "code",
      "metadata": {
        "colab": {
          "base_uri": "https://localhost:8080/"
        },
        "id": "TySV2A3KyKzL",
        "outputId": "2489dca1-fec9-42a6-c376-d366896020e8"
      },
      "source": [
        "# mount drive https://datascience.stackexchange.com/questions/29480/uploading-images-folder-from-my-system-into-google-colab\n",
        "# login with your google account and type authorization code to mount on your googlbie drive.\n",
        "from google.colab import drive\n",
        "drive.mount('/gdrive')\n",
        "root = '/gdrive/My Drive/CS492I/project'"
      ],
      "id": "TySV2A3KyKzL",
      "execution_count": null,
      "outputs": [
        {
          "output_type": "stream",
          "name": "stdout",
          "text": [
            "Mounted at /gdrive\n"
          ]
        }
      ]
    },
    {
      "cell_type": "markdown",
      "metadata": {
        "id": "8a5ade31"
      },
      "source": [
        "## 1. Collect CodeSearchNet Repositories"
      ],
      "id": "8a5ade31"
    },
    {
      "cell_type": "code",
      "metadata": {
        "id": "c06bb109"
      },
      "source": [
        "import json\n",
        "\n",
        "import pandas as pd\n",
        "from pathlib import Path\n",
        "pd.set_option('max_colwidth',300)\n",
        "from pprint import pprint"
      ],
      "id": "c06bb109",
      "execution_count": null,
      "outputs": []
    },
    {
      "cell_type": "code",
      "metadata": {
        "colab": {
          "base_uri": "https://localhost:8080/"
        },
        "id": "4c50cf9b",
        "outputId": "62b49b1b-cc12-44cd-beae-68503a6886e1"
      },
      "source": [
        "!wget https://s3.amazonaws.com/code-search-net/CodeSearchNet/v2/python.zip\n",
        "!mkdir CodeSearchNet\n",
        "!unzip python.zip -d CodeSearchNet"
      ],
      "id": "4c50cf9b",
      "execution_count": null,
      "outputs": [
        {
          "output_type": "stream",
          "name": "stdout",
          "text": [
            "--2021-12-03 07:32:59--  https://s3.amazonaws.com/code-search-net/CodeSearchNet/v2/python.zip\n",
            "Resolving s3.amazonaws.com (s3.amazonaws.com)... 52.217.69.238\n",
            "Connecting to s3.amazonaws.com (s3.amazonaws.com)|52.217.69.238|:443... connected.\n",
            "HTTP request sent, awaiting response... 200 OK\n",
            "Length: 940909997 (897M) [application/zip]\n",
            "Saving to: ‘python.zip’\n",
            "\n",
            "python.zip          100%[===================>] 897.32M  65.4MB/s    in 13s     \n",
            "\n",
            "2021-12-03 07:33:12 (68.1 MB/s) - ‘python.zip’ saved [940909997/940909997]\n",
            "\n",
            "Archive:  python.zip\n",
            "   creating: CodeSearchNet/python/\n",
            "   creating: CodeSearchNet/python/final/\n",
            "   creating: CodeSearchNet/python/final/jsonl/\n",
            "   creating: CodeSearchNet/python/final/jsonl/train/\n",
            "  inflating: CodeSearchNet/python/final/jsonl/train/python_train_9.jsonl.gz  \n",
            "  inflating: CodeSearchNet/python/final/jsonl/train/python_train_12.jsonl.gz  \n",
            "  inflating: CodeSearchNet/python/final/jsonl/train/python_train_10.jsonl.gz  \n",
            "  inflating: CodeSearchNet/python/final/jsonl/train/python_train_0.jsonl.gz  \n",
            "  inflating: CodeSearchNet/python/final/jsonl/train/python_train_6.jsonl.gz  \n",
            "  inflating: CodeSearchNet/python/final/jsonl/train/python_train_2.jsonl.gz  \n",
            "  inflating: CodeSearchNet/python/final/jsonl/train/python_train_4.jsonl.gz  \n",
            "  inflating: CodeSearchNet/python/final/jsonl/train/python_train_8.jsonl.gz  \n",
            "  inflating: CodeSearchNet/python/final/jsonl/train/python_train_11.jsonl.gz  \n",
            "  inflating: CodeSearchNet/python/final/jsonl/train/python_train_5.jsonl.gz  \n",
            "  inflating: CodeSearchNet/python/final/jsonl/train/python_train_13.jsonl.gz  \n",
            "  inflating: CodeSearchNet/python/final/jsonl/train/python_train_3.jsonl.gz  \n",
            "  inflating: CodeSearchNet/python/final/jsonl/train/python_train_1.jsonl.gz  \n",
            "  inflating: CodeSearchNet/python/final/jsonl/train/python_train_7.jsonl.gz  \n",
            "   creating: CodeSearchNet/python/final/jsonl/test/\n",
            "  inflating: CodeSearchNet/python/final/jsonl/test/python_test_0.jsonl.gz  \n",
            "   creating: CodeSearchNet/python/final/jsonl/valid/\n",
            "  inflating: CodeSearchNet/python/final/jsonl/valid/python_valid_0.jsonl.gz  \n",
            "  inflating: CodeSearchNet/python_dedupe_definitions_v2.pkl  \n",
            "  inflating: CodeSearchNet/python_licenses.pkl  \n"
          ]
        }
      ]
    },
    {
      "cell_type": "code",
      "metadata": {
        "id": "2847085c",
        "colab": {
          "base_uri": "https://localhost:8080/"
        },
        "outputId": "b98d532c-a88f-43db-c790-a0986fdddffe"
      },
      "source": [
        "python_files = sorted(Path('CodeSearchNet/python').glob('**/*.gz'))\n",
        "print(python_files)"
      ],
      "id": "2847085c",
      "execution_count": null,
      "outputs": [
        {
          "output_type": "stream",
          "name": "stdout",
          "text": [
            "[PosixPath('CodeSearchNet/python/final/jsonl/test/python_test_0.jsonl.gz'), PosixPath('CodeSearchNet/python/final/jsonl/train/python_train_0.jsonl.gz'), PosixPath('CodeSearchNet/python/final/jsonl/train/python_train_1.jsonl.gz'), PosixPath('CodeSearchNet/python/final/jsonl/train/python_train_10.jsonl.gz'), PosixPath('CodeSearchNet/python/final/jsonl/train/python_train_11.jsonl.gz'), PosixPath('CodeSearchNet/python/final/jsonl/train/python_train_12.jsonl.gz'), PosixPath('CodeSearchNet/python/final/jsonl/train/python_train_13.jsonl.gz'), PosixPath('CodeSearchNet/python/final/jsonl/train/python_train_2.jsonl.gz'), PosixPath('CodeSearchNet/python/final/jsonl/train/python_train_3.jsonl.gz'), PosixPath('CodeSearchNet/python/final/jsonl/train/python_train_4.jsonl.gz'), PosixPath('CodeSearchNet/python/final/jsonl/train/python_train_5.jsonl.gz'), PosixPath('CodeSearchNet/python/final/jsonl/train/python_train_6.jsonl.gz'), PosixPath('CodeSearchNet/python/final/jsonl/train/python_train_7.jsonl.gz'), PosixPath('CodeSearchNet/python/final/jsonl/train/python_train_8.jsonl.gz'), PosixPath('CodeSearchNet/python/final/jsonl/train/python_train_9.jsonl.gz'), PosixPath('CodeSearchNet/python/final/jsonl/valid/python_valid_0.jsonl.gz')]\n"
          ]
        }
      ]
    },
    {
      "cell_type": "code",
      "metadata": {
        "id": "8aa7dbe1"
      },
      "source": [
        "columns_long_list = ['repo', 'path', 'url', 'code', \n",
        "                     'code_tokens', 'docstring', 'docstring_tokens', \n",
        "                     'language', 'partition']\n",
        "\n",
        "def jsonl_list_to_dataframe(file_list, columns=columns_long_list):\n",
        "    \"\"\"Load a list of jsonl.gz files into a pandas DataFrame.\"\"\"\n",
        "    return pd.concat([pd.read_json(f, \n",
        "                                   orient='records', \n",
        "                                   compression='gzip',\n",
        "                                   lines=True)[columns] \n",
        "                      for f in file_list], sort=False)"
      ],
      "id": "8aa7dbe1",
      "execution_count": null,
      "outputs": []
    },
    {
      "cell_type": "code",
      "metadata": {
        "id": "be6c1c77"
      },
      "source": [
        "pydf = jsonl_list_to_dataframe(python_files, columns=['repo'])\n",
        "pydf = pydf.drop_duplicates().reset_index(drop=True)\n",
        "pydf.to_pickle(f\"{root}/repos.pkl\")"
      ],
      "id": "be6c1c77",
      "execution_count": null,
      "outputs": []
    },
    {
      "cell_type": "markdown",
      "metadata": {
        "id": "1d0559c4"
      },
      "source": [
        "## 2. Collect diff and commits"
      ],
      "id": "1d0559c4"
    },
    {
      "cell_type": "code",
      "metadata": {
        "colab": {
          "base_uri": "https://localhost:8080/"
        },
        "id": "8ee24339",
        "outputId": "9e287177-8443-4d5e-b7a0-dd480fc9ff79"
      },
      "source": [
        "!pip install pydriller\n",
        "!pip install pandas\n",
        "!pip install spacy"
      ],
      "id": "8ee24339",
      "execution_count": 57,
      "outputs": [
        {
          "output_type": "stream",
          "name": "stdout",
          "text": [
            "Requirement already satisfied: pydriller in /usr/local/lib/python3.7/dist-packages (2.0)\n",
            "Requirement already satisfied: lizard in /usr/local/lib/python3.7/dist-packages (from pydriller) (1.17.9)\n",
            "Requirement already satisfied: pytz in /usr/local/lib/python3.7/dist-packages (from pydriller) (2018.9)\n",
            "Requirement already satisfied: gitpython in /usr/local/lib/python3.7/dist-packages (from pydriller) (3.1.24)\n",
            "Requirement already satisfied: gitdb<5,>=4.0.1 in /usr/local/lib/python3.7/dist-packages (from gitpython->pydriller) (4.0.9)\n",
            "Requirement already satisfied: typing-extensions>=3.7.4.3 in /usr/local/lib/python3.7/dist-packages (from gitpython->pydriller) (3.10.0.2)\n",
            "Requirement already satisfied: smmap<6,>=3.0.1 in /usr/local/lib/python3.7/dist-packages (from gitdb<5,>=4.0.1->gitpython->pydriller) (5.0.0)\n",
            "Requirement already satisfied: pandas in /usr/local/lib/python3.7/dist-packages (1.1.5)\n",
            "Requirement already satisfied: python-dateutil>=2.7.3 in /usr/local/lib/python3.7/dist-packages (from pandas) (2.8.2)\n",
            "Requirement already satisfied: numpy>=1.15.4 in /usr/local/lib/python3.7/dist-packages (from pandas) (1.19.5)\n",
            "Requirement already satisfied: pytz>=2017.2 in /usr/local/lib/python3.7/dist-packages (from pandas) (2018.9)\n",
            "Requirement already satisfied: six>=1.5 in /usr/local/lib/python3.7/dist-packages (from python-dateutil>=2.7.3->pandas) (1.15.0)\n",
            "Requirement already satisfied: spacy in /usr/local/lib/python3.7/dist-packages (2.2.4)\n",
            "Requirement already satisfied: numpy>=1.15.0 in /usr/local/lib/python3.7/dist-packages (from spacy) (1.19.5)\n",
            "Requirement already satisfied: cymem<2.1.0,>=2.0.2 in /usr/local/lib/python3.7/dist-packages (from spacy) (2.0.6)\n",
            "Requirement already satisfied: catalogue<1.1.0,>=0.0.7 in /usr/local/lib/python3.7/dist-packages (from spacy) (1.0.0)\n",
            "Requirement already satisfied: tqdm<5.0.0,>=4.38.0 in /usr/local/lib/python3.7/dist-packages (from spacy) (4.62.3)\n",
            "Requirement already satisfied: blis<0.5.0,>=0.4.0 in /usr/local/lib/python3.7/dist-packages (from spacy) (0.4.1)\n",
            "Requirement already satisfied: srsly<1.1.0,>=1.0.2 in /usr/local/lib/python3.7/dist-packages (from spacy) (1.0.5)\n",
            "Requirement already satisfied: setuptools in /usr/local/lib/python3.7/dist-packages (from spacy) (57.4.0)\n",
            "Requirement already satisfied: plac<1.2.0,>=0.9.6 in /usr/local/lib/python3.7/dist-packages (from spacy) (1.1.3)\n",
            "Requirement already satisfied: thinc==7.4.0 in /usr/local/lib/python3.7/dist-packages (from spacy) (7.4.0)\n",
            "Requirement already satisfied: preshed<3.1.0,>=3.0.2 in /usr/local/lib/python3.7/dist-packages (from spacy) (3.0.6)\n",
            "Requirement already satisfied: wasabi<1.1.0,>=0.4.0 in /usr/local/lib/python3.7/dist-packages (from spacy) (0.8.2)\n",
            "Requirement already satisfied: murmurhash<1.1.0,>=0.28.0 in /usr/local/lib/python3.7/dist-packages (from spacy) (1.0.6)\n",
            "Requirement already satisfied: requests<3.0.0,>=2.13.0 in /usr/local/lib/python3.7/dist-packages (from spacy) (2.23.0)\n",
            "Requirement already satisfied: importlib-metadata>=0.20 in /usr/local/lib/python3.7/dist-packages (from catalogue<1.1.0,>=0.0.7->spacy) (4.8.2)\n",
            "Requirement already satisfied: zipp>=0.5 in /usr/local/lib/python3.7/dist-packages (from importlib-metadata>=0.20->catalogue<1.1.0,>=0.0.7->spacy) (3.6.0)\n",
            "Requirement already satisfied: typing-extensions>=3.6.4 in /usr/local/lib/python3.7/dist-packages (from importlib-metadata>=0.20->catalogue<1.1.0,>=0.0.7->spacy) (3.10.0.2)\n",
            "Requirement already satisfied: chardet<4,>=3.0.2 in /usr/local/lib/python3.7/dist-packages (from requests<3.0.0,>=2.13.0->spacy) (3.0.4)\n",
            "Requirement already satisfied: certifi>=2017.4.17 in /usr/local/lib/python3.7/dist-packages (from requests<3.0.0,>=2.13.0->spacy) (2021.10.8)\n",
            "Requirement already satisfied: urllib3!=1.25.0,!=1.25.1,<1.26,>=1.21.1 in /usr/local/lib/python3.7/dist-packages (from requests<3.0.0,>=2.13.0->spacy) (1.24.3)\n",
            "Requirement already satisfied: idna<3,>=2.5 in /usr/local/lib/python3.7/dist-packages (from requests<3.0.0,>=2.13.0->spacy) (2.10)\n"
          ]
        }
      ]
    },
    {
      "cell_type": "code",
      "metadata": {
        "id": "72e76292"
      },
      "source": [
        "from pydriller import *\n",
        "import pandas as pd\n",
        "from nltk.tokenize import regexp_tokenize\n",
        "import spacy\n",
        "import re\n",
        "from itertools import chain\n",
        "import json"
      ],
      "id": "72e76292",
      "execution_count": 74,
      "outputs": []
    },
    {
      "cell_type": "code",
      "metadata": {
        "colab": {
          "base_uri": "https://localhost:8080/"
        },
        "id": "845d5eb7",
        "outputId": "98abbd8f-4ff3-462d-db7f-4c16c70c7031"
      },
      "source": [
        "repodf = pd.read_pickle(f\"{root}/repos.pkl\")\n",
        "print(repodf.shape)\n",
        "spacy_tokenizer = spacy.load(\"en_core_web_sm\")\n",
        "print(repodf)"
      ],
      "id": "845d5eb7",
      "execution_count": 59,
      "outputs": [
        {
          "output_type": "stream",
          "name": "stdout",
          "text": [
            "(13590, 1)\n"
          ]
        },
        {
          "output_type": "stream",
          "name": "stderr",
          "text": [
            "Exception ignored in: <finalize object at 0x7f50870debe0; dead>\n",
            "Traceback (most recent call last):\n",
            "  File \"/usr/lib/python3.7/weakref.py\", line 572, in __call__\n",
            "    return info.func(*info.args, **(info.kwargs or {}))\n",
            "  File \"/usr/lib/python3.7/tempfile.py\", line 936, in _cleanup\n",
            "    _rmtree(name)\n",
            "  File \"/usr/lib/python3.7/shutil.py\", line 485, in rmtree\n",
            "    onerror(os.lstat, path, sys.exc_info())\n",
            "  File \"/usr/lib/python3.7/shutil.py\", line 483, in rmtree\n",
            "    orig_st = os.lstat(path)\n",
            "FileNotFoundError: [Errno 2] No such file or directory: '/tmp/tmpkjuvkjmw'\n"
          ]
        },
        {
          "output_type": "stream",
          "name": "stdout",
          "text": [
            "                                 repo\n",
            "0                     soimort/you-get\n",
            "1                      apache/airflow\n",
            "2                      pytorch/vision\n",
            "3                      asciimoo/searx\n",
            "4              tensorflow/probability\n",
            "...                               ...\n",
            "13585         praekelt/python-ambient\n",
            "13586                 zenreach/py-era\n",
            "13587  TakesxiSximada/custom_settings\n",
            "13588            openpermissions/bass\n",
            "13589               xnuinside/clifier\n",
            "\n",
            "[13590 rows x 1 columns]\n"
          ]
        }
      ]
    },
    {
      "cell_type": "code",
      "metadata": {
        "id": "449680fc"
      },
      "source": [
        "def basic_filter(message):\n",
        "    return message.split(\"\\n\", 1)[0].strip()\n",
        "\n",
        "# Remove [label] in front of commit if exists\n",
        "def label_filter(message):\n",
        "    if (message.startswith('[')):\n",
        "        end_bracket_index = message.find(']')\n",
        "        if (end_bracket_index == -1):\n",
        "            return None\n",
        "        return message[:end_bracket_index+1]\n",
        "    return message\n",
        "\n",
        "def camel_case_split(str):\n",
        "    return re.findall(r'[A-Z](?:[a-z]+|[A-Z]*(?=[A-Z]|$))', str)\n",
        "\n",
        "def case_splitter(token):\n",
        "    return list(map(lambda x: x.lower(), camel_case_split(token[0].upper() + token[1:]) if token[0].isalpha() else [token]))\n",
        "\n",
        "\n",
        "def split_by_quote(diff):\n",
        "    text_list = [(0,0)]\n",
        "    quote_state = 0 #[\"out\",\"single\",\"double\",\"Single\",\"Double\",\"quote\"]\n",
        "    i=0\n",
        "    while i<len(diff):\n",
        "      if diff[i] == \"\\\\\":i+=1\n",
        "      elif (diff[i] == \"\\n\" and quote_state == 5) or (diff[i] == '#' and quote_state == 0):\n",
        "        text_list.append((quote_state,i))\n",
        "        quote_state = abs(5-quote_state)\n",
        "      elif diff[i] == '\"':\n",
        "        if i+2<len(diff) and diff[i:i+3]=='\"\"\"' and (quote_state == 0 or quote_state ==4):\n",
        "          text_list.append((quote_state,i+max(quote_state-1,0)))\n",
        "          quote_state = abs(4-quote_state)\n",
        "          i+=2\n",
        "        elif quote_state == 0 or quote_state == 2:\n",
        "          text_list.append((quote_state,i+max(quote_state-1,0)))\n",
        "          quote_state = abs(2-quote_state)\n",
        "      elif diff[i] == \"'\":\n",
        "        if i+2<len(diff) and diff[i:i+3] == \"'''\" and (quote_state == 0 or quote_state == 3):\n",
        "          text_list.append((quote_state,i+quote_state))\n",
        "          quote_state = abs(3-quote_state)\n",
        "          i+=2\n",
        "        elif quote_state == 0 or quote_state == 1:\n",
        "          text_list.append((quote_state,i+quote_state))\n",
        "          quote_state = abs(1-quote_state)\n",
        "      i+=1\n",
        "    text_list.append((quote_state,i))\n",
        "    return [(text_list[i][0]==0,diff[text_list[i-1][1]:text_list[i][1]]) for i in range(1,len(text_list))]\n",
        "  \n",
        "\n",
        "token_regex = r\"\"\"(?x)\n",
        "<(?:add|del)>   #Filtered eariler\n",
        "|(?:[-+*/^&~|=%!<>@?$][\\s]*)+     #Sequence of symbols\n",
        "|[\\n]                    #Change row\n",
        "|[a-zA-Z]+               #General text\n",
        "|[0-9]+                  #Number\n",
        "\"\"\"\n",
        "string_regex = r\"\"\"(?x)\n",
        "<(?:add|del)>\n",
        "|[\\n]\n",
        "|[a-zA-Z]+\n",
        "\"\"\"\n",
        "def diff_tokenizer(diff_text):\n",
        "    diff = '\\n'.join(map(lambda x: x[1], filter(lambda y: y[0] % 2 == 0, enumerate(diff_text.split(\"@@\")))))\n",
        "    diff = diff.replace('\\n+', '\\n<add>').replace('\\n-', '\\n<del>')\n",
        "    diff = re.sub(r\"(?:\\n[ \\t\\r\\f\\v]*)+\",\"\\n\",diff) # Join continuous row change\n",
        "    quote_split = split_by_quote(diff)\n",
        "    token_initial = chain.from_iterable(map(lambda a: regexp_tokenize(a[1],(token_regex if a[0] else string_regex)), quote_split))\n",
        "    token_camel_case_split = chain.from_iterable(map(case_splitter, token_initial))\n",
        "    return token_camel_case_split\n",
        "\n",
        "\n",
        "def parse_repo_commits(repo_name, commit_limit=50):\n",
        "    data = []\n",
        "    commit_count = 0\n",
        "    for commit in Repository(\n",
        "        f\"https://github.com/{repo_name}\",\n",
        "        only_modifications_with_file_types=[\".py\"],\n",
        "        only_no_merge=True,\n",
        "        order='reverse'\n",
        "    ).traverse_commits():\n",
        "        if (commit_count >= commit_limit): break\n",
        "        line = basic_filter(commit.msg)\n",
        "        line = label_filter(line)\n",
        "        if (line is None):\n",
        "            continue\n",
        "        \n",
        "        if line.count(\"`\")%2 == 1:\n",
        "            continue\n",
        "        \n",
        "        backtick_regex = r\"`[^`]+`|[^`]+\"\n",
        "        line_divided_by_backtick = re.findall(backtick_regex,line)\n",
        "        tokens = chain.from_iterable(map(lambda text: regexp_tokenize(text,(token_regex if text[0] == '`' else string_regex)),line_divided_by_backtick))\n",
        "        \n",
        "        commit_tokens = list(chain.from_iterable(map(case_splitter, tokens)))\n",
        "\n",
        "        if (len(commit_tokens) < 3 or len(commit_tokens) > 30):\n",
        "            continue\n",
        "\n",
        "        # Check if changed files are python\n",
        "        file_failed = False\n",
        "        count_diff_lines = 0\n",
        "\n",
        "        for mf in commit.modified_files:\n",
        "            if (not mf.filename.endswith(\".py\")):\n",
        "                file_failed = True\n",
        "                break\n",
        "            count_diff_lines += mf.added_lines + mf.deleted_lines\n",
        "        \n",
        "        if (file_failed):\n",
        "            continue\n",
        "        \n",
        "        if (count_diff_lines > 50):\n",
        "            continue\n",
        "        \n",
        "        # Create diff tokens\n",
        "        diff_tokens = []\n",
        "        for f in commit.modified_files:\n",
        "          diff_tokens.append (['<file>'])\n",
        "          diff_tokens.append(diff_tokenizer(f.diff))\n",
        "\n",
        "        diff_whole_tokens = list(chain.from_iterable(diff_tokens))\n",
        "\n",
        "        data.append([repo_name, commit.hash, json.dumps(commit_tokens), json.dumps(diff_whole_tokens)])\n",
        "        commit_count += 1\n",
        "\n",
        "    return pd.DataFrame(data, columns=[\"repo\", \"hash\", \"commit_messsage\", \"diff\"])"
      ],
      "id": "449680fc",
      "execution_count": 86,
      "outputs": []
    },
    {
      "cell_type": "code",
      "metadata": {
        "colab": {
          "base_uri": "https://localhost:8080/",
          "height": 554
        },
        "id": "b2854419",
        "outputId": "74f9170d-9021-47b7-9512-b9de3d90afdb"
      },
      "source": [
        "import time\n",
        "start = time.time()\n",
        "#df = parse_repo_commits(\"soimort/you-get\")\n",
        "df = parse_repo_commits(\"tensorflow/probability\")\n",
        "end = time.time()\n",
        "print(end - start)\n",
        "df.head(10)"
      ],
      "id": "b2854419",
      "execution_count": 87,
      "outputs": [
        {
          "output_type": "stream",
          "name": "stdout",
          "text": [
            "25.511131048202515\n"
          ]
        },
        {
          "output_type": "execute_result",
          "data": {
            "text/html": [
              "<div>\n",
              "<style scoped>\n",
              "    .dataframe tbody tr th:only-of-type {\n",
              "        vertical-align: middle;\n",
              "    }\n",
              "\n",
              "    .dataframe tbody tr th {\n",
              "        vertical-align: top;\n",
              "    }\n",
              "\n",
              "    .dataframe thead th {\n",
              "        text-align: right;\n",
              "    }\n",
              "</style>\n",
              "<table border=\"1\" class=\"dataframe\">\n",
              "  <thead>\n",
              "    <tr style=\"text-align: right;\">\n",
              "      <th></th>\n",
              "      <th>repo</th>\n",
              "      <th>hash</th>\n",
              "      <th>commit_messsage</th>\n",
              "      <th>diff</th>\n",
              "    </tr>\n",
              "  </thead>\n",
              "  <tbody>\n",
              "    <tr>\n",
              "      <th>0</th>\n",
              "      <td>tensorflow/probability</td>\n",
              "      <td>c2299ff88eaf1c3f29dc48ce5a80c3db8bc8625d</td>\n",
              "      <td>[\"ensure\", \"owens\", \"t\", \"special\", \"function\", \"gracefully\", \"handles\", \"partially\", \"dynamic\", \"shapes\"]</td>\n",
              "      <td>[\"&lt;file&gt;\", \"\\n\", \"def\", \"owens\", \"t\", \"method\", \"1\", \"h\", \"a\", \"m\", \"\\n\", \"should\", \"stop\", \"= \", \"index\", \"&gt;= \", \"m\", \"\\n\", \"return\", \"should\", \"stop\", \"index\", \"+ \", \"1\", \"new\", \"ai\", \"new\", \"di\", \"new\", \"gi\", \"new\", \"series\", \"sum\", \"\\n\", \"&lt;del&gt;\", \"broadcast\", \"shape\", \"= \", \"prefer\", \"static...</td>\n",
              "    </tr>\n",
              "    <tr>\n",
              "      <th>1</th>\n",
              "      <td>tensorflow/probability</td>\n",
              "      <td>f5541be80d2e118a3875ec795285927f5580465a</td>\n",
              "      <td>[\"always\", \"return\", \"kalman\", \"filter\", \"results\", \"as\", \"a\", \"filter\", \"results\", \"namedtuple\"]</td>\n",
              "      <td>[\"&lt;file&gt;\", \"\\n\", \"from\", \"tensorflow\", \"python\", \"ops\", \"import\", \"parallel\", \"for\", \"pylint\", \"disable\", \"g\", \"direct\", \"tenso\", \"\\n\", \"tfl\", \"= \", \"tf\", \"linalg\", \"\\n\", \"&lt;add&gt;\", \"filter\", \"results\", \"= \", \"collections\", \"namedtuple\", \"\\n\", \"&lt;add&gt;\", \"filter\", \"results\", \"\\n\", \"&lt;add&gt;\", \"log\", \"l...</td>\n",
              "    </tr>\n",
              "    <tr>\n",
              "      <th>2</th>\n",
              "      <td>tensorflow/probability</td>\n",
              "      <td>9990d6105450b43e2169968a397c0ce8d98598cb</td>\n",
              "      <td>[\"improves\", \"error\", \"message\", \"in\", \"dtype\", \"util\", \"common\", \"dtype\"]</td>\n",
              "      <td>[\"&lt;file&gt;\", \"\\n\", \"def\", \"base\", \"equal\", \"a\", \"b\", \"\\n\", \"return\", \"base\", \"dtype\", \"a\", \"== \", \"base\", \"dtype\", \"b\", \"\\n\", \"&lt;del&gt;\", \"def\", \"common\", \"dtype\", \"args\", \"list\", \"dtype\", \"hint\", \"=\", \"none\", \"\\n\", \"&lt;del&gt;\", \"returns\", \"explict\", \"dtype\", \"from\", \"args\", \"list\", \"if\", \"there\", \"is\", ...</td>\n",
              "    </tr>\n",
              "    <tr>\n",
              "      <th>3</th>\n",
              "      <td>tensorflow/probability</td>\n",
              "      <td>ae7117f37ac441bc7a888167ea23e5e620c5bcde</td>\n",
              "      <td>[\"hack\", \"convert\", \"to\", \"nested\", \"tensor\", \"to\", \"forward\", \"keras\", \"tensors\", \"untouched\"]</td>\n",
              "      <td>[\"&lt;file&gt;\", \"\\n\", \"class\", \"bijector\", \"caching\", \"test\", \"test\", \"util\", \"test\", \"case\", \"\\n\", \"z\", \"= \", \"instance\", \"cache\", \"bijector\", \"forward\", \"x\", \"\\n\", \"self\", \"assert\", \"is\", \"not\", \"y\", \"z\", \"\\n\", \"&lt;add&gt;\", \"@\", \"test\", \"util\", \"jax\", \"disable\", \"test\", \"missing\", \"functionality\", \"ker...</td>\n",
              "    </tr>\n",
              "    <tr>\n",
              "      <th>4</th>\n",
              "      <td>tensorflow/probability</td>\n",
              "      <td>b305c9c66ae1b7f3f2446eeb9422fcff18eeb0e3</td>\n",
              "      <td>[\"restrain\", \"hypothesis\", \"from\", \"generating\", \"absurd\", \"limit\", \"arguments\", \"to\", \"truncated\", \"normal\"]</td>\n",
              "      <td>[\"&lt;file&gt;\", \"\\n\", \"def\", \"fix\", \"triangular\", \"d\", \"\\n\", \"return\", \"dict\", \"d\", \"peak\", \"=\", \"peak\", \"high\", \"=\", \"high\", \"\\n\", \"&lt;add&gt;\", \"def\", \"fix\", \"truncated\", \"normal\", \"params\", \"\\n\", \"&lt;add&gt;\", \"new\", \"params\", \"= \", \"dict\", \"params\", \"high\", \"=\", \"tfp\", \"hps\", \"ensure\", \"high\", \"gt\", \"low\",...</td>\n",
              "    </tr>\n",
              "    <tr>\n",
              "      <th>5</th>\n",
              "      <td>tensorflow/probability</td>\n",
              "      <td>16c382e6ca2fd897c8023a4169eeab9b3575c134</td>\n",
              "      <td>[\"re\", \"narrow\", \"numerical\", \"tolerances\", \"perturbed\", \"by\", \"hypothesis\", \"upgrade\", \"from\", \"x\"]</td>\n",
              "      <td>[\"&lt;file&gt;\", \"\\n\", \"autovectorization\", \"rtol\", \"update\", \"\\n\", \"matvec\", \"lu\", \"1\", \"e\", \"-\", \"4\", \"todo\", \"b\", \"tighten\", \"this\", \"\\n\", \"scale\", \"matvec\", \"lu\", \"1\", \"e\", \"-\", \"2\", \"todo\", \"b\", \"tighten\", \"this\", \"\\n\", \"scale\", \"matvec\", \"tri\", \"l\", \"1\", \"e\", \"-\", \"3\", \"todo\", \"b\", \"tighten\", \"t...</td>\n",
              "    </tr>\n",
              "    <tr>\n",
              "      <th>6</th>\n",
              "      <td>tensorflow/probability</td>\n",
              "      <td>8e03d0ce95154f0e4b495c69ed21e7b58641d705</td>\n",
              "      <td>[\"relax\", \"precision\", \"of\", \"truncated\", \"normal\", \"in\", \"hypothesis\", \"test\"]</td>\n",
              "      <td>[\"&lt;file&gt;\", \"\\n\", \"event\", \"space\", \"bijector\", \"is\", \"broken\", \"= \", \"\\n\", \"slicing\", \"logprob\", \"atol\", \"= \", \"collections\", \"defaultdict\", \"lambda\", \"1\", \"e\", \"-\", \"5\", \"\\n\", \"slicing\", \"logprob\", \"atol\", \"update\", \"\\n\", \"normal\", \"inverse\", \"gaussian\", \"3\", \"e\", \"-\", \"4\", \"b\", \"\\n\", \"&lt;add&gt;\", ...</td>\n",
              "    </tr>\n",
              "    <tr>\n",
              "      <th>7</th>\n",
              "      <td>tensorflow/probability</td>\n",
              "      <td>40b18076b53d7c6e22e1fa5f95d805be0cfa0cc1</td>\n",
              "      <td>[\"enable\", \"test\", \"the\", \"use\", \"of\", \"pmax\", \"under\", \"tensor\", \"flow\", \"in\", \"some\", \"mcmc\", \"algorithms\"]</td>\n",
              "      <td>[\"&lt;file&gt;\", \"\\n\", \"def\", \"windowed\", \"adaptive\", \"impl\", \"n\", \"draws\", \"\\n\", \"todo\", \"b\", \"if\", \"num\", \"adaptation\", \"steps\", \"is\", \"small\", \"this\", \"throws\", \"an\", \"error\", \"\\n\", \"dual\", \"averaging\", \"kwargs\", \"num\", \"adaptation\", \"steps\", \"= \", \"num\", \"adaptation\", \"steps\", \"\\n\", \"&lt;del&gt;\", \"dual...</td>\n",
              "    </tr>\n",
              "    <tr>\n",
              "      <th>8</th>\n",
              "      <td>tensorflow/probability</td>\n",
              "      <td>c73714bd8bdf66e0da082b1871858d97a3223f5d</td>\n",
              "      <td>[\"increment\", \"tf\", \"version\", \"requirement\", \"to\", \"nightly\"]</td>\n",
              "      <td>[\"&lt;file&gt;\", \"\\n\", \"def\", \"validate\", \"tf\", \"environment\", \"package\", \"\\n\", \"\\n\", \"update\", \"this\", \"whenever\", \"we\", \"need\", \"to\", \"depend\", \"on\", \"a\", \"newer\", \"tensor\", \"flow\", \"release\", \"\\n\", \"\\n\", \"&lt;del&gt;\", \"required\", \"tensorflow\", \"version\", \"= \", \"\\n\", \"&lt;add&gt;\", \"required\", \"tensorflow\", \"v...</td>\n",
              "    </tr>\n",
              "    <tr>\n",
              "      <th>9</th>\n",
              "      <td>tensorflow/probability</td>\n",
              "      <td>563ae8afa5b728375e05f4455f4cc518b0714555</td>\n",
              "      <td>[\"increment\", \"minor\", \"version\", \"number\", \"tfp\", \"release\", \"is\", \"in\", \"progress\"]</td>\n",
              "      <td>[\"&lt;file&gt;\", \"\\n\", \"we\", \"follow\", \"semantic\", \"versioning\", \"https\", \"semver\", \"org\", \"\\n\", \"major\", \"version\", \"= \", \"\\n\", \"&lt;del&gt;\", \"minor\", \"version\", \"= \", \"\\n\", \"&lt;add&gt;\", \"minor\", \"version\", \"= \", \"\\n\", \"patch\", \"version\", \"= \", \"\\n\", \"when\", \"building\", \"releases\", \"we\", \"can\", \"update\", \"thi...</td>\n",
              "    </tr>\n",
              "  </tbody>\n",
              "</table>\n",
              "</div>"
            ],
            "text/plain": [
              "                     repo  ...                                                                                                                                                                                                                                                                                                         diff\n",
              "0  tensorflow/probability  ...  [\"<file>\", \"\\n\", \"def\", \"owens\", \"t\", \"method\", \"1\", \"h\", \"a\", \"m\", \"\\n\", \"should\", \"stop\", \"= \", \"index\", \">= \", \"m\", \"\\n\", \"return\", \"should\", \"stop\", \"index\", \"+ \", \"1\", \"new\", \"ai\", \"new\", \"di\", \"new\", \"gi\", \"new\", \"series\", \"sum\", \"\\n\", \"<del>\", \"broadcast\", \"shape\", \"= \", \"prefer\", \"static...\n",
              "1  tensorflow/probability  ...  [\"<file>\", \"\\n\", \"from\", \"tensorflow\", \"python\", \"ops\", \"import\", \"parallel\", \"for\", \"pylint\", \"disable\", \"g\", \"direct\", \"tenso\", \"\\n\", \"tfl\", \"= \", \"tf\", \"linalg\", \"\\n\", \"<add>\", \"filter\", \"results\", \"= \", \"collections\", \"namedtuple\", \"\\n\", \"<add>\", \"filter\", \"results\", \"\\n\", \"<add>\", \"log\", \"l...\n",
              "2  tensorflow/probability  ...  [\"<file>\", \"\\n\", \"def\", \"base\", \"equal\", \"a\", \"b\", \"\\n\", \"return\", \"base\", \"dtype\", \"a\", \"== \", \"base\", \"dtype\", \"b\", \"\\n\", \"<del>\", \"def\", \"common\", \"dtype\", \"args\", \"list\", \"dtype\", \"hint\", \"=\", \"none\", \"\\n\", \"<del>\", \"returns\", \"explict\", \"dtype\", \"from\", \"args\", \"list\", \"if\", \"there\", \"is\", ...\n",
              "3  tensorflow/probability  ...  [\"<file>\", \"\\n\", \"class\", \"bijector\", \"caching\", \"test\", \"test\", \"util\", \"test\", \"case\", \"\\n\", \"z\", \"= \", \"instance\", \"cache\", \"bijector\", \"forward\", \"x\", \"\\n\", \"self\", \"assert\", \"is\", \"not\", \"y\", \"z\", \"\\n\", \"<add>\", \"@\", \"test\", \"util\", \"jax\", \"disable\", \"test\", \"missing\", \"functionality\", \"ker...\n",
              "4  tensorflow/probability  ...  [\"<file>\", \"\\n\", \"def\", \"fix\", \"triangular\", \"d\", \"\\n\", \"return\", \"dict\", \"d\", \"peak\", \"=\", \"peak\", \"high\", \"=\", \"high\", \"\\n\", \"<add>\", \"def\", \"fix\", \"truncated\", \"normal\", \"params\", \"\\n\", \"<add>\", \"new\", \"params\", \"= \", \"dict\", \"params\", \"high\", \"=\", \"tfp\", \"hps\", \"ensure\", \"high\", \"gt\", \"low\",...\n",
              "5  tensorflow/probability  ...  [\"<file>\", \"\\n\", \"autovectorization\", \"rtol\", \"update\", \"\\n\", \"matvec\", \"lu\", \"1\", \"e\", \"-\", \"4\", \"todo\", \"b\", \"tighten\", \"this\", \"\\n\", \"scale\", \"matvec\", \"lu\", \"1\", \"e\", \"-\", \"2\", \"todo\", \"b\", \"tighten\", \"this\", \"\\n\", \"scale\", \"matvec\", \"tri\", \"l\", \"1\", \"e\", \"-\", \"3\", \"todo\", \"b\", \"tighten\", \"t...\n",
              "6  tensorflow/probability  ...  [\"<file>\", \"\\n\", \"event\", \"space\", \"bijector\", \"is\", \"broken\", \"= \", \"\\n\", \"slicing\", \"logprob\", \"atol\", \"= \", \"collections\", \"defaultdict\", \"lambda\", \"1\", \"e\", \"-\", \"5\", \"\\n\", \"slicing\", \"logprob\", \"atol\", \"update\", \"\\n\", \"normal\", \"inverse\", \"gaussian\", \"3\", \"e\", \"-\", \"4\", \"b\", \"\\n\", \"<add>\", ...\n",
              "7  tensorflow/probability  ...  [\"<file>\", \"\\n\", \"def\", \"windowed\", \"adaptive\", \"impl\", \"n\", \"draws\", \"\\n\", \"todo\", \"b\", \"if\", \"num\", \"adaptation\", \"steps\", \"is\", \"small\", \"this\", \"throws\", \"an\", \"error\", \"\\n\", \"dual\", \"averaging\", \"kwargs\", \"num\", \"adaptation\", \"steps\", \"= \", \"num\", \"adaptation\", \"steps\", \"\\n\", \"<del>\", \"dual...\n",
              "8  tensorflow/probability  ...  [\"<file>\", \"\\n\", \"def\", \"validate\", \"tf\", \"environment\", \"package\", \"\\n\", \"\\n\", \"update\", \"this\", \"whenever\", \"we\", \"need\", \"to\", \"depend\", \"on\", \"a\", \"newer\", \"tensor\", \"flow\", \"release\", \"\\n\", \"\\n\", \"<del>\", \"required\", \"tensorflow\", \"version\", \"= \", \"\\n\", \"<add>\", \"required\", \"tensorflow\", \"v...\n",
              "9  tensorflow/probability  ...  [\"<file>\", \"\\n\", \"we\", \"follow\", \"semantic\", \"versioning\", \"https\", \"semver\", \"org\", \"\\n\", \"major\", \"version\", \"= \", \"\\n\", \"<del>\", \"minor\", \"version\", \"= \", \"\\n\", \"<add>\", \"minor\", \"version\", \"= \", \"\\n\", \"patch\", \"version\", \"= \", \"\\n\", \"when\", \"building\", \"releases\", \"we\", \"can\", \"update\", \"thi...\n",
              "\n",
              "[10 rows x 4 columns]"
            ]
          },
          "metadata": {},
          "execution_count": 87
        }
      ]
    },
    {
      "cell_type": "markdown",
      "metadata": {
        "id": "3Dn9Co_Izwuf"
      },
      "source": [
        "# 3. Create whole dataset via Multiprocessing"
      ],
      "id": "3Dn9Co_Izwuf"
    },
    {
      "cell_type": "code",
      "metadata": {
        "id": "0f65faf9"
      },
      "source": [
        "import multiprocessing\n",
        "\n",
        "data = []\n",
        "\n",
        "def f(repo):\n",
        "    start = time.time()\n",
        "    df = parse_repo_commits(repo)\n",
        "    #df.to_pickle(f\"./repos/{repo.replace('/', '+')}.pkl\")\n",
        "    end = time.time()\n",
        "    print(f\"{repo} took {end-start} seconds\")\n",
        "    return df\n",
        "\n",
        "pool = multiprocessing.Pool()\n",
        "outputs = pool.map(f, repodf['repo'][:3])\n",
        "pd.concat(outputs).to_pickle(f\"{root}/data.pkl\")"
      ],
      "id": "0f65faf9",
      "execution_count": null,
      "outputs": []
    },
    {
      "cell_type": "code",
      "metadata": {
        "id": "04bfe004"
      },
      "source": [
        "df = pd.read_pickle(\"data.pkl\")\n",
        "df.head(3)"
      ],
      "id": "04bfe004",
      "execution_count": null,
      "outputs": []
    },
    {
      "cell_type": "code",
      "metadata": {
        "id": "FmB-28AA2Vh6"
      },
      "source": [
        ""
      ],
      "id": "FmB-28AA2Vh6",
      "execution_count": null,
      "outputs": []
    }
  ]
}