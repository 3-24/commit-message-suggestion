{
 "cells": [
  {
   "cell_type": "code",
   "execution_count": 1,
   "id": "TySV2A3KyKzL",
   "metadata": {
    "colab": {
     "base_uri": "https://localhost:8080/"
    },
    "id": "TySV2A3KyKzL",
    "outputId": "c8925147-2612-459a-d2e0-706610fb3a56"
   },
   "outputs": [
    {
     "name": "stdout",
     "output_type": "stream",
     "text": [
      "Mounted at /gdrive\n"
     ]
    }
   ],
   "source": [
    "# mount drive https://datascience.stackexchange.com/questions/29480/uploading-images-folder-from-my-system-into-google-colab\n",
    "# login with your google account and type authorization code to mount on your googlbie drive.\n",
    "from google.colab import drive\n",
    "drive.mount('/gdrive')\n",
    "root = '/gdrive/My Drive/CS492I/project'"
   ]
  },
  {
   "cell_type": "code",
   "execution_count": 1,
   "id": "87dd4f62",
   "metadata": {},
   "outputs": [],
   "source": [
    "root = '.'"
   ]
  },
  {
   "cell_type": "markdown",
   "id": "8a5ade31",
   "metadata": {
    "id": "8a5ade31"
   },
   "source": [
    "## 1. Collect CodeSearchNet Repositories"
   ]
  },
  {
   "cell_type": "code",
   "execution_count": null,
   "id": "c06bb109",
   "metadata": {
    "id": "c06bb109"
   },
   "outputs": [],
   "source": [
    "import json\n",
    "\n",
    "import pandas as pd\n",
    "from pathlib import Path\n",
    "pd.set_option('max_colwidth',300)\n",
    "from pprint import pprint"
   ]
  },
  {
   "cell_type": "code",
   "execution_count": null,
   "id": "4c50cf9b",
   "metadata": {
    "colab": {
     "base_uri": "https://localhost:8080/"
    },
    "id": "4c50cf9b",
    "outputId": "62b49b1b-cc12-44cd-beae-68503a6886e1"
   },
   "outputs": [
    {
     "name": "stdout",
     "output_type": "stream",
     "text": [
      "--2021-12-03 07:32:59--  https://s3.amazonaws.com/code-search-net/CodeSearchNet/v2/python.zip\n",
      "Resolving s3.amazonaws.com (s3.amazonaws.com)... 52.217.69.238\n",
      "Connecting to s3.amazonaws.com (s3.amazonaws.com)|52.217.69.238|:443... connected.\n",
      "HTTP request sent, awaiting response... 200 OK\n",
      "Length: 940909997 (897M) [application/zip]\n",
      "Saving to: ‘python.zip’\n",
      "\n",
      "python.zip          100%[===================>] 897.32M  65.4MB/s    in 13s     \n",
      "\n",
      "2021-12-03 07:33:12 (68.1 MB/s) - ‘python.zip’ saved [940909997/940909997]\n",
      "\n",
      "Archive:  python.zip\n",
      "   creating: CodeSearchNet/python/\n",
      "   creating: CodeSearchNet/python/final/\n",
      "   creating: CodeSearchNet/python/final/jsonl/\n",
      "   creating: CodeSearchNet/python/final/jsonl/train/\n",
      "  inflating: CodeSearchNet/python/final/jsonl/train/python_train_9.jsonl.gz  \n",
      "  inflating: CodeSearchNet/python/final/jsonl/train/python_train_12.jsonl.gz  \n",
      "  inflating: CodeSearchNet/python/final/jsonl/train/python_train_10.jsonl.gz  \n",
      "  inflating: CodeSearchNet/python/final/jsonl/train/python_train_0.jsonl.gz  \n",
      "  inflating: CodeSearchNet/python/final/jsonl/train/python_train_6.jsonl.gz  \n",
      "  inflating: CodeSearchNet/python/final/jsonl/train/python_train_2.jsonl.gz  \n",
      "  inflating: CodeSearchNet/python/final/jsonl/train/python_train_4.jsonl.gz  \n",
      "  inflating: CodeSearchNet/python/final/jsonl/train/python_train_8.jsonl.gz  \n",
      "  inflating: CodeSearchNet/python/final/jsonl/train/python_train_11.jsonl.gz  \n",
      "  inflating: CodeSearchNet/python/final/jsonl/train/python_train_5.jsonl.gz  \n",
      "  inflating: CodeSearchNet/python/final/jsonl/train/python_train_13.jsonl.gz  \n",
      "  inflating: CodeSearchNet/python/final/jsonl/train/python_train_3.jsonl.gz  \n",
      "  inflating: CodeSearchNet/python/final/jsonl/train/python_train_1.jsonl.gz  \n",
      "  inflating: CodeSearchNet/python/final/jsonl/train/python_train_7.jsonl.gz  \n",
      "   creating: CodeSearchNet/python/final/jsonl/test/\n",
      "  inflating: CodeSearchNet/python/final/jsonl/test/python_test_0.jsonl.gz  \n",
      "   creating: CodeSearchNet/python/final/jsonl/valid/\n",
      "  inflating: CodeSearchNet/python/final/jsonl/valid/python_valid_0.jsonl.gz  \n",
      "  inflating: CodeSearchNet/python_dedupe_definitions_v2.pkl  \n",
      "  inflating: CodeSearchNet/python_licenses.pkl  \n"
     ]
    }
   ],
   "source": [
    "!wget https://s3.amazonaws.com/code-search-net/CodeSearchNet/v2/python.zip\n",
    "!mkdir CodeSearchNet\n",
    "!unzip python.zip -d CodeSearchNet"
   ]
  },
  {
   "cell_type": "code",
   "execution_count": null,
   "id": "2847085c",
   "metadata": {
    "colab": {
     "base_uri": "https://localhost:8080/"
    },
    "id": "2847085c",
    "outputId": "b98d532c-a88f-43db-c790-a0986fdddffe"
   },
   "outputs": [
    {
     "name": "stdout",
     "output_type": "stream",
     "text": [
      "[PosixPath('CodeSearchNet/python/final/jsonl/test/python_test_0.jsonl.gz'), PosixPath('CodeSearchNet/python/final/jsonl/train/python_train_0.jsonl.gz'), PosixPath('CodeSearchNet/python/final/jsonl/train/python_train_1.jsonl.gz'), PosixPath('CodeSearchNet/python/final/jsonl/train/python_train_10.jsonl.gz'), PosixPath('CodeSearchNet/python/final/jsonl/train/python_train_11.jsonl.gz'), PosixPath('CodeSearchNet/python/final/jsonl/train/python_train_12.jsonl.gz'), PosixPath('CodeSearchNet/python/final/jsonl/train/python_train_13.jsonl.gz'), PosixPath('CodeSearchNet/python/final/jsonl/train/python_train_2.jsonl.gz'), PosixPath('CodeSearchNet/python/final/jsonl/train/python_train_3.jsonl.gz'), PosixPath('CodeSearchNet/python/final/jsonl/train/python_train_4.jsonl.gz'), PosixPath('CodeSearchNet/python/final/jsonl/train/python_train_5.jsonl.gz'), PosixPath('CodeSearchNet/python/final/jsonl/train/python_train_6.jsonl.gz'), PosixPath('CodeSearchNet/python/final/jsonl/train/python_train_7.jsonl.gz'), PosixPath('CodeSearchNet/python/final/jsonl/train/python_train_8.jsonl.gz'), PosixPath('CodeSearchNet/python/final/jsonl/train/python_train_9.jsonl.gz'), PosixPath('CodeSearchNet/python/final/jsonl/valid/python_valid_0.jsonl.gz')]\n"
     ]
    }
   ],
   "source": [
    "python_files = sorted(Path('CodeSearchNet/python').glob('**/*.gz'))\n",
    "print(python_files)"
   ]
  },
  {
   "cell_type": "code",
   "execution_count": null,
   "id": "8aa7dbe1",
   "metadata": {
    "id": "8aa7dbe1"
   },
   "outputs": [],
   "source": [
    "columns_long_list = ['repo', 'path', 'url', 'code', \n",
    "                     'code_tokens', 'docstring', 'docstring_tokens', \n",
    "                     'language', 'partition']\n",
    "\n",
    "def jsonl_list_to_dataframe(file_list, columns=columns_long_list):\n",
    "    \"\"\"Load a list of jsonl.gz files into a pandas DataFrame.\"\"\"\n",
    "    return pd.concat([pd.read_json(f, \n",
    "                                   orient='records', \n",
    "                                   compression='gzip',\n",
    "                                   lines=True)[columns] \n",
    "                      for f in file_list], sort=False)"
   ]
  },
  {
   "cell_type": "code",
   "execution_count": null,
   "id": "be6c1c77",
   "metadata": {
    "id": "be6c1c77"
   },
   "outputs": [],
   "source": [
    "pydf = jsonl_list_to_dataframe(python_files, columns=['repo'])\n",
    "pydf = pydf.drop_duplicates().reset_index(drop=True)\n",
    "pydf.to_pickle(f\"{root}/repos.pkl\")"
   ]
  },
  {
   "cell_type": "markdown",
   "id": "1d0559c4",
   "metadata": {
    "id": "1d0559c4"
   },
   "source": [
    "## 2. Collect diff and commits"
   ]
  },
  {
   "cell_type": "code",
   "execution_count": 3,
   "id": "8ee24339",
   "metadata": {
    "colab": {
     "base_uri": "https://localhost:8080/"
    },
    "id": "8ee24339",
    "outputId": "f81ca97a-b637-4ea1-f52d-e67c8bb79993"
   },
   "outputs": [
    {
     "name": "stdout",
     "output_type": "stream",
     "text": [
      "Defaulting to user installation because normal site-packages is not writeable\n",
      "Requirement already satisfied: pydriller in /home/minus21/.local/lib/python3.9/site-packages (2.0)\n",
      "Requirement already satisfied: gitpython in /home/minus21/.local/lib/python3.9/site-packages (from pydriller) (3.1.24)\n",
      "Requirement already satisfied: pytz in /home/minus21/.local/lib/python3.9/site-packages (from pydriller) (2021.1)\n",
      "Requirement already satisfied: lizard in /home/minus21/.local/lib/python3.9/site-packages (from pydriller) (1.17.9)\n",
      "Requirement already satisfied: gitdb<5,>=4.0.1 in /home/minus21/.local/lib/python3.9/site-packages (from gitpython->pydriller) (4.0.9)\n",
      "Requirement already satisfied: typing-extensions>=3.7.4.3 in /home/minus21/.local/lib/python3.9/site-packages (from gitpython->pydriller) (3.10.0.0)\n",
      "Requirement already satisfied: smmap<6,>=3.0.1 in /home/minus21/.local/lib/python3.9/site-packages (from gitdb<5,>=4.0.1->gitpython->pydriller) (5.0.0)\n",
      "Defaulting to user installation because normal site-packages is not writeable\n",
      "Requirement already satisfied: pandas in /home/minus21/.local/lib/python3.9/site-packages (1.3.2)\n",
      "Requirement already satisfied: numpy>=1.17.3 in /home/minus21/.local/lib/python3.9/site-packages (from pandas) (1.21.2)\n",
      "Requirement already satisfied: pytz>=2017.3 in /home/minus21/.local/lib/python3.9/site-packages (from pandas) (2021.1)\n",
      "Requirement already satisfied: python-dateutil>=2.7.3 in /home/minus21/.local/lib/python3.9/site-packages (from pandas) (2.8.2)\n",
      "Requirement already satisfied: six>=1.5 in /home/minus21/.local/lib/python3.9/site-packages (from python-dateutil>=2.7.3->pandas) (1.16.0)\n",
      "Defaulting to user installation because normal site-packages is not writeable\n",
      "Collecting nltk\n",
      "  Using cached nltk-3.6.5-py3-none-any.whl (1.5 MB)\n",
      "Requirement already satisfied: tqdm in /home/minus21/.local/lib/python3.9/site-packages (from nltk) (4.62.1)\n",
      "Requirement already satisfied: click in /home/minus21/.local/lib/python3.9/site-packages (from nltk) (8.0.1)\n",
      "Collecting regex>=2021.8.3\n",
      "  Using cached regex-2021.11.10-cp39-cp39-manylinux_2_17_x86_64.manylinux2014_x86_64.whl (763 kB)\n",
      "Requirement already satisfied: joblib in /home/minus21/.local/lib/python3.9/site-packages (from nltk) (1.0.1)\n",
      "Installing collected packages: regex, nltk\n",
      "Successfully installed nltk-3.6.5 regex-2021.11.10\n"
     ]
    }
   ],
   "source": [
    "!pip install pydriller\n",
    "!pip install pandas\n",
    "!pip install nltk"
   ]
  },
  {
   "cell_type": "code",
   "execution_count": 4,
   "id": "72e76292",
   "metadata": {
    "id": "72e76292"
   },
   "outputs": [],
   "source": [
    "from pydriller import *\n",
    "import pandas as pd\n",
    "from nltk.tokenize import regexp_tokenize\n",
    "import re\n",
    "from itertools import chain\n",
    "import json"
   ]
  },
  {
   "cell_type": "code",
   "execution_count": 5,
   "id": "845d5eb7",
   "metadata": {
    "colab": {
     "base_uri": "https://localhost:8080/"
    },
    "id": "845d5eb7",
    "outputId": "caa8a149-1a31-4bbd-ad38-032ebb4c2c2d"
   },
   "outputs": [
    {
     "name": "stdout",
     "output_type": "stream",
     "text": [
      "(13590, 1)\n",
      "                                 repo\n",
      "0                     soimort/you-get\n",
      "1                      apache/airflow\n",
      "2                      pytorch/vision\n",
      "3                      asciimoo/searx\n",
      "4              tensorflow/probability\n",
      "...                               ...\n",
      "13585         praekelt/python-ambient\n",
      "13586                 zenreach/py-era\n",
      "13587  TakesxiSximada/custom_settings\n",
      "13588            openpermissions/bass\n",
      "13589               xnuinside/clifier\n",
      "\n",
      "[13590 rows x 1 columns]\n"
     ]
    }
   ],
   "source": [
    "repodf = pd.read_pickle(f\"{root}/repos.pkl\")\n",
    "print(repodf.shape)\n",
    "print(repodf)"
   ]
  },
  {
   "cell_type": "code",
   "execution_count": 18,
   "id": "449680fc",
   "metadata": {
    "id": "449680fc"
   },
   "outputs": [],
   "source": [
    "def basic_filter(message):\n",
    "    return message.split(\"\\n\", 1)[0].strip()\n",
    "\n",
    "# Remove [label] in front of commit if exists\n",
    "def label_filter(message):\n",
    "    if (message.startswith('[')):\n",
    "        end_bracket_index = message.find(']')\n",
    "        if (end_bracket_index == -1):\n",
    "            return None\n",
    "        return message[end_bracket_index+1:]\n",
    "    return message\n",
    "\n",
    "def camel_case_split(str):\n",
    "    return re.findall(r'[A-Z](?:[a-z]+|[A-Z]*(?=[A-Z]|$))', str)\n",
    "\n",
    "def case_splitter(token):\n",
    "    return list(map(lambda x: x.lower(), camel_case_split(token[0].upper() + token[1:]) if token[0].isalpha() else [token]))\n",
    "\n",
    "\n",
    "def split_by_quote(diff):\n",
    "    text_list = [(0,0)]\n",
    "    quote_state = 0 #[\"out\",\"single\",\"double\",\"Single\",\"Double\",\"quote\"]\n",
    "    i=0\n",
    "    while i<len(diff):\n",
    "      if diff[i] == \"\\\\\":i+=1\n",
    "      elif (diff[i] == \"\\n\" and quote_state == 5) or (diff[i] == '#' and quote_state == 0):\n",
    "        text_list.append((quote_state,i))\n",
    "        quote_state = abs(5-quote_state)\n",
    "      elif diff[i] == '\"':\n",
    "        if i+2<len(diff) and diff[i:i+3]=='\"\"\"' and (quote_state == 0 or quote_state ==4):\n",
    "          text_list.append((quote_state,i+max(quote_state-1,0)))\n",
    "          quote_state = abs(4-quote_state)\n",
    "          i+=2\n",
    "        elif quote_state == 0 or quote_state == 2:\n",
    "          text_list.append((quote_state,i+max(quote_state-1,0)))\n",
    "          quote_state = abs(2-quote_state)\n",
    "      elif diff[i] == \"'\":\n",
    "        if i+2<len(diff) and diff[i:i+3] == \"'''\" and (quote_state == 0 or quote_state == 3):\n",
    "          text_list.append((quote_state,i+quote_state))\n",
    "          quote_state = abs(3-quote_state)\n",
    "          i+=2\n",
    "        elif quote_state == 0 or quote_state == 1:\n",
    "          text_list.append((quote_state,i+quote_state))\n",
    "          quote_state = abs(1-quote_state)\n",
    "      i+=1\n",
    "    text_list.append((quote_state,i))\n",
    "    return [(text_list[i][0]==0,diff[text_list[i-1][1]:text_list[i][1]]) for i in range(1,len(text_list))]\n",
    "  \n",
    "\n",
    "token_regex = r\"\"\"(?x)\n",
    "<(?:add|del)>   #Filtered eariler\n",
    "|(?:[-+*/^&~|=%!<>@?$][\\s]*)+     #Sequence of symbols\n",
    "|[\\n]                    #Change row\n",
    "|[a-zA-Z]+               #General text\n",
    "|[0-9]+                  #Number\n",
    "\"\"\"\n",
    "string_regex = r\"\"\"(?x)\n",
    "<(?:add|del)>\n",
    "|[\\n]\n",
    "|[a-zA-Z]+\n",
    "\"\"\"\n",
    "def diff_tokenizer(diff_text):\n",
    "    diff = '\\n'.join(map(lambda x: x[1], filter(lambda y: y[0] % 2 == 0, enumerate(diff_text.split(\"@@\")))))\n",
    "    diff = diff.replace('\\n+', '\\n<add>').replace('\\n-', '\\n<del>')\n",
    "    diff = re.sub(r\"(?:\\n[ \\t\\r\\f\\v]*)+\",\"\\n\",diff) # Join continuous row change\n",
    "    quote_split = split_by_quote(diff)\n",
    "    token_initial = chain.from_iterable(map(lambda a: regexp_tokenize(a[1],(token_regex if a[0] else string_regex)), quote_split))\n",
    "    token_camel_case_split = chain.from_iterable(map(case_splitter, token_initial))\n",
    "    return token_camel_case_split\n",
    "\n",
    "\n",
    "def commit_msg_tokenizer(msg):\n",
    "    line = basic_filter(msg)\n",
    "    line = label_filter(line)\n",
    "    if (line is None):\n",
    "        return None\n",
    "    if line.count(\"`\")%2 == 1:\n",
    "        return None\n",
    "    \n",
    "    backtick_regex = r\"`[^`]+`|[^`]+\"\n",
    "    line_divided_by_backtick = re.findall(backtick_regex,line)\n",
    "    tokens = chain.from_iterable(map(lambda text: regexp_tokenize(text,(token_regex if text[0] == '`' else string_regex)),line_divided_by_backtick))\n",
    "    commit_tokens = list(chain.from_iterable(map(case_splitter, tokens)))\n",
    "    if (len(commit_tokens) < 3 or len(commit_tokens) > 30):\n",
    "        return None\n",
    "    if (\"version\" in commit_tokens):\n",
    "        return None\n",
    "    return commit_tokens\n",
    "\n",
    "def parse_repo_commits(repo_name, commit_limit=50):\n",
    "    data = []\n",
    "    commit_count = 0\n",
    "    commit_count_traversed = 0\n",
    "    for commit in Repository(\n",
    "        f\"https://github.com/{repo_name}\",\n",
    "        only_modifications_with_file_types=[\".py\"],\n",
    "        only_no_merge=True,\n",
    "        order='reverse'\n",
    "    ).traverse_commits():\n",
    "        commit_count_traversed += 1\n",
    "        if (commit_count >= commit_limit): break\n",
    "        \n",
    "        commit_tokens = commit_msg_tokenizer(commit.msg)\n",
    "        if (commit_tokens is None):\n",
    "            continue\n",
    "        \n",
    "        # Check if changed files are python\n",
    "        file_failed = False\n",
    "        count_diff_lines = 0\n",
    "\n",
    "        for mf in commit.modified_files:\n",
    "            if (not mf.filename.endswith(\".py\")):\n",
    "                file_failed = True\n",
    "                break\n",
    "            count_diff_lines += mf.added_lines + mf.deleted_lines\n",
    "        \n",
    "        if (file_failed):\n",
    "            continue\n",
    "        \n",
    "        if (count_diff_lines > 50):\n",
    "            continue\n",
    "        \n",
    "        # Create diff tokens\n",
    "        diff_tokens = []\n",
    "        for f in commit.modified_files:\n",
    "          diff_tokens.append (['<file>'])\n",
    "          diff_tokens.append(diff_tokenizer(f.diff))\n",
    "\n",
    "        diff_whole_tokens = list(chain.from_iterable(diff_tokens))\n",
    "\n",
    "        data.append([repo_name, commit.hash, json.dumps(commit_tokens), json.dumps(diff_whole_tokens)])\n",
    "        commit_count += 1\n",
    "      \n",
    "    \n",
    "    print(f\"[DEBUG] {repo_name}: {len(data)} / {commit_count_traversed}\")\n",
    "    return pd.DataFrame(data, columns=[\"repo\", \"hash\", \"commit_messsage\", \"diff\"])"
   ]
  },
  {
   "cell_type": "code",
   "execution_count": 19,
   "id": "b2854419",
   "metadata": {
    "colab": {
     "base_uri": "https://localhost:8080/",
     "height": 398
    },
    "id": "b2854419",
    "outputId": "dcd52d1c-730b-4ed0-e33b-1d60b7eef60f"
   },
   "outputs": [
    {
     "name": "stdout",
     "output_type": "stream",
     "text": [
      "commit_tokens limit exceeded\n",
      "['misc', 'enhancements']\n",
      "[otci] misc enhancements (#7104)\n",
      "commit_tokens limit exceeded\n",
      "['misc', 'enhancements']\n",
      "[otci] misc enhancements (#6753)\n",
      "[DEBUG] openthread/openthread: 50 / 100\n",
      "24.354034423828125\n"
     ]
    },
    {
     "data": {
      "text/html": [
       "<div>\n",
       "<style scoped>\n",
       "    .dataframe tbody tr th:only-of-type {\n",
       "        vertical-align: middle;\n",
       "    }\n",
       "\n",
       "    .dataframe tbody tr th {\n",
       "        vertical-align: top;\n",
       "    }\n",
       "\n",
       "    .dataframe thead th {\n",
       "        text-align: right;\n",
       "    }\n",
       "</style>\n",
       "<table border=\"1\" class=\"dataframe\">\n",
       "  <thead>\n",
       "    <tr style=\"text-align: right;\">\n",
       "      <th></th>\n",
       "      <th>repo</th>\n",
       "      <th>hash</th>\n",
       "      <th>commit_messsage</th>\n",
       "      <th>diff</th>\n",
       "    </tr>\n",
       "  </thead>\n",
       "  <tbody>\n",
       "    <tr>\n",
       "      <th>0</th>\n",
       "      <td>openthread/openthread</td>\n",
       "      <td>b2c0c1a2af710225949f35ceb2af94504808796e</td>\n",
       "      <td>[\"use\", \"xa\", \"instead\", \"of\", \"dd\", \"in\", \"th...</td>\n",
       "      <td>[\"&lt;file&gt;\", \"\\n\", \"class\", \"test\", \"dnssd\", \"se...</td>\n",
       "    </tr>\n",
       "    <tr>\n",
       "      <th>1</th>\n",
       "      <td>openthread/openthread</td>\n",
       "      <td>775c568286d22268def6ffd7da3723a938825259</td>\n",
       "      <td>[\"fix\", \"failing\", \"thread\", \"cert\", \"tests\"]</td>\n",
       "      <td>[\"&lt;file&gt;\", \"\\n\", \"class\", \"open\", \"thread\", \"t...</td>\n",
       "    </tr>\n",
       "    <tr>\n",
       "      <th>2</th>\n",
       "      <td>openthread/openthread</td>\n",
       "      <td>2d16fa25e4ec8ff1309400e1ae7548345a4335b9</td>\n",
       "      <td>[\"fix\", \"test\", \"publish\", \"meshcop\", \"service...</td>\n",
       "      <td>[\"&lt;file&gt;\", \"\\n\", \"class\", \"publish\", \"mesh\", \"...</td>\n",
       "    </tr>\n",
       "    <tr>\n",
       "      <th>3</th>\n",
       "      <td>openthread/openthread</td>\n",
       "      <td>02d29cd5e343c3eb17840251b7feaa9345892895</td>\n",
       "      <td>[\"update\", \"meshcop\", \"service\", \"test\", \"case\"]</td>\n",
       "      <td>[\"&lt;file&gt;\", \"\\n\", \"class\", \"publish\", \"mesh\", \"...</td>\n",
       "    </tr>\n",
       "    <tr>\n",
       "      <th>4</th>\n",
       "      <td>openthread/openthread</td>\n",
       "      <td>cf4b71d8b90122f753486215557af46b25bc2185</td>\n",
       "      <td>[\"fix\", \"issue\", \"with\", \"not\", \"initialized\",...</td>\n",
       "      <td>[\"&lt;file&gt;\", \"\\n\", \"class\", \"open\", \"thread\", \"t...</td>\n",
       "    </tr>\n",
       "    <tr>\n",
       "      <th>5</th>\n",
       "      <td>openthread/openthread</td>\n",
       "      <td>3dd184a0bc9577c2135f547fe16cd72454f6db26</td>\n",
       "      <td>[\"verify\", \"the\", \"number\", \"of\", \"published\",...</td>\n",
       "      <td>[\"&lt;file&gt;\", \"\\n\", \"class\", \"publish\", \"mesh\", \"...</td>\n",
       "    </tr>\n",
       "    <tr>\n",
       "      <th>6</th>\n",
       "      <td>openthread/openthread</td>\n",
       "      <td>0e8b6604cb256cef828a0ebb37bdd031cdf0677d</td>\n",
       "      <td>[\"add\", \"set\", \"ccm\", \"state\", \"method\", \"in\",...</td>\n",
       "      <td>[\"&lt;file&gt;\", \"\\n\", \"class\", \"open\", \"thread\", \"t...</td>\n",
       "    </tr>\n",
       "    <tr>\n",
       "      <th>7</th>\n",
       "      <td>openthread/openthread</td>\n",
       "      <td>e67f432284914aa6d2675a2df0507f44aa4a0e92</td>\n",
       "      <td>[\"fix\", \"for\", \"grl\", \"th\", \"leader\", \"leader\"]</td>\n",
       "      <td>[\"&lt;file&gt;\", \"\\n\", \"class\", \"open\", \"thread\", \"t...</td>\n",
       "    </tr>\n",
       "    <tr>\n",
       "      <th>8</th>\n",
       "      <td>openthread/openthread</td>\n",
       "      <td>130957d48981c1294c8fc90d51556134cf935d6f</td>\n",
       "      <td>[\"fix\", \"issue\", \"with\", \"is\", \"power\", \"down\"...</td>\n",
       "      <td>[\"&lt;file&gt;\", \"\\n\", \"class\", \"open\", \"thread\", \"t...</td>\n",
       "    </tr>\n",
       "    <tr>\n",
       "      <th>9</th>\n",
       "      <td>openthread/openthread</td>\n",
       "      <td>825227a71a6c70f8b046f5c66a91cde8abd14757</td>\n",
       "      <td>[\"fix\", \"mdns\", \"query\"]</td>\n",
       "      <td>[\"&lt;file&gt;\", \"\\n\", \"eof\", \"\\n\", \"print\", \"mdns\",...</td>\n",
       "    </tr>\n",
       "  </tbody>\n",
       "</table>\n",
       "</div>"
      ],
      "text/plain": [
       "                    repo                                      hash  \\\n",
       "0  openthread/openthread  b2c0c1a2af710225949f35ceb2af94504808796e   \n",
       "1  openthread/openthread  775c568286d22268def6ffd7da3723a938825259   \n",
       "2  openthread/openthread  2d16fa25e4ec8ff1309400e1ae7548345a4335b9   \n",
       "3  openthread/openthread  02d29cd5e343c3eb17840251b7feaa9345892895   \n",
       "4  openthread/openthread  cf4b71d8b90122f753486215557af46b25bc2185   \n",
       "5  openthread/openthread  3dd184a0bc9577c2135f547fe16cd72454f6db26   \n",
       "6  openthread/openthread  0e8b6604cb256cef828a0ebb37bdd031cdf0677d   \n",
       "7  openthread/openthread  e67f432284914aa6d2675a2df0507f44aa4a0e92   \n",
       "8  openthread/openthread  130957d48981c1294c8fc90d51556134cf935d6f   \n",
       "9  openthread/openthread  825227a71a6c70f8b046f5c66a91cde8abd14757   \n",
       "\n",
       "                                     commit_messsage  \\\n",
       "0  [\"use\", \"xa\", \"instead\", \"of\", \"dd\", \"in\", \"th...   \n",
       "1      [\"fix\", \"failing\", \"thread\", \"cert\", \"tests\"]   \n",
       "2  [\"fix\", \"test\", \"publish\", \"meshcop\", \"service...   \n",
       "3   [\"update\", \"meshcop\", \"service\", \"test\", \"case\"]   \n",
       "4  [\"fix\", \"issue\", \"with\", \"not\", \"initialized\",...   \n",
       "5  [\"verify\", \"the\", \"number\", \"of\", \"published\",...   \n",
       "6  [\"add\", \"set\", \"ccm\", \"state\", \"method\", \"in\",...   \n",
       "7    [\"fix\", \"for\", \"grl\", \"th\", \"leader\", \"leader\"]   \n",
       "8  [\"fix\", \"issue\", \"with\", \"is\", \"power\", \"down\"...   \n",
       "9                           [\"fix\", \"mdns\", \"query\"]   \n",
       "\n",
       "                                                diff  \n",
       "0  [\"<file>\", \"\\n\", \"class\", \"test\", \"dnssd\", \"se...  \n",
       "1  [\"<file>\", \"\\n\", \"class\", \"open\", \"thread\", \"t...  \n",
       "2  [\"<file>\", \"\\n\", \"class\", \"publish\", \"mesh\", \"...  \n",
       "3  [\"<file>\", \"\\n\", \"class\", \"publish\", \"mesh\", \"...  \n",
       "4  [\"<file>\", \"\\n\", \"class\", \"open\", \"thread\", \"t...  \n",
       "5  [\"<file>\", \"\\n\", \"class\", \"publish\", \"mesh\", \"...  \n",
       "6  [\"<file>\", \"\\n\", \"class\", \"open\", \"thread\", \"t...  \n",
       "7  [\"<file>\", \"\\n\", \"class\", \"open\", \"thread\", \"t...  \n",
       "8  [\"<file>\", \"\\n\", \"class\", \"open\", \"thread\", \"t...  \n",
       "9  [\"<file>\", \"\\n\", \"eof\", \"\\n\", \"print\", \"mdns\",...  "
      ]
     },
     "execution_count": 19,
     "metadata": {},
     "output_type": "execute_result"
    }
   ],
   "source": [
    "import time\n",
    "start = time.time()\n",
    "#df = parse_repo_commits(\"soimort/you-get\")\n",
    "df = parse_repo_commits(\"openthread/openthread\")\n",
    "end = time.time()\n",
    "print(end - start)\n",
    "df.head(10)"
   ]
  },
  {
   "cell_type": "markdown",
   "id": "3Dn9Co_Izwuf",
   "metadata": {
    "id": "3Dn9Co_Izwuf"
   },
   "source": [
    "# 3. Create whole dataset via Multiprocessing"
   ]
  },
  {
   "cell_type": "code",
   "execution_count": null,
   "id": "0f65faf9",
   "metadata": {
    "colab": {
     "base_uri": "https://localhost:8080/"
    },
    "id": "0f65faf9",
    "outputId": "189d02ed-6e97-4707-addf-3461178eb052"
   },
   "outputs": [
    {
     "name": "stdout",
     "output_type": "stream",
     "text": [
      "[DEBUG] waleedka/hiddenlayer: 24 / 47\n",
      "waleedka/hiddenlayer took 2.4295148849487305 seconds\n",
      "[DEBUG] soimort/you-get: 50 / 147\n",
      "soimort/you-get took 4.361461400985718 seconds\n",
      "[DEBUG] dpkp/kafka-python: 50 / 99\n",
      "dpkp/kafka-python took 3.832676887512207 seconds\n",
      "[DEBUG] davesque/django-rest-framework-simplejwt: 50 / 107\n",
      "davesque/django-rest-framework-simplejwt took 7.455304145812988 seconds\n",
      "[DEBUG] python-openxml/python-docx: 50 / 204\n",
      "python-openxml/python-docx took 8.924680709838867 seconds\n",
      "[DEBUG] apache/airflow: 50 / 93\n",
      "apache/airflow took 21.431981563568115 seconds\n",
      "[DEBUG] santosjorge/cufflinks: 50 / 84\n",
      "santosjorge/cufflinks took 8.110775709152222 seconds\n",
      "[DEBUG] HazyResearch/metal: 50 / 91\n",
      "HazyResearch/metal took 11.781491041183472 seconds\n",
      "[DEBUG] pytorch/vision: 50 / 112\n",
      "pytorch/vision took 22.541443824768066 seconds\n",
      "[DEBUG] gboeing/osmnx: 50 / 110\n",
      "gboeing/osmnx took 5.95318603515625 seconds\n",
      "[DEBUG] QuantEcon/QuantEcon.py: 50 / 84\n",
      "QuantEcon/QuantEcon.py took 5.399044513702393 seconds\n",
      "[DEBUG] miguelgrinberg/python-socketio: 50 / 150\n",
      "miguelgrinberg/python-socketio took 7.866117000579834 seconds\n",
      "[DEBUG] asciimoo/searx: 50 / 382\n",
      "asciimoo/searx took 21.88844656944275 seconds\n",
      "[DEBUG] pallets/flask-sqlalchemy: 50 / 136\n",
      "pallets/flask-sqlalchemy took 9.32278060913086 seconds\n",
      "[DEBUG] robertmartin8/PyPortfolioOpt: 50 / 132\n",
      "robertmartin8/PyPortfolioOpt took 9.849188566207886 seconds\n",
      "[DEBUG] miguelgrinberg/Flask-SocketIO: 50 / 108\n",
      "miguelgrinberg/Flask-SocketIO took 5.96581506729126 seconds\n",
      "[DEBUG] tensorflow/probability: 50 / 119\n",
      "tensorflow/probability took 19.616624355316162 seconds\n",
      "[DEBUG] intel-analytics/BigDL: 50 / 244\n",
      "intel-analytics/BigDL took 46.980412006378174 seconds\n",
      "[DEBUG] deepmipt/DeepPavlov: 50 / 165\n",
      "deepmipt/DeepPavlov took 15.661355018615723 seconds\n"
     ]
    }
   ],
   "source": [
    "import multiprocessing\n",
    "\n",
    "data = []\n",
    "\n",
    "obj_len = len(repodf['repo']) // 2\n",
    "\n",
    "def f(repo):\n",
    "    start = time.time()\n",
    "    df = parse_repo_commits(repo)\n",
    "    #df.to_pickle(f\"./repos/{repo.replace('/', '+')}.pkl\")\n",
    "    end = time.time()\n",
    "    print(f\"{repo} took {end-start} seconds\")\n",
    "    return df\n",
    "\n",
    "pool = multiprocessing.Pool()\n",
    "\n",
    "outputs = pool.map(f, repodf['repo'][:obj_len])\n",
    "pd.concat(outputs).to_pickle(f\"{root}/data.pkl\")"
   ]
  },
  {
   "cell_type": "code",
   "execution_count": 11,
   "id": "04bfe004",
   "metadata": {
    "colab": {
     "base_uri": "https://localhost:8080/",
     "height": 143
    },
    "id": "04bfe004",
    "outputId": "9b89d00f-ec36-4eb7-eaca-240bff0d78b3"
   },
   "outputs": [
    {
     "data": {
      "text/html": [
       "<div>\n",
       "<style scoped>\n",
       "    .dataframe tbody tr th:only-of-type {\n",
       "        vertical-align: middle;\n",
       "    }\n",
       "\n",
       "    .dataframe tbody tr th {\n",
       "        vertical-align: top;\n",
       "    }\n",
       "\n",
       "    .dataframe thead th {\n",
       "        text-align: right;\n",
       "    }\n",
       "</style>\n",
       "<table border=\"1\" class=\"dataframe\">\n",
       "  <thead>\n",
       "    <tr style=\"text-align: right;\">\n",
       "      <th></th>\n",
       "      <th>repo</th>\n",
       "      <th>hash</th>\n",
       "      <th>commit_messsage</th>\n",
       "      <th>diff</th>\n",
       "    </tr>\n",
       "  </thead>\n",
       "  <tbody>\n",
       "    <tr>\n",
       "      <th>0</th>\n",
       "      <td>soimort/you-get</td>\n",
       "      <td>5a12118c836b0b9a7a2f8bdbed25be9aa2ca7831</td>\n",
       "      <td>[\"add\", \"param\", \"postfix\", \"to\", \"postfix\", \"...</td>\n",
       "      <td>[\"&lt;file&gt;\", \"\\n\", \"output\", \"filename\", \"= \", \"...</td>\n",
       "    </tr>\n",
       "    <tr>\n",
       "      <th>1</th>\n",
       "      <td>soimort/you-get</td>\n",
       "      <td>3f47a215bf5f73e73cd7aa607b340a7b68b9bd3d</td>\n",
       "      <td>[\"fix\", \"the\", \"name\", \"m\", \"u\", \"is\", \"not\", ...</td>\n",
       "      <td>[\"&lt;file&gt;\", \"\\n\", \"cookies\", \"= \", \"none\", \"\\n\"...</td>\n",
       "    </tr>\n",
       "    <tr>\n",
       "      <th>2</th>\n",
       "      <td>soimort/you-get</td>\n",
       "      <td>424b555500e65da0533d369a80562bb93907ec9a</td>\n",
       "      <td>[\"fix\", \"zhihu\", \"extractor\", \"comment\", \"ld\"]</td>\n",
       "      <td>[\"&lt;file&gt;\", \"\\n\", \"def\", \"zhihu\", \"download\", \"...</td>\n",
       "    </tr>\n",
       "  </tbody>\n",
       "</table>\n",
       "</div>"
      ],
      "text/plain": [
       "              repo  ...                                               diff\n",
       "0  soimort/you-get  ...  [\"<file>\", \"\\n\", \"output\", \"filename\", \"= \", \"...\n",
       "1  soimort/you-get  ...  [\"<file>\", \"\\n\", \"cookies\", \"= \", \"none\", \"\\n\"...\n",
       "2  soimort/you-get  ...  [\"<file>\", \"\\n\", \"def\", \"zhihu\", \"download\", \"...\n",
       "\n",
       "[3 rows x 4 columns]"
      ]
     },
     "execution_count": 11,
     "metadata": {},
     "output_type": "execute_result"
    }
   ],
   "source": [
    "df = pd.read_pickle(f\"{root}/data.pkl\")\n",
    "df.head(3)"
   ]
  },
  {
   "cell_type": "code",
   "execution_count": null,
   "id": "FmB-28AA2Vh6",
   "metadata": {
    "id": "FmB-28AA2Vh6"
   },
   "outputs": [],
   "source": []
  }
 ],
 "metadata": {
  "colab": {
   "name": "Dataset Generation.ipynb",
   "provenance": []
  },
  "kernelspec": {
   "display_name": "Python 3 (ipykernel)",
   "language": "python",
   "name": "python3"
  },
  "language_info": {
   "codemirror_mode": {
    "name": "ipython",
    "version": 3
   },
   "file_extension": ".py",
   "mimetype": "text/x-python",
   "name": "python",
   "nbconvert_exporter": "python",
   "pygments_lexer": "ipython3",
   "version": "3.9.6"
  }
 },
 "nbformat": 4,
 "nbformat_minor": 5
}
