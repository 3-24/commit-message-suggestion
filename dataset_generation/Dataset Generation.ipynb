{
  "nbformat": 4,
  "nbformat_minor": 5,
  "metadata": {
    "kernelspec": {
      "name": "python3",
      "display_name": "Python 3"
    },
    "colab": {
      "name": "Dataset Generation.ipynb",
      "provenance": []
    },
    "language_info": {
      "name": "python"
    }
  },
  "cells": [
    {
      "cell_type": "markdown",
      "metadata": {
        "id": "8a5ade31"
      },
      "source": [
        "## 1. Collect CodeSearchNet Repositories"
      ],
      "id": "8a5ade31"
    },
    {
      "cell_type": "code",
      "metadata": {
        "id": "c06bb109"
      },
      "source": [
        "import json\n",
        "\n",
        "import pandas as pd\n",
        "from pathlib import Path\n",
        "pd.set_option('max_colwidth',300)\n",
        "from pprint import pprint"
      ],
      "id": "c06bb109",
      "execution_count": 1,
      "outputs": []
    },
    {
      "cell_type": "code",
      "metadata": {
        "colab": {
          "base_uri": "https://localhost:8080/"
        },
        "id": "4c50cf9b",
        "outputId": "4fff0001-d78c-48de-aa30-fb387c6af1f8"
      },
      "source": [
        "!wget https://s3.amazonaws.com/code-search-net/CodeSearchNet/v2/python.zip\n",
        "!mkdir CodeSearchNet\n",
        "!unzip python.zip -d CodeSearchNet"
      ],
      "id": "4c50cf9b",
      "execution_count": 2,
      "outputs": [
        {
          "output_type": "stream",
          "name": "stdout",
          "text": [
            "--2021-12-02 05:09:47--  https://s3.amazonaws.com/code-search-net/CodeSearchNet/v2/python.zip\n",
            "Resolving s3.amazonaws.com (s3.amazonaws.com)... 52.216.164.93\n",
            "Connecting to s3.amazonaws.com (s3.amazonaws.com)|52.216.164.93|:443... connected.\n",
            "HTTP request sent, awaiting response... 200 OK\n",
            "Length: 940909997 (897M) [application/zip]\n",
            "Saving to: ‘python.zip’\n",
            "\n",
            "python.zip          100%[===================>] 897.32M  13.6MB/s    in 62s     \n",
            "\n",
            "2021-12-02 05:10:50 (14.4 MB/s) - ‘python.zip’ saved [940909997/940909997]\n",
            "\n",
            "Archive:  python.zip\n",
            "   creating: CodeSearchNet/python/\n",
            "   creating: CodeSearchNet/python/final/\n",
            "   creating: CodeSearchNet/python/final/jsonl/\n",
            "   creating: CodeSearchNet/python/final/jsonl/train/\n",
            "  inflating: CodeSearchNet/python/final/jsonl/train/python_train_9.jsonl.gz  \n",
            "  inflating: CodeSearchNet/python/final/jsonl/train/python_train_12.jsonl.gz  \n",
            "  inflating: CodeSearchNet/python/final/jsonl/train/python_train_10.jsonl.gz  \n",
            "  inflating: CodeSearchNet/python/final/jsonl/train/python_train_0.jsonl.gz  \n",
            "  inflating: CodeSearchNet/python/final/jsonl/train/python_train_6.jsonl.gz  \n",
            "  inflating: CodeSearchNet/python/final/jsonl/train/python_train_2.jsonl.gz  \n",
            "  inflating: CodeSearchNet/python/final/jsonl/train/python_train_4.jsonl.gz  \n",
            "  inflating: CodeSearchNet/python/final/jsonl/train/python_train_8.jsonl.gz  \n",
            "  inflating: CodeSearchNet/python/final/jsonl/train/python_train_11.jsonl.gz  \n",
            "  inflating: CodeSearchNet/python/final/jsonl/train/python_train_5.jsonl.gz  \n",
            "  inflating: CodeSearchNet/python/final/jsonl/train/python_train_13.jsonl.gz  \n",
            "  inflating: CodeSearchNet/python/final/jsonl/train/python_train_3.jsonl.gz  \n",
            "  inflating: CodeSearchNet/python/final/jsonl/train/python_train_1.jsonl.gz  \n",
            "  inflating: CodeSearchNet/python/final/jsonl/train/python_train_7.jsonl.gz  \n",
            "   creating: CodeSearchNet/python/final/jsonl/test/\n",
            "  inflating: CodeSearchNet/python/final/jsonl/test/python_test_0.jsonl.gz  \n",
            "   creating: CodeSearchNet/python/final/jsonl/valid/\n",
            "  inflating: CodeSearchNet/python/final/jsonl/valid/python_valid_0.jsonl.gz  \n",
            "  inflating: CodeSearchNet/python_dedupe_definitions_v2.pkl  \n",
            "  inflating: CodeSearchNet/python_licenses.pkl  \n"
          ]
        }
      ]
    },
    {
      "cell_type": "code",
      "metadata": {
        "id": "2847085c",
        "outputId": "41f9cdc4-f7ee-4719-8721-2bcd3a8b95b2",
        "colab": {
          "base_uri": "https://localhost:8080/"
        }
      },
      "source": [
        "python_files = sorted(Path('CodeSearchNet/python').glob('**/*.gz'))\n",
        "print(python_files)"
      ],
      "id": "2847085c",
      "execution_count": 3,
      "outputs": [
        {
          "output_type": "stream",
          "name": "stdout",
          "text": [
            "[PosixPath('CodeSearchNet/python/final/jsonl/test/python_test_0.jsonl.gz'), PosixPath('CodeSearchNet/python/final/jsonl/train/python_train_0.jsonl.gz'), PosixPath('CodeSearchNet/python/final/jsonl/train/python_train_1.jsonl.gz'), PosixPath('CodeSearchNet/python/final/jsonl/train/python_train_10.jsonl.gz'), PosixPath('CodeSearchNet/python/final/jsonl/train/python_train_11.jsonl.gz'), PosixPath('CodeSearchNet/python/final/jsonl/train/python_train_12.jsonl.gz'), PosixPath('CodeSearchNet/python/final/jsonl/train/python_train_13.jsonl.gz'), PosixPath('CodeSearchNet/python/final/jsonl/train/python_train_2.jsonl.gz'), PosixPath('CodeSearchNet/python/final/jsonl/train/python_train_3.jsonl.gz'), PosixPath('CodeSearchNet/python/final/jsonl/train/python_train_4.jsonl.gz'), PosixPath('CodeSearchNet/python/final/jsonl/train/python_train_5.jsonl.gz'), PosixPath('CodeSearchNet/python/final/jsonl/train/python_train_6.jsonl.gz'), PosixPath('CodeSearchNet/python/final/jsonl/train/python_train_7.jsonl.gz'), PosixPath('CodeSearchNet/python/final/jsonl/train/python_train_8.jsonl.gz'), PosixPath('CodeSearchNet/python/final/jsonl/train/python_train_9.jsonl.gz'), PosixPath('CodeSearchNet/python/final/jsonl/valid/python_valid_0.jsonl.gz')]\n"
          ]
        }
      ]
    },
    {
      "cell_type": "code",
      "metadata": {
        "id": "8aa7dbe1"
      },
      "source": [
        "columns_long_list = ['repo', 'path', 'url', 'code', \n",
        "                     'code_tokens', 'docstring', 'docstring_tokens', \n",
        "                     'language', 'partition']\n",
        "\n",
        "def jsonl_list_to_dataframe(file_list, columns=columns_long_list):\n",
        "    \"\"\"Load a list of jsonl.gz files into a pandas DataFrame.\"\"\"\n",
        "    return pd.concat([pd.read_json(f, \n",
        "                                   orient='records', \n",
        "                                   compression='gzip',\n",
        "                                   lines=True)[columns] \n",
        "                      for f in file_list], sort=False)"
      ],
      "id": "8aa7dbe1",
      "execution_count": 4,
      "outputs": []
    },
    {
      "cell_type": "code",
      "metadata": {
        "id": "be6c1c77"
      },
      "source": [
        "pydf = jsonl_list_to_dataframe(python_files, columns=['repo'])\n",
        "pydf = pydf.drop_duplicates().reset_index(drop=True)\n",
        "pydf.to_pickle(\"repos.pkl\")"
      ],
      "id": "be6c1c77",
      "execution_count": 5,
      "outputs": []
    },
    {
      "cell_type": "markdown",
      "metadata": {
        "id": "1d0559c4"
      },
      "source": [
        "## 2. Collect diff and commits"
      ],
      "id": "1d0559c4"
    },
    {
      "cell_type": "code",
      "metadata": {
        "colab": {
          "base_uri": "https://localhost:8080/"
        },
        "id": "8ee24339",
        "outputId": "974ba14d-982f-4611-9fbe-8754f0d68bed"
      },
      "source": [
        "!mkdir repos\n",
        "!pip install pydriller\n",
        "!pip install pandas\n",
        "!pip install spacy"
      ],
      "id": "8ee24339",
      "execution_count": 6,
      "outputs": [
        {
          "output_type": "stream",
          "name": "stdout",
          "text": [
            "Collecting pydriller\n",
            "  Downloading PyDriller-2.0-py3-none-any.whl (65 kB)\n",
            "\u001b[?25l\r\u001b[K     |█████                           | 10 kB 22.5 MB/s eta 0:00:01\r\u001b[K     |██████████                      | 20 kB 9.6 MB/s eta 0:00:01\r\u001b[K     |███████████████                 | 30 kB 7.9 MB/s eta 0:00:01\r\u001b[K     |████████████████████            | 40 kB 7.5 MB/s eta 0:00:01\r\u001b[K     |█████████████████████████       | 51 kB 4.2 MB/s eta 0:00:01\r\u001b[K     |██████████████████████████████  | 61 kB 4.4 MB/s eta 0:00:01\r\u001b[K     |████████████████████████████████| 65 kB 2.2 MB/s \n",
            "\u001b[?25hRequirement already satisfied: pytz in /usr/local/lib/python3.7/dist-packages (from pydriller) (2018.9)\n",
            "Collecting gitpython\n",
            "  Downloading GitPython-3.1.24-py3-none-any.whl (180 kB)\n",
            "\u001b[K     |████████████████████████████████| 180 kB 8.7 MB/s \n",
            "\u001b[?25hCollecting lizard\n",
            "  Downloading lizard-1.17.9-py2.py3-none-any.whl (64 kB)\n",
            "\u001b[K     |████████████████████████████████| 64 kB 3.2 MB/s \n",
            "\u001b[?25hRequirement already satisfied: typing-extensions>=3.7.4.3 in /usr/local/lib/python3.7/dist-packages (from gitpython->pydriller) (3.10.0.2)\n",
            "Collecting gitdb<5,>=4.0.1\n",
            "  Downloading gitdb-4.0.9-py3-none-any.whl (63 kB)\n",
            "\u001b[K     |████████████████████████████████| 63 kB 1.6 MB/s \n",
            "\u001b[?25hCollecting smmap<6,>=3.0.1\n",
            "  Downloading smmap-5.0.0-py3-none-any.whl (24 kB)\n",
            "Installing collected packages: smmap, gitdb, lizard, gitpython, pydriller\n",
            "Successfully installed gitdb-4.0.9 gitpython-3.1.24 lizard-1.17.9 pydriller-2.0 smmap-5.0.0\n",
            "Requirement already satisfied: pandas in /usr/local/lib/python3.7/dist-packages (1.1.5)\n",
            "Requirement already satisfied: numpy>=1.15.4 in /usr/local/lib/python3.7/dist-packages (from pandas) (1.19.5)\n",
            "Requirement already satisfied: python-dateutil>=2.7.3 in /usr/local/lib/python3.7/dist-packages (from pandas) (2.8.2)\n",
            "Requirement already satisfied: pytz>=2017.2 in /usr/local/lib/python3.7/dist-packages (from pandas) (2018.9)\n",
            "Requirement already satisfied: six>=1.5 in /usr/local/lib/python3.7/dist-packages (from python-dateutil>=2.7.3->pandas) (1.15.0)\n",
            "Requirement already satisfied: spacy in /usr/local/lib/python3.7/dist-packages (2.2.4)\n",
            "Requirement already satisfied: wasabi<1.1.0,>=0.4.0 in /usr/local/lib/python3.7/dist-packages (from spacy) (0.8.2)\n",
            "Requirement already satisfied: tqdm<5.0.0,>=4.38.0 in /usr/local/lib/python3.7/dist-packages (from spacy) (4.62.3)\n",
            "Requirement already satisfied: setuptools in /usr/local/lib/python3.7/dist-packages (from spacy) (57.4.0)\n",
            "Requirement already satisfied: numpy>=1.15.0 in /usr/local/lib/python3.7/dist-packages (from spacy) (1.19.5)\n",
            "Requirement already satisfied: preshed<3.1.0,>=3.0.2 in /usr/local/lib/python3.7/dist-packages (from spacy) (3.0.6)\n",
            "Requirement already satisfied: plac<1.2.0,>=0.9.6 in /usr/local/lib/python3.7/dist-packages (from spacy) (1.1.3)\n",
            "Requirement already satisfied: blis<0.5.0,>=0.4.0 in /usr/local/lib/python3.7/dist-packages (from spacy) (0.4.1)\n",
            "Requirement already satisfied: thinc==7.4.0 in /usr/local/lib/python3.7/dist-packages (from spacy) (7.4.0)\n",
            "Requirement already satisfied: catalogue<1.1.0,>=0.0.7 in /usr/local/lib/python3.7/dist-packages (from spacy) (1.0.0)\n",
            "Requirement already satisfied: cymem<2.1.0,>=2.0.2 in /usr/local/lib/python3.7/dist-packages (from spacy) (2.0.6)\n",
            "Requirement already satisfied: srsly<1.1.0,>=1.0.2 in /usr/local/lib/python3.7/dist-packages (from spacy) (1.0.5)\n",
            "Requirement already satisfied: murmurhash<1.1.0,>=0.28.0 in /usr/local/lib/python3.7/dist-packages (from spacy) (1.0.6)\n",
            "Requirement already satisfied: requests<3.0.0,>=2.13.0 in /usr/local/lib/python3.7/dist-packages (from spacy) (2.23.0)\n",
            "Requirement already satisfied: importlib-metadata>=0.20 in /usr/local/lib/python3.7/dist-packages (from catalogue<1.1.0,>=0.0.7->spacy) (4.8.2)\n",
            "Requirement already satisfied: typing-extensions>=3.6.4 in /usr/local/lib/python3.7/dist-packages (from importlib-metadata>=0.20->catalogue<1.1.0,>=0.0.7->spacy) (3.10.0.2)\n",
            "Requirement already satisfied: zipp>=0.5 in /usr/local/lib/python3.7/dist-packages (from importlib-metadata>=0.20->catalogue<1.1.0,>=0.0.7->spacy) (3.6.0)\n",
            "Requirement already satisfied: idna<3,>=2.5 in /usr/local/lib/python3.7/dist-packages (from requests<3.0.0,>=2.13.0->spacy) (2.10)\n",
            "Requirement already satisfied: urllib3!=1.25.0,!=1.25.1,<1.26,>=1.21.1 in /usr/local/lib/python3.7/dist-packages (from requests<3.0.0,>=2.13.0->spacy) (1.24.3)\n",
            "Requirement already satisfied: chardet<4,>=3.0.2 in /usr/local/lib/python3.7/dist-packages (from requests<3.0.0,>=2.13.0->spacy) (3.0.4)\n",
            "Requirement already satisfied: certifi>=2017.4.17 in /usr/local/lib/python3.7/dist-packages (from requests<3.0.0,>=2.13.0->spacy) (2021.10.8)\n"
          ]
        }
      ]
    },
    {
      "cell_type": "code",
      "metadata": {
        "id": "72e76292"
      },
      "source": [
        "from pydriller import *\n",
        "import pandas as pd\n",
        "import nltk\n",
        "import spacy\n",
        "import re\n",
        "from functools import reduce"
      ],
      "id": "72e76292",
      "execution_count": 7,
      "outputs": []
    },
    {
      "cell_type": "code",
      "metadata": {
        "colab": {
          "base_uri": "https://localhost:8080/"
        },
        "id": "845d5eb7",
        "outputId": "03c49e9c-1864-45cd-af3c-bc94325e3065"
      },
      "source": [
        "repodf = pd.read_pickle(\"repos.pkl\")\n",
        "print(repodf.shape)\n",
        "spacy_tokenizer = spacy.load(\"en_core_web_sm\")\n",
        "print(repodf)"
      ],
      "id": "845d5eb7",
      "execution_count": 12,
      "outputs": [
        {
          "output_type": "stream",
          "name": "stdout",
          "text": [
            "(13590, 1)\n",
            "                                 repo\n",
            "0                     soimort/you-get\n",
            "1                      apache/airflow\n",
            "2                      pytorch/vision\n",
            "3                      asciimoo/searx\n",
            "4              tensorflow/probability\n",
            "...                               ...\n",
            "13585         praekelt/python-ambient\n",
            "13586                 zenreach/py-era\n",
            "13587  TakesxiSximada/custom_settings\n",
            "13588            openpermissions/bass\n",
            "13589               xnuinside/clifier\n",
            "\n",
            "[13590 rows x 1 columns]\n"
          ]
        }
      ]
    },
    {
      "cell_type": "code",
      "metadata": {
        "id": "449680fc"
      },
      "source": [
        "import re\n",
        "def basic_filter(message):\n",
        "    return message.split(\"\\n\", 1)[0].strip()\n",
        "\n",
        "# Remove [label] in front of commit if exists\n",
        "def label_filter(message):\n",
        "    if (message.startswith('[')):\n",
        "        end_bracket_index = message.find(']')\n",
        "        if (end_bracket_index == -1):\n",
        "            return None\n",
        "        return message[:end_bracket_index+1]\n",
        "    return message\n",
        "\n",
        "def camel_case_split(str):\n",
        "    return re.findall(r'[A-Z](?:[a-z]+|[A-Z]*(?=[A-Z]|$))', str)\n",
        "\n",
        "\n",
        "def case_splitter(token):\n",
        "    return list(map(lambda x: x.lower(), camel_case_split(token[0].upper() + token[1:])))\n",
        "\n",
        "def diff_processing(mf):\n",
        "    #print(mf.diff)\n",
        "    diff = '\\n'.join(map(lambda x: x[1], filter(lambda y: y[0] % 2 == 0, enumerate(mf.diff.split(\"@@\")))))\n",
        "    diff = diff.replace('\\n+', '\\n<add>').replace('\\n-', '\\n<del>')\n",
        "    #TODO\n",
        "    #replace_symbol_in_string = ex)url\n",
        "    replace_number = re.compile(r\"\"\"\n",
        "    (?:\n",
        "      0x[0-9A-Fa-f]+        #hexadecimal number\n",
        "      |[0-9]+               #decimal number\n",
        "    )\n",
        "    #(?:\\.[0-9]+)?           #fraction(optional)\n",
        "    \"\"\",re.VERBOSE)\n",
        "    diff = replace_number.sub(\" <number> \",diff)\n",
        "    diff = re.sub(r\"(?:\\n[ \\t\\r\\f\\v]*)+\",\"\\n\",diff) #Join continuous row change\n",
        "    token_regex = r\"\"\"(?x)\n",
        "      <(?:add|del|number)>   #Filtered eariler\n",
        "    #|[-+*/^&~|=%!]=?        #Symbols which can join with equal\n",
        "    #|[<>]{1,2}              #neq and bit shift symbols\n",
        "    #|#+                     #Comment symbol\n",
        "    #|[@?$]                  #Other symbols\n",
        "    |(?:[#][\\s]*)+           #Quotation\n",
        "    |(?:[-+*/^&~|=%!<>@?$][\\s]*)+     #Sequence of symbols\n",
        "    |[\\n]                    #Change row\n",
        "    |[a-zA-Z]+               #General text\n",
        "    \"\"\"\n",
        "    #'\"`,.;:()[]{}_ not included\n",
        "    token_initial = nltk.tokenize.regexp_tokenize(diff,token_regex)\n",
        "    token_camel_case_split = reduce(lambda a,b:a+b,map(lambda a: case_splitter(a) if 97<=ord(a[0].lower())<122 else [a], token_initial),[])\n",
        "    #print(token_camel_case_split)\n",
        "    #input()\n",
        "    return token_camel_case_split\n",
        "\n",
        "\n",
        "def parse_repo_commits(repo_name, commit_limit=50):\n",
        "    data = []\n",
        "    commit_count = 0\n",
        "    for commit in Repository(\n",
        "        f\"https://github.com/{repo_name}\",\n",
        "        only_modifications_with_file_types=[\".py\"],\n",
        "        only_no_merge=True,\n",
        "        order='reverse'\n",
        "    ).traverse_commits():\n",
        "        if (commit_count >= commit_limit): break\n",
        "        line = basic_filter(commit.msg)\n",
        "        line = label_filter(line)\n",
        "        \n",
        "        if (line is None):\n",
        "            print(f\"[DEBUG] Label filter return None for repo {repo} and hash {commit.hash}\")\n",
        "        \n",
        "        line = line.replace('_', ' ')\n",
        "        \n",
        "        # Only alphabet and blank characters\n",
        "        if (not line.isascii() or not all([c.isalpha() or c.isspace() for c in line])):\n",
        "            continue\n",
        "        \n",
        "        '''\n",
        "        if (not line.isascii()):                     # Ignore non-English\n",
        "            continue\n",
        "        \n",
        "        if ('@' in line and not 'decorat' in line):  # Ignore Github mentions\n",
        "            continue\n",
        "        \n",
        "        if ('#' in line):                            # Ignore Github issue\n",
        "            continue\n",
        "        '''\n",
        "        \n",
        "        tokens = spacy_tokenizer(line)\n",
        "        \n",
        "        # VERB filter\n",
        "        if (tokens[0].pos_ != 'VERB'):\n",
        "            continue\n",
        "        \n",
        "        tokens = reduce(lambda a,b: a+b, map(case_splitter, [token.text for token in tokens]), [])\n",
        "        \n",
        "        if (len(tokens) < 3 or len(tokens) > 30):\n",
        "            continue\n",
        "        \n",
        "        # Check if changed files are python\n",
        "        file_failed = False\n",
        "        \n",
        "        for mf in commit.modified_files:\n",
        "            if (not mf.filename.endswith(\".py\")):\n",
        "                file_failed = True\n",
        "                break\n",
        "        \n",
        "        if (file_failed):\n",
        "            continue\n",
        "        \n",
        "        diff_tokens = list(map(diff_processing, commit.modified_files))\n",
        "        diff_tokens_size = sum(map(len, diff_tokens))\n",
        "        if (diff_tokens_size > 100):\n",
        "          continue\n",
        "        \n",
        "        for mf in commit.modified_files:\n",
        "          print(mf.diff)\n",
        "          print(\"\")\n",
        "\n",
        "\n",
        "        print(list(diff_tokens))\n",
        "        input()\n",
        "        \n",
        "        \n",
        "        data.append([repo_name, commit.hash, ' '.join(tokens), diff])\n",
        "        commit_count += 1\n",
        "\n",
        "    return pd.DataFrame(data, columns=[\"repo\", \"hash\", \"commit_messsage\", \"diff\"])"
      ],
      "id": "449680fc",
      "execution_count": 33,
      "outputs": []
    },
    {
      "cell_type": "code",
      "metadata": {
        "colab": {
          "base_uri": "https://localhost:8080/"
        },
        "id": "b2854419",
        "outputId": "9f606454-4a51-4e03-9e6f-51d50f368e57"
      },
      "source": [
        "import time\n",
        "start = time.time()\n",
        "df = parse_repo_commits(\"soimort/you-get\")\n",
        "#df = parse_repo_commits(\"tensorflow/probability\")\n",
        "end = time.time()\n",
        "print(end - start)\n",
        "df.head(3)"
      ],
      "id": "b2854419",
      "execution_count": null,
      "outputs": [
        {
          "output_type": "stream",
          "name": "stdout",
          "text": [
            "@@ -12,6 +12,8 @@ class Bilibili(VideoExtractor):\n",
            " \n",
            "     # Bilibili media encoding options, in descending quality order.\n",
            "     stream_types = [\n",
            "+        {'id': 'hdflv2', 'quality': 125, 'audio_quality': 30280,\n",
            "+         'container': 'FLV', 'video_resolution': '3840p', 'desc': '真彩 HDR'},\n",
            "         {'id': 'hdflv2_4k', 'quality': 120, 'audio_quality': 30280,\n",
            "          'container': 'FLV', 'video_resolution': '2160p', 'desc': '超清 4K'},\n",
            "         {'id': 'flv_p60', 'quality': 116, 'audio_quality': 30280,\n",
            "\n",
            "\n",
            "[['\\n', 'class', 'bilibili', 'video', 'extractor', '\\n', '# ', 'bilibili', 'media', 'encoding', 'options', 'in', 'descending', 'quality', 'order', '\\n', 'stream', 'types', '= ', '\\n', '<add>', 'id', 'hdflv', '<number>', 'quality', '<number>', 'audio', 'quality', '<number>', '\\n', '<add>', 'container', 'flv', 'video', 'resolution', '<number>', 'p', 'desc', 'hdr', '\\n', 'id', 'hdflv', '<number>', '<number>', 'k', 'quality', '<number>', 'audio', 'quality', '<number>', '\\n', 'container', 'flv', 'video', 'resolution', '<number>', 'p', 'desc', '<number>', 'k', '\\n', 'id', 'flv', 'p', '<number>', 'quality', '<number>', 'audio', 'quality', '<number>', '\\n']]\n"
          ]
        }
      ]
    },
    {
      "cell_type": "code",
      "metadata": {
        "id": "0f65faf9"
      },
      "source": [
        "import multiprocessing\n",
        "\n",
        "data = []\n",
        "\n",
        "def f(repo):\n",
        "    df = parse_repo_commits(repo)\n",
        "    df.to_pickle(f\"./repos/{repo.replace('/', '+')}.pkl\")\n",
        "    print(repo, \"Done\")\n",
        "    return df\n",
        "\n",
        "pool = multiprocessing.Pool()\n",
        "outputs = pool.map(f, repodf['repo'][:3])\n",
        "pd.concat(outputs).to_pickle(\"data.pkl\")"
      ],
      "id": "0f65faf9",
      "execution_count": null,
      "outputs": []
    },
    {
      "cell_type": "code",
      "metadata": {
        "id": "04bfe004"
      },
      "source": [
        "df = pd.read_pickle(\"data.pkl\")\n",
        "df.head(3)"
      ],
      "id": "04bfe004",
      "execution_count": null,
      "outputs": []
    },
    {
      "cell_type": "code",
      "metadata": {
        "id": "fbdfa1a5"
      },
      "source": [
        ""
      ],
      "id": "fbdfa1a5",
      "execution_count": null,
      "outputs": []
    }
  ]
}